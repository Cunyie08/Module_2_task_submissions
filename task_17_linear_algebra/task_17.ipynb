{
 "cells": [
  {
   "cell_type": "markdown",
   "id": "1d68be6f",
   "metadata": {},
   "source": [
    "## **Case Study: Student Performance Analysis with Linear Algebra** ##"
   ]
  },
  {
   "cell_type": "markdown",
   "id": "e8e5eb79",
   "metadata": {},
   "source": [
    "**3.1 Representing data as a matrix**\n",
    "\n",
    "Student_scores_sheet (4x3):  \n",
    "\n",
    "        rows = students , \n",
    "        columns = subjects\n",
    "\n",
    "S = \n",
    "\\begin{bmatrix}\n",
    "80 & 70 & 90 \\\\\n",
    "60 & 85 & 75\\\\\n",
    "95 & 88 & 92\\\\\n",
    "70 & 60 & 65\\\\\n",
    "\\end{bmatrix} \n",
    "                "
   ]
  },
  {
   "cell_type": "code",
   "execution_count": 1,
   "id": "1eabd792",
   "metadata": {},
   "outputs": [
    {
     "data": {
      "text/plain": [
       "array([[80, 70, 90],\n",
       "       [60, 85, 75],\n",
       "       [95, 88, 92],\n",
       "       [70, 60, 65]])"
      ]
     },
     "execution_count": 1,
     "metadata": {},
     "output_type": "execute_result"
    }
   ],
   "source": [
    "# 3.1 Representing data as a matrix \n",
    "import numpy as np\n",
    "\n",
    "student_scores_sheet = np.array(\n",
    "                                [[80,70,90],\n",
    "                                [60,85,75],\n",
    "                                [95,88,92],\n",
    "                                [70,60,65]]\n",
    "                                )\n",
    "\n",
    "student_scores_sheet"
   ]
  },
  {
   "cell_type": "markdown",
   "id": "908d3361",
   "metadata": {},
   "source": [
    "\n",
    "**3.2   Compute the total Score for each student by summing across the row vector**\n",
    "\n",
    "- Total Scores / student:\n",
    "```\n",
    "    student_1 = (80 + 70 + 90) = 240,\n",
    "    student_2 = (60 + 85 + 75) = 220,\n",
    "    student_3 = (95 + 88 + 92)  = 275,\n",
    "    student_4 = (70 + 60 + 65)  = 195\n",
    "```\n",
    "Students_record= \n",
    "\n",
    "\\begin{bmatrix}\n",
    "Students & Total Scores\\\\\n",
    "Student_1 & 240 \\\\\n",
    "Student_2 & 220\\\\\n",
    "Student_3 & 275\\\\\n",
    "Student_4 & 195\\\\\n",
    "\\end{bmatrix} "
   ]
  },
  {
   "cell_type": "code",
   "execution_count": 2,
   "id": "fa9409d4",
   "metadata": {},
   "outputs": [
    {
     "name": "stdout",
     "output_type": "stream",
     "text": [
      "The total score for each student: [240 220 275 195]\n"
     ]
    }
   ],
   "source": [
    "# 3.2 Computing the total scores for each student summing across the row vector using numpy\n",
    "# Import libraries\n",
    "import numpy as np\n",
    "\n",
    "student_scores_sheet = np.array(\n",
    "                                [[80,70,90],\n",
    "                                [60,85,75],\n",
    "                                [95,88,92],\n",
    "                                [70,60,65]]\n",
    "                                )\n",
    "\n",
    "total_scores_array = np.sum(student_scores_sheet, axis=1)\n",
    "print(f\"The total score for each student: {total_scores_array}\")\n",
    "\n"
   ]
  },
  {
   "cell_type": "markdown",
   "id": "6c1ddcbc",
   "metadata": {},
   "source": [
    "\n",
    "**3.3   Applying Weights (Scalar Multiplication)**\n",
    "\n",
    "- Maths is twice as important as the other subject i.e. scalar = 2 \n",
    "\n",
    "Maths_subjects = \n",
    "2 x \n",
    "\\begin{bmatrix}\n",
    "80 \\\\ 60\\\\ 95\\\\ 70\\\\\n",
    "\\end{bmatrix} \n",
    "\n",
    "Maths_score_student1 = (2x80) = 160\n",
    "Maths_score_student2 = (2x60) = 120\n",
    "Maths_score_student3 = (2x70) = 190\n",
    "Maths_score_student4 = (2x80) = 140\n",
    "\n",
    "New_maths_scores = \n",
    "\n",
    "\\begin{bmatrix}\n",
    "Students & Scores\\\\\n",
    "Student_1 & 160 \\\\\n",
    "Student_2 & 120\\\\\n",
    "Student_3 & 190\\\\\n",
    "Student_4 & 140\\\\\n",
    "\\end{bmatrix} \n"
   ]
  },
  {
   "cell_type": "code",
   "execution_count": 3,
   "id": "f6c2aac9",
   "metadata": {},
   "outputs": [
    {
     "name": "stdout",
     "output_type": "stream",
     "text": [
      "The new maths scores for each student is:\n",
      "\n",
      "Student_1:\n",
      "160\n",
      "Student_2:\n",
      "120\n",
      "Student_3:\n",
      "190\n",
      "Student_4:\n",
      "140\n"
     ]
    }
   ],
   "source": [
    "# Applying Weights (Scalar Multiplication)\n",
    "    # Maths is twice as important as the other subject i.e. scalar = 2\n",
    "\n",
    "import numpy as np\n",
    "\n",
    "scalar = 2\n",
    "student_scores_sheet = np.array(\n",
    "                                [[80,70,90],\n",
    "                                [60,85,75],\n",
    "                                [95,88,92],\n",
    "                                [70,60,65]]\n",
    "                                )\n",
    "student_maths_scores = np.array(student_scores_sheet[:, 0])\n",
    "\n",
    "new_maths_scores = (scalar * student_maths_scores)\n",
    "\n",
    "print(f\"The new maths scores for each student is:\\n\")\n",
    "print(f\"Student_1:\\n{new_maths_scores[0]}\")\n",
    "print(f\"Student_2:\\n{new_maths_scores[1]}\")\n",
    "print(f\"Student_3:\\n{new_maths_scores[2]}\")\n",
    "print(f\"Student_4:\\n{new_maths_scores[3]}\")\n",
    "                    "
   ]
  },
  {
   "cell_type": "markdown",
   "id": "c3be9171",
   "metadata": {},
   "source": [
    "\n",
    "**3.4   Average Score per Subject(Matrix Operations)**\n",
    "\n",
    "- Compute the average score for each subject by calculating the column-wise mean.\n",
    "\n",
    "Student_scores_sheet (4x3):  \n",
    "\n",
    "        rows = students , \n",
    "        columns = subjects\n",
    "\n",
    "\\begin{bmatrix}\n",
    "Students & Maths & English & Science \\\\\n",
    "Student_1 & 80 & 70 & 90 \\\\\n",
    "Student_2 & 60 & 85 & 75\\\\\n",
    "Student_3 & 95 & 88 & 92\\\\\n",
    "Student_4 & 70 & 60 & 65\\\\\n",
    "\\end{bmatrix} \n",
    "\n",
    "Total_students = 4\n",
    "\n",
    "Avg_subject = Scores_subject / Total_students\n",
    "\n",
    "```\n",
    "Avg_maths_score = (80 + 60 + 95 + 70)/4 = 305/4 = 76.25\n",
    "Avg_english_score = (70 + 85 + 88 + 60)/4 = 305/4 = 75.75\n",
    "Avg_science_score = (90 + 75 + 92 + 65)/4 = 322/4 = 80.5\n",
    "```\n",
    "\n",
    "Average_score= \n",
    "\n",
    "\\begin{bmatrix}\n",
    "Subjects & Average Scores\\\\\n",
    "Maths & 76.25 \\\\\n",
    "English & 75.75\\\\\n",
    "Science & 80.5\\\\\n",
    "\\end{bmatrix} \n",
    "\n",
    "\n"
   ]
  },
  {
   "cell_type": "code",
   "execution_count": 4,
   "id": "6f4dc806",
   "metadata": {},
   "outputs": [
    {
     "name": "stdout",
     "output_type": "stream",
     "text": [
      "The average score for maths is 76.25\n",
      "The average score for english is 75.75\n",
      "The average score for science is 80.5\n"
     ]
    }
   ],
   "source": [
    "# 3.4   Average Score per Subject(Matrix Operations)\n",
    " # Compute the average score for each subject by calculating the column-wise mean.\n",
    "\n",
    "import numpy as np\n",
    "student_scores_sheet = np.array(\n",
    "                                [[80,70,90],\n",
    "                                [60,85,75],\n",
    "                                [95,88,92],\n",
    "                                [70,60,65]]\n",
    "                                )\n",
    "avg_maths_score = np.mean(student_scores_sheet[:, 0])\n",
    "avg_english_score = np.mean(student_scores_sheet[:, 1])\n",
    "avg_science_score = np.mean(student_scores_sheet[:, 2])\n",
    "\n",
    "print(f\"The average score for maths is {avg_maths_score}\")\n",
    "print(f\"The average score for english is {avg_english_score}\")\n",
    "print(f\"The average score for science is {avg_science_score}\")"
   ]
  },
  {
   "cell_type": "markdown",
   "id": "2b0869c1",
   "metadata": {},
   "source": [
    "**3.5   Final Grades using Matrix Multiplication)**\n",
    "\n",
    "- Compute the average score for each subject by calculating the column-wise mean.\n",
    "\n",
    "Student_scores_sheet (4x3):  \n",
    "\n",
    "        rows = students , \n",
    "        columns = subjects\n",
    "\n",
    "\\begin{bmatrix}\n",
    "Students & Maths & English & Science \\\\\n",
    "Student_1 & 80 & 70 & 90 \\\\\n",
    "Student_2 & 60 & 85 & 75\\\\\n",
    "Student_3 & 95 & 88 & 92\\\\\n",
    "Student_4 & 70 & 60 & 65\\\\\n",
    "\\end{bmatrix} \n",
    "\n",
    "```\n",
    "weight_vector = [ \n",
    "        30% = 0.3 = maths\n",
    "        40% = 0.4 = english\n",
    "        30% = 0.3 = science\n",
    "        ]\n",
    "\n",
    "weight_vector (3x1)\n",
    "\n",
    "Final_grades (4x1)= student_scores x weight_vector\n",
    "        [\n",
    "        student_1_grade = [(80 x 0.3), (70 x 0.4), (90 x 0.3)]\n",
    "        student_2_grade = [(60 x 0.3), (85 x 0.4), (75 x 0.3)]\n",
    "        student_3_grade = [(95 x 0.3), (88 x 0.4), (92 x 0.3)]\n",
    "        student_4_grade = [(70 x 0.3), (60 x 0.4), (65 x 0.3)]\n",
    "        ]               \n",
    "Final_grades (4x1)= [\n",
    "        student_1_grade = [24   28        27]\n",
    "        student_2_grade = [18   34      22.5]\n",
    "        student_3_grade = [28.5 35.2    27.6]\n",
    "        student_4_grade = [21   24      19.5]\n",
    "        ] \n",
    "\n",
    "- Final_grade / student:\n",
    "\n",
    "    student_1 = (24 + 28 + 27) = 79,\n",
    "    student_2 = (18 + 34 + 22.5) = 74.5,\n",
    "    student_3 = (28.5 + 35.2 + 27.6)  = 91.3,\n",
    "    student_4 = (21  + 24 + 19.5)  = 64.5\n",
    "\n",
    "        A = 75 - 100\n",
    "        B = 65 - 74\n",
    "        C = 64 - 55\n",
    "        D = 54 - 45\n",
    "        E = 44 - 40\n",
    "        F = 39 - 0\n",
    "\n",
    "```\n",
    "Students_record= \n",
    "\n",
    "\\begin{bmatrix}\n",
    "Students & Scores &Grades\\\\\n",
    "Student_1 & 79 & A\\\\\n",
    "Student_2 & 74.5 & B\\\\\n",
    "Student_3 & 91.3 & A\\\\\n",
    "Student_4 & 64.5 & C\\\\\n",
    "\\end{bmatrix} "
   ]
  },
  {
   "cell_type": "code",
   "execution_count": 5,
   "id": "9feec389",
   "metadata": {},
   "outputs": [
    {
     "name": "stdout",
     "output_type": "stream",
     "text": [
      "The Final Grades:\n",
      "\n",
      "Student_1: 79.0\n",
      "Student_2: 74.5\n",
      "Student_3: 91.3\n",
      "Student_4: 64.5\n"
     ]
    }
   ],
   "source": [
    "# 3.5   Final Grades using Matrix Multiplication)\n",
    "    # Compute the average score for each subject by calculating the column-wise mean.\n",
    "\n",
    "weight_vector= [0.3, 0.4, 0.3]\n",
    "\n",
    "\n",
    "student_scores_sheet = np.array(\n",
    "                                [[80,70,90],\n",
    "                                [60,85,75],\n",
    "                                [95,88,92],\n",
    "                                [70,60,65]]\n",
    "                                )\n",
    "student_1 = np.array(student_scores_sheet[0, :])\n",
    "student_2 = np.array(student_scores_sheet[1, :])\n",
    "student_3 = np.array(student_scores_sheet[2, :])\n",
    "student_4 = np.array(student_scores_sheet[3, :])\n",
    "\n",
    "# Calculating the sum of the students scores\n",
    "final_student_1 = np.sum(student_1 * weight_vector)\n",
    "final_student_2 = np.sum(student_2 * weight_vector)\n",
    "final_student_3 = np.sum(student_3 * weight_vector)\n",
    "final_student_4 = np.sum(student_4 * weight_vector)\n",
    "\n",
    "# Grade for each scores \n",
    "Grades = {\n",
    "    'A': 75 - 100,\n",
    "    'B': 65 - 74,\n",
    "    'C': 64 - 55,\n",
    "    'D': 54 - 45,\n",
    "    'E': 44 - 40,\n",
    "    'F': 39 - 0,\n",
    "    }\n",
    "\n",
    "print(f\"The Final Grades:\\n\")\n",
    "print(f\"Student_1: {final_student_1}\")\n",
    "print(f\"Student_2: {final_student_2}\")\n",
    "print(f\"Student_3: {final_student_3}\")\n",
    "print(f\"Student_4: {final_student_4}\")\n",
    "\n",
    "                    \n"
   ]
  }
 ],
 "metadata": {
  "kernelspec": {
   "display_name": "Python 3",
   "language": "python",
   "name": "python3"
  },
  "language_info": {
   "codemirror_mode": {
    "name": "ipython",
    "version": 3
   },
   "file_extension": ".py",
   "mimetype": "text/x-python",
   "name": "python",
   "nbconvert_exporter": "python",
   "pygments_lexer": "ipython3",
   "version": "3.13.7"
  }
 },
 "nbformat": 4,
 "nbformat_minor": 5
}
