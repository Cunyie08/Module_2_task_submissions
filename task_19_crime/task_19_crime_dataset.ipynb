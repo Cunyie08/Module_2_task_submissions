{
 "cells": [
  {
   "cell_type": "markdown",
   "id": "cf5b8f9b",
   "metadata": {},
   "source": [
    "# Statistical Analysis for Chicago crime dataset\n",
    "\n"
   ]
  },
  {
   "cell_type": "markdown",
   "id": "e3755c80",
   "metadata": {},
   "source": [
    "# Data ingestion"
   ]
  },
  {
   "cell_type": "code",
   "execution_count": 1,
   "id": "b47e17c7",
   "metadata": {},
   "outputs": [],
   "source": [
    "# %pip install gdown dask pyarrow\n",
    "# import dask.dataframe as dd"
   ]
  },
  {
   "cell_type": "code",
   "execution_count": 2,
   "id": "406d23d6",
   "metadata": {},
   "outputs": [],
   "source": [
    "# # import lib for loading the dataset \n",
    "# import gdown\n",
    "# import zipfile\n",
    "\n",
    "# # Importing the dataset from google drive\n",
    "# raw_link = \"https://drive.google.com/file/d/1ib1PWK_3oaaSfThqfnfSoPZq7vA1g33X/view?usp=sharing\"\n",
    "# id = \"1ib1PWK_3oaaSfThqfnfSoPZq7vA1g33X\"\n",
    "# file_path = \"crime.zip\"\n",
    "\n",
    "# # Loading the dataset\n",
    "# gdown.download(f\"https://drive.google.com/uc?id={id}\",file_path, quiet=False)\n",
    "\n",
    "# uncomment this code to download the data.\n"
   ]
  },
  {
   "cell_type": "code",
   "execution_count": 3,
   "id": "761c3e16",
   "metadata": {},
   "outputs": [],
   "source": [
    "# Data wrangling libraries\n",
    "import pandas as pd\n",
    "import numpy as np\n",
    "\n",
    "# Data visualization libraries\n",
    "import seaborn as sns\n",
    "import matplotlib.pyplot as plt\n",
    "\n",
    "# lib for datetime\n",
    "from datetime import datetime, timedelta\n",
    "\n",
    "# Ignore warnings\n",
    "import warnings\n",
    "warnings.filterwarnings(\"ignore\")\n",
    "\n",
    "# Set up views\n",
    "pd.set_option('display.max_columns', None)\n",
    "pd.set_option('display.width', 1000)"
   ]
  },
  {
   "cell_type": "code",
   "execution_count": 4,
   "id": "fc245836",
   "metadata": {},
   "outputs": [],
   "source": [
    "# Extracting and listing the files in the zipped dataset\n",
    "# with zipfile.ZipFile(file_path, \"r\") as z:\n",
    "#     # List files\n",
    "#     print(z.namelist()) \n",
    "#     z.extractall(\"crime_dataset\")\n",
    "\n",
    "\n",
    "# Commenting this out because I have read/loaded the dataset to my workspace.\n",
    "    "
   ]
  },
  {
   "cell_type": "markdown",
   "id": "304c7b62",
   "metadata": {},
   "source": []
  },
  {
   "cell_type": "code",
   "execution_count": null,
   "id": "ccbd749d",
   "metadata": {},
   "outputs": [],
   "source": [
    "import pandas as pd\n",
    "# Define data types to reduce memory usage\n",
    "dtype_dict = {\n",
    "    'ID' : 'Int32',\n",
    "    'Case Number': 'string',\n",
    "    'Block': 'string',\n",
    "    'IUCR': 'category',\n",
    "    'Primary Type': 'category',\n",
    "    'Description': 'category',\n",
    "    'Location Description': 'category',\n",
    "    'Arrest': 'boolean',\n",
    "    'Domestic': 'boolean',\n",
    "    'Beat': 'Int64',\n",
    "    'District': 'Int64',\n",
    "    'Ward': 'Int64',\n",
    "    'Community Area': 'Int64',\n",
    "    'FBI Code': 'category',\n",
    "    'X Coordinate': 'float32',\n",
    "    'Y Coordinate': 'float32',\n",
    "    'Year': 'float64',\n",
    "    'Latitude': 'float32',\n",
    "    'Longitude': 'float32',\n",
    "    'Location': 'string'\n",
    "}\n",
    "\n",
    "# Loading the dataset with dask to handle the huge csv files\n",
    "crime_data = pd.read_csv('crime_dataset/Crimes_-_2001_to_Present.csv',dtype=dtype_dict, parse_dates=['Date', 'Updated On'],date_format=\"%m/%d/%y %I:%M:%S %p\",low_memory=False,keep_default_na=True)\n",
    "\n",
    "\n",
    "\n",
    "# Print the first five rows\n",
    "crime_data.head()\n",
    "\n",
    "\n"
   ]
  },
  {
   "cell_type": "code",
   "execution_count": null,
   "id": "ac3c88ec",
   "metadata": {},
   "outputs": [],
   "source": [
    "# Creating a copy of the dataset\n",
    "crime_dataset = crime_data.copy()\n",
    "crime_dataset.head()\n"
   ]
  },
  {
   "cell_type": "markdown",
   "id": "9a2f5eb8",
   "metadata": {},
   "source": [
    "# Preliminary data analysis"
   ]
  },
  {
   "cell_type": "code",
   "execution_count": null,
   "id": "9b7b5913",
   "metadata": {},
   "outputs": [],
   "source": [
    "# Converting the date to datetime\n",
    "crime_dataset['Date'] = pd.to_datetime(crime_dataset['Date'])\n",
    "crime_dataset['Date'].dtypes"
   ]
  },
  {
   "cell_type": "code",
   "execution_count": null,
   "id": "432f71e0",
   "metadata": {},
   "outputs": [],
   "source": [
    "# Checking the data type\n",
    "crime_data_type = crime_dataset.dtypes\n",
    "print(\"Data type\\n:\", crime_data_type)"
   ]
  },
  {
   "cell_type": "code",
   "execution_count": null,
   "id": "3dd63ffd",
   "metadata": {},
   "outputs": [],
   "source": [
    "# Printing the columns \n",
    "crime_data_cols = pd.read_csv('crime_dataset/Crimes_-_2001_to_Present.csv', nrows=5)\n",
    "print(crime_data_cols.columns)\n"
   ]
  },
  {
   "cell_type": "code",
   "execution_count": null,
   "id": "e515b4ac",
   "metadata": {},
   "outputs": [],
   "source": [
    "# Renaming the columns (removing whitespaces, convert to lower case and replace \" \" with \",\") \n",
    "crime_dataset = crime_data.rename(columns=lambda x: x.strip().lower().replace(\" \", \"_\"))\n",
    "first_five_rows = crime_dataset.head()\n",
    "print(\"First five rows in the dataset:\", first_five_rows)"
   ]
  },
  {
   "cell_type": "code",
   "execution_count": null,
   "id": "e2d16259",
   "metadata": {},
   "outputs": [],
   "source": [
    "# Checking the dataset for missing values\n",
    "crime_dataset.isna().sum()"
   ]
  },
  {
   "cell_type": "code",
   "execution_count": null,
   "id": "78d593b8",
   "metadata": {},
   "outputs": [],
   "source": [
    "# Checking the dataset for duplicated values\n",
    "duplicated = crime_dataset.duplicated().sum()\n",
    "print(\"Duplicated values:\", duplicated)"
   ]
  },
  {
   "cell_type": "markdown",
   "id": "1fd9bba0",
   "metadata": {},
   "source": [
    "# Exploratory Data Analysis"
   ]
  },
  {
   "cell_type": "code",
   "execution_count": null,
   "id": "1c54b188",
   "metadata": {},
   "outputs": [],
   "source": [
    "# Convert the year column to Integer\n",
    "crime_dataset['year'] = crime_dataset['year'].astype('Int64')\n",
    "\n",
    "# Checking the number of years in the dataset\n",
    "crime_dataset_years_no = crime_dataset['year'].nunique()\n",
    "print(f\"Chicago crime dataset for {crime_dataset_years_no} years\\n\")\n",
    "\n",
    "# Checking the years in the dataset\n",
    "crime_dataset_years = crime_dataset['year'].unique()\n",
    "print(f\"The years in the dataset are\\n{crime_dataset_years}\")"
   ]
  },
  {
   "cell_type": "markdown",
   "id": "e3b823e4",
   "metadata": {},
   "source": [
    "# Descriptive Data Analysis"
   ]
  },
  {
   "cell_type": "code",
   "execution_count": null,
   "id": "a74b1337",
   "metadata": {},
   "outputs": [],
   "source": [
    "# Checking the Statistical summary of the data\n",
    "# fetching numeric columns only\n",
    "\n",
    "crime_data_numeric = crime_dataset.select_dtypes(include=['number']).columns\n",
    "crime_data_numeric_summary = crime_dataset[crime_data_numeric].describe()"
   ]
  }
 ],
 "metadata": {
  "kernelspec": {
   "display_name": "venv",
   "language": "python",
   "name": "python3"
  },
  "language_info": {
   "codemirror_mode": {
    "name": "ipython",
    "version": 3
   },
   "file_extension": ".py",
   "mimetype": "text/x-python",
   "name": "python",
   "nbconvert_exporter": "python",
   "pygments_lexer": "ipython3",
   "version": "3.13.7"
  }
 },
 "nbformat": 4,
 "nbformat_minor": 5
}
