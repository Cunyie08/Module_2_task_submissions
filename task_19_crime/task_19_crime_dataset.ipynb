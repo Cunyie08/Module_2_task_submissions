{
 "cells": [
  {
   "cell_type": "markdown",
   "id": "cf5b8f9b",
   "metadata": {},
   "source": [
    "# Statistical Analysis for Chicago crime dataset\n",
    "\n"
   ]
  },
  {
   "cell_type": "markdown",
   "id": "e3755c80",
   "metadata": {},
   "source": [
    "# Data ingestion"
   ]
  },
  {
   "cell_type": "code",
   "execution_count": null,
   "id": "b47e17c7",
   "metadata": {},
   "outputs": [],
   "source": [
    "# %pip install gdown dask pyarrow\n",
    "# import dask.dataframe as dd"
   ]
  },
  {
   "cell_type": "code",
   "execution_count": null,
   "id": "761c3e16",
   "metadata": {},
   "outputs": [],
   "source": [
    "# Data wrangling libraries\n",
    "import pandas as pd\n",
    "import numpy as np\n",
    "\n",
    "# Data visualization libraries\n",
    "import seaborn as sns\n",
    "import matplotlib.pyplot as plt\n",
    "\n",
    "# lib for datetime\n",
    "from datetime import datetime, timedelta\n",
    "\n",
    "# Ignore warnings\n",
    "import warnings\n",
    "warnings.filterwarnings(\"ignore\")\n",
    "\n",
    "# Set up views\n",
    "pd.set_option('display.max_columns', None)\n",
    "pd.set_option('display.width', 1000)"
   ]
  },
  {
   "cell_type": "code",
   "execution_count": null,
   "id": "406d23d6",
   "metadata": {},
   "outputs": [],
   "source": [
    "# # # import lib for loading the dataset \n",
    "# import gdown\n",
    "# import zipfile\n",
    "\n",
    "# # Importing the dataset from google drive\n",
    "# raw_link = \"_https://www.kaggle.com/datasets/utkarshx27/crimes-2001-to-present?resource=download_\"\n",
    "# id = \"1ib1PWK_3oaaSfThqfnfSoPZq7vA1g33X\"\n",
    "# file_path = \"crime.zip\"\n",
    "\n",
    "# # Loading the dataset\n",
    "# gdown.download(f\"https://drive.google.com/uc?id={id}\",file_path, quiet=False)\n",
    "\n",
    "# uncomment this code to download the data.\n"
   ]
  },
  {
   "cell_type": "code",
   "execution_count": null,
   "id": "ee085694",
   "metadata": {},
   "outputs": [],
   "source": [
    "# import lib for loading the dataset \n",
    "\n",
    "import kagglehub\n",
    "from pathlib import Path\n",
    "\n",
    "# Step 1: Download the dataset from Kaggle using kagglehub\n",
    "# Dataset: https://www.kaggle.com/datasets/utkarshx27/crimes-2001-to-present\n",
    "\n",
    "dataset_path = Path(kagglehub.dataset_download(\"utkarshx27/crimes-2001-to-present\"))\n",
    "\n",
    "print(\"Dataset Path\", dataset_path)\n",
    "\n",
    "\n",
    "\n",
    "# Step 2: Define the path to the actual CSV file\n",
    "csv_file = dataset_path / \"Crimes_-_2001_to_Present.csv\""
   ]
  },
  {
   "cell_type": "code",
   "execution_count": null,
   "id": "2e645a1a",
   "metadata": {},
   "outputs": [],
   "source": [
    "csv_file = r\"C:\\Users\\Noimot\\.cache\\kagglehub\\datasets\\utkarshx27\\crimes-2001-to-present\\versions\\1\\Crimes_-_2001_to_Present.csv\""
   ]
  },
  {
   "cell_type": "code",
   "execution_count": null,
   "id": "4df763c3",
   "metadata": {},
   "outputs": [],
   "source": [
    "# crime_data = pd.read_csv(csv_file, low_memory=True)"
   ]
  },
  {
   "cell_type": "code",
   "execution_count": null,
   "id": "fc245836",
   "metadata": {},
   "outputs": [],
   "source": [
    "# Extracting and listing the files in the zipped dataset\n",
    "# with zipfile.ZipFile(file_path, \"r\") as z:\n",
    "#     # List files\n",
    "#     print(z.namelist()) \n",
    "#     z.extractall(\"crime_dataset\")\n",
    "\n",
    "\n",
    "# Commenting this out because I have read/loaded the dataset to my workspace.\n",
    "    "
   ]
  },
  {
   "cell_type": "markdown",
   "id": "304c7b62",
   "metadata": {},
   "source": []
  },
  {
   "cell_type": "code",
   "execution_count": null,
   "id": "ccbd749d",
   "metadata": {},
   "outputs": [],
   "source": [
    "import pandas as pd\n",
    "# Define data types to reduce memory usage\n",
    "dtype_dict = {\n",
    "    'ID' : 'Int32',\n",
    "    'Case Number': 'string',\n",
    "    'Block': 'string',\n",
    "    'IUCR': 'category',\n",
    "    'Primary Type': 'category',\n",
    "    'Description': 'category',\n",
    "    'Location Description': 'category',\n",
    "    'Arrest': 'boolean',\n",
    "    'Domestic': 'boolean',\n",
    "    'Beat': 'Int64',\n",
    "    'District': 'Int64',\n",
    "    'Ward': 'Int64',\n",
    "    'Community Area': 'Int64',\n",
    "    'FBI Code': 'category',\n",
    "    'X Coordinate': 'float32',\n",
    "    'Y Coordinate': 'float32',\n",
    "    'Year': 'float64',\n",
    "    'Latitude': 'float32',\n",
    "    'Longitude': 'float32',\n",
    "    'Location': 'string'\n",
    "}\n",
    "\n",
    "# Loading the dataset with dask to handle the huge csv files\n",
    "crime_data = pd.read_csv(csv_file,dtype=dtype_dict, parse_dates=['Date', 'Updated On'],date_format=\"%m/%d/%y %I:%M:%S %p\",low_memory=False,keep_default_na=True)\n",
    "\n",
    "\n",
    "\n",
    "# Print the first five rows\n",
    "crime_data.head()\n",
    "\n",
    "\n"
   ]
  },
  {
   "cell_type": "code",
   "execution_count": null,
   "id": "ac3c88ec",
   "metadata": {},
   "outputs": [],
   "source": [
    "# Creating a copy of the dataset\n",
    "crime_dataset = crime_data.copy()\n",
    "crime_dataset.tail()\n"
   ]
  },
  {
   "cell_type": "markdown",
   "id": "9a2f5eb8",
   "metadata": {},
   "source": [
    "# Preliminary data analysis"
   ]
  },
  {
   "cell_type": "code",
   "execution_count": null,
   "id": "9b7b5913",
   "metadata": {},
   "outputs": [],
   "source": [
    "# Converting the date to datetime\n",
    "crime_dataset['Date'] = pd.to_datetime(crime_dataset['Date'])\n",
    "crime_dataset['Date'].dtypes"
   ]
  },
  {
   "cell_type": "code",
   "execution_count": null,
   "id": "432f71e0",
   "metadata": {},
   "outputs": [],
   "source": [
    "# Checking the data type\n",
    "crime_data_type = crime_dataset.dtypes\n",
    "print(\"Data type\\n:\", crime_data_type)"
   ]
  },
  {
   "cell_type": "code",
   "execution_count": null,
   "id": "3dd63ffd",
   "metadata": {},
   "outputs": [],
   "source": [
    "# Printing the columns \n",
    "crime_data_cols = pd.read_csv('crime_dataset/Crimes_-_2001_to_Present.csv', nrows=5)\n",
    "print(crime_data_cols.columns)\n"
   ]
  },
  {
   "cell_type": "code",
   "execution_count": null,
   "id": "e515b4ac",
   "metadata": {},
   "outputs": [],
   "source": [
    "# Renaming the columns (removing whitespaces, convert to lower case and replace \" \" with \",\") \n",
    "crime_dataset = crime_data.rename(columns=lambda x: x.strip().lower().replace(\" \", \"_\"))\n",
    "first_five_rows = crime_dataset.head()\n",
    "print(\"First five rows in the dataset:\\n\", first_five_rows)"
   ]
  },
  {
   "cell_type": "code",
   "execution_count": null,
   "id": "e2d16259",
   "metadata": {},
   "outputs": [],
   "source": [
    "# Checking the dataset for missing values\n",
    "crime_dataset.isna().sum()"
   ]
  },
  {
   "cell_type": "code",
   "execution_count": null,
   "id": "78d593b8",
   "metadata": {},
   "outputs": [],
   "source": [
    "# Checking the dataset for duplicated values\n",
    "duplicated = crime_dataset.duplicated().sum()\n",
    "print(\"Duplicated values:\", duplicated)"
   ]
  },
  {
   "cell_type": "markdown",
   "id": "1fd9bba0",
   "metadata": {},
   "source": [
    "# Exploratory Data Analysis"
   ]
  },
  {
   "cell_type": "code",
   "execution_count": null,
   "id": "1c54b188",
   "metadata": {},
   "outputs": [],
   "source": [
    "# Convert the year column to Integer\n",
    "crime_dataset['year'] = crime_dataset['year'].astype('Int64')\n",
    "\n",
    "# Checking the number of years in the dataset\n",
    "crime_dataset_years_no = crime_dataset['year'].nunique()\n",
    "print(f\"Chicago crime dataset for {crime_dataset_years_no} years\\n\")\n",
    "\n",
    "# Checking the years in the dataset\n",
    "crime_dataset_years = crime_dataset['year'].unique()\n",
    "print(f\"The years in the dataset are\\n{crime_dataset_years}\")"
   ]
  },
  {
   "cell_type": "code",
   "execution_count": null,
   "id": "88995db6",
   "metadata": {},
   "outputs": [],
   "source": [
    "# Checking the size of the dataset\n",
    "crime_dataset.shape"
   ]
  },
  {
   "cell_type": "code",
   "execution_count": null,
   "id": "967dba0d",
   "metadata": {},
   "outputs": [],
   "source": [
    "# Checking the data type\n",
    "crime_dataset.info"
   ]
  },
  {
   "cell_type": "markdown",
   "id": "e3b823e4",
   "metadata": {},
   "source": [
    "# Descriptive Data Analysis"
   ]
  },
  {
   "cell_type": "code",
   "execution_count": null,
   "id": "a74b1337",
   "metadata": {},
   "outputs": [],
   "source": [
    "# Checking the Statistical summary of the data\n",
    "# fetching numeric columns only\n",
    "\n",
    "crime_data_numeric = crime_dataset.select_dtypes(include=['number']).columns\n",
    "crime_data_numeric_summary = crime_dataset[crime_data_numeric].describe()\n",
    "print(\"\\nSummary Statistics:\\n\", crime_data_numeric_summary)\n"
   ]
  },
  {
   "cell_type": "code",
   "execution_count": null,
   "id": "7ea4e94a",
   "metadata": {},
   "outputs": [],
   "source": [
    "# Extracting the year, month and day from the dataset\n",
    "crime_dataset['date'] = pd.to_datetime(crime_dataset['date'])\n",
    "crime_dataset['year'] = crime_dataset['date'].dt.year\n",
    "crime_dataset['month'] = crime_dataset['date'].dt.month_name()\n",
    "crime_dataset['day'] = crime_dataset['date'].dt.day_name()\n",
    "\n",
    "crime_dataset.head()\n"
   ]
  },
  {
   "cell_type": "code",
   "execution_count": null,
   "id": "f257cecc",
   "metadata": {},
   "outputs": [],
   "source": [
    "# # Setting the index using date\n",
    "# crime_index =crime_dataset.set_index('primary_type', inplace=True)\n",
    "# crime_index"
   ]
  },
  {
   "cell_type": "markdown",
   "id": "7b044c87",
   "metadata": {},
   "source": [
    "# Certain Crimes in the last ten Years"
   ]
  },
  {
   "cell_type": "code",
   "execution_count": null,
   "id": "7fa32e58",
   "metadata": {},
   "outputs": [],
   "source": [
    "# Subsetting the crime for the last ten years\n",
    "crime_dataset_ten_yrs = crime_dataset[crime_dataset['year'] >= 2013]\n",
    "crime_dataset_ten_yrs.tail(1000)"
   ]
  },
  {
   "cell_type": "code",
   "execution_count": null,
   "id": "fe2bf0ac",
   "metadata": {},
   "outputs": [],
   "source": [
    "# Checking the number of crimes rate in the last ten years\n",
    "crime_ten_yrs = crime_dataset_ten_yrs['primary_type'].nunique()\n",
    "print(f\"There were {crime_ten_yrs} crimes recorded in the last ten years\\n\")\n",
    "\n",
    "# # Checking the type of crimes rate in the last ten years\n",
    "type_crime_ten_yrs = crime_dataset_ten_yrs['primary_type'].unique()\n",
    "print(f\"The types of crimes in the last ten years:\\n {type_crime_ten_yrs}\")"
   ]
  },
  {
   "cell_type": "code",
   "execution_count": null,
   "id": "681d424f",
   "metadata": {},
   "outputs": [],
   "source": [
    "# Checking the crimes in the last ten years\n",
    "ten_yrs_crimes = crime_dataset_ten_yrs.index.value_counts().head(100)\n",
    "ten_yrs_crimes"
   ]
  },
  {
   "cell_type": "markdown",
   "id": "c003b212",
   "metadata": {},
   "source": [
    "`Data Visualization for all the Crimes recorded in the last ten years`"
   ]
  },
  {
   "cell_type": "code",
   "execution_count": null,
   "id": "8d27d709",
   "metadata": {},
   "outputs": [],
   "source": [
    "# Plotting a barchart for the crimes committed in the last ten years\n",
    "plt.figure(figsize=(10,6))\n",
    "plt.bar(ten_yrs_crimes.index, ten_yrs_crimes.values, color='red')\n",
    "plt.xlabel('Crimes')\n",
    "plt.ylabel('Frequency')\n",
    "plt.title(\"Crimes committed in the last ten Years(2013-2023)\")\n",
    "plt.xticks(rotation=90)\n",
    "plt.show()"
   ]
  },
  {
   "cell_type": "markdown",
   "id": "88e11c4a",
   "metadata": {},
   "source": [
    "# Theft in the last ten years"
   ]
  },
  {
   "cell_type": "code",
   "execution_count": null,
   "id": "01a3a001",
   "metadata": {},
   "outputs": [],
   "source": [
    "# Selecting the theft in the last ten years\n",
    "theft = crime_dataset_ten_yrs.loc['THEFT']\n",
    "print(f\"Number of theft recorded from 2013-2023): {theft}\")"
   ]
  },
  {
   "cell_type": "code",
   "execution_count": null,
   "id": "1d59c325",
   "metadata": {},
   "outputs": [],
   "source": [
    "# Grouping theft by year for the last ten years\n",
    "theft_ten_yrs = theft.groupby('year').size().sort_values(ascending=True)\n",
    "print(f\"Theft recorded from 2013-2023:\\n {theft_ten_yrs}\")"
   ]
  },
  {
   "cell_type": "code",
   "execution_count": null,
   "id": "1c8f82bc",
   "metadata": {},
   "outputs": [],
   "source": [
    "# Plotting the theft recorded over the last ten years using barchart in Pandas\n",
    "theft_ten_yrs.plot(kind='bar', xlabel='Year', ylabel='Frequency', title=\"Theft recorded in the last ten Years(2013-2023)\", color='black')"
   ]
  },
  {
   "cell_type": "code",
   "execution_count": null,
   "id": "69f27af4",
   "metadata": {},
   "outputs": [],
   "source": [
    "# Grouping the Theft by location over the last ten years\n",
    "theft_by_location = theft.groupby('block')['year'].size().sort_values(ascending=True)\n",
    "theft_by_location"
   ]
  },
  {
   "cell_type": "code",
   "execution_count": null,
   "id": "a70df14c",
   "metadata": {},
   "outputs": [],
   "source": [
    "# Plotting the theft recorded over the last ten years using barchart in Pandas\n",
    "# theft_by_location.plot(kind='bar', xlabel='Year', ylabel='Frequency', title=\"Theft recorded in the last ten Years(2013-2023)\", color='black')\n",
    "# Plotting a barchart for the crimes committed in the last ten years\n",
    "plt.figure(figsize=(10,6))\n",
    "plt.bar(theft_by_location.index, theft_by_location.values, color='red')\n",
    "plt.xlabel('Location')\n",
    "plt.ylabel('Year')\n",
    "plt.title(\"Theft recorded by location in the last ten Years(2013-2023)\")\n",
    "plt.xticks(rotation=90)\n",
    "plt.show()"
   ]
  }
 ],
 "metadata": {
  "kernelspec": {
   "display_name": "venv (3.13.6)",
   "language": "python",
   "name": "python3"
  },
  "language_info": {
   "codemirror_mode": {
    "name": "ipython",
    "version": 3
   },
   "file_extension": ".py",
   "mimetype": "text/x-python",
   "name": "python",
   "nbconvert_exporter": "python",
   "pygments_lexer": "ipython3",
   "version": "3.13.6"
  }
 },
 "nbformat": 4,
 "nbformat_minor": 5
}
