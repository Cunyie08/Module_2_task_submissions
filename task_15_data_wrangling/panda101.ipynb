{
 "cells": [
  {
   "cell_type": "markdown",
   "id": "2798a20c",
   "metadata": {},
   "source": [
    "### Data Ingestion"
   ]
  },
  {
   "cell_type": "code",
   "execution_count": 1,
   "id": "d58939fe",
   "metadata": {},
   "outputs": [],
   "source": [
    "# Import all necesarry lib\n",
    "import numpy as np\n",
    "import pandas as pd\n",
    "import os"
   ]
  },
  {
   "cell_type": "code",
   "execution_count": 2,
   "id": "5fd1f627",
   "metadata": {},
   "outputs": [],
   "source": [
    "# Loading the dataset\n",
    "sales = pd.read_csv('sales_data.xls')"
   ]
  },
  {
   "cell_type": "code",
   "execution_count": 3,
   "id": "e84777ca",
   "metadata": {},
   "outputs": [
    {
     "data": {
      "text/html": [
       "<div>\n",
       "<style scoped>\n",
       "    .dataframe tbody tr th:only-of-type {\n",
       "        vertical-align: middle;\n",
       "    }\n",
       "\n",
       "    .dataframe tbody tr th {\n",
       "        vertical-align: top;\n",
       "    }\n",
       "\n",
       "    .dataframe thead th {\n",
       "        text-align: right;\n",
       "    }\n",
       "</style>\n",
       "<table border=\"1\" class=\"dataframe\">\n",
       "  <thead>\n",
       "    <tr style=\"text-align: right;\">\n",
       "      <th></th>\n",
       "      <th>customer_id</th>\n",
       "      <th>device_id</th>\n",
       "      <th>item_id</th>\n",
       "      <th>line_item_id</th>\n",
       "      <th>order_id</th>\n",
       "      <th>event_id</th>\n",
       "      <th>event_timestamp</th>\n",
       "      <th>quantity</th>\n",
       "      <th>currency</th>\n",
       "      <th>checked_out_at</th>\n",
       "      <th>status</th>\n",
       "      <th>location</th>\n",
       "    </tr>\n",
       "  </thead>\n",
       "  <tbody>\n",
       "    <tr>\n",
       "      <th>0</th>\n",
       "      <td>cda7bec0-7cbf-4145-baf9-e049bab94504</td>\n",
       "      <td>33b485de-7338-4997-b1d0-b988ba17b245</td>\n",
       "      <td>4</td>\n",
       "      <td>3201</td>\n",
       "      <td>9e950ce3-2e12-479c-a051-493c1a497d49</td>\n",
       "      <td>14786</td>\n",
       "      <td>2024-03-26 22:05:58.863661</td>\n",
       "      <td>2</td>\n",
       "      <td>NGN</td>\n",
       "      <td>2024-03-30 04:19:10.406794</td>\n",
       "      <td>success</td>\n",
       "      <td>Saint Helena</td>\n",
       "    </tr>\n",
       "    <tr>\n",
       "      <th>1</th>\n",
       "      <td>cda7bec0-7cbf-4145-baf9-e049bab94504</td>\n",
       "      <td>33b485de-7338-4997-b1d0-b988ba17b245</td>\n",
       "      <td>5</td>\n",
       "      <td>3202</td>\n",
       "      <td>9e950ce3-2e12-479c-a051-493c1a497d49</td>\n",
       "      <td>14786</td>\n",
       "      <td>2024-03-26 22:05:58.863661</td>\n",
       "      <td>4</td>\n",
       "      <td>NGN</td>\n",
       "      <td>2024-03-30 04:19:10.406794</td>\n",
       "      <td>success</td>\n",
       "      <td>Saint Helena</td>\n",
       "    </tr>\n",
       "    <tr>\n",
       "      <th>2</th>\n",
       "      <td>cda7bec0-7cbf-4145-baf9-e049bab94504</td>\n",
       "      <td>33b485de-7338-4997-b1d0-b988ba17b245</td>\n",
       "      <td>9</td>\n",
       "      <td>3203</td>\n",
       "      <td>9e950ce3-2e12-479c-a051-493c1a497d49</td>\n",
       "      <td>14786</td>\n",
       "      <td>2024-03-26 22:05:58.863661</td>\n",
       "      <td>5</td>\n",
       "      <td>NGN</td>\n",
       "      <td>2024-03-30 04:19:10.406794</td>\n",
       "      <td>success</td>\n",
       "      <td>Saint Helena</td>\n",
       "    </tr>\n",
       "    <tr>\n",
       "      <th>3</th>\n",
       "      <td>cda7bec0-7cbf-4145-baf9-e049bab94504</td>\n",
       "      <td>33b485de-7338-4997-b1d0-b988ba17b245</td>\n",
       "      <td>12</td>\n",
       "      <td>3204</td>\n",
       "      <td>9e950ce3-2e12-479c-a051-493c1a497d49</td>\n",
       "      <td>14786</td>\n",
       "      <td>2024-03-26 22:05:58.863661</td>\n",
       "      <td>1</td>\n",
       "      <td>NGN</td>\n",
       "      <td>2024-03-30 04:19:10.406794</td>\n",
       "      <td>success</td>\n",
       "      <td>Saint Helena</td>\n",
       "    </tr>\n",
       "    <tr>\n",
       "      <th>4</th>\n",
       "      <td>cda7bec0-7cbf-4145-baf9-e049bab94504</td>\n",
       "      <td>33b485de-7338-4997-b1d0-b988ba17b245</td>\n",
       "      <td>6</td>\n",
       "      <td>3205</td>\n",
       "      <td>9e950ce3-2e12-479c-a051-493c1a497d49</td>\n",
       "      <td>14786</td>\n",
       "      <td>2024-03-26 22:05:58.863661</td>\n",
       "      <td>2</td>\n",
       "      <td>NGN</td>\n",
       "      <td>2024-03-30 04:19:10.406794</td>\n",
       "      <td>success</td>\n",
       "      <td>Saint Helena</td>\n",
       "    </tr>\n",
       "  </tbody>\n",
       "</table>\n",
       "</div>"
      ],
      "text/plain": [
       "                            customer_id                             device_id  \\\n",
       "0  cda7bec0-7cbf-4145-baf9-e049bab94504  33b485de-7338-4997-b1d0-b988ba17b245   \n",
       "1  cda7bec0-7cbf-4145-baf9-e049bab94504  33b485de-7338-4997-b1d0-b988ba17b245   \n",
       "2  cda7bec0-7cbf-4145-baf9-e049bab94504  33b485de-7338-4997-b1d0-b988ba17b245   \n",
       "3  cda7bec0-7cbf-4145-baf9-e049bab94504  33b485de-7338-4997-b1d0-b988ba17b245   \n",
       "4  cda7bec0-7cbf-4145-baf9-e049bab94504  33b485de-7338-4997-b1d0-b988ba17b245   \n",
       "\n",
       "   item_id  line_item_id                              order_id  event_id  \\\n",
       "0        4          3201  9e950ce3-2e12-479c-a051-493c1a497d49     14786   \n",
       "1        5          3202  9e950ce3-2e12-479c-a051-493c1a497d49     14786   \n",
       "2        9          3203  9e950ce3-2e12-479c-a051-493c1a497d49     14786   \n",
       "3       12          3204  9e950ce3-2e12-479c-a051-493c1a497d49     14786   \n",
       "4        6          3205  9e950ce3-2e12-479c-a051-493c1a497d49     14786   \n",
       "\n",
       "              event_timestamp  quantity currency              checked_out_at  \\\n",
       "0  2024-03-26 22:05:58.863661         2      NGN  2024-03-30 04:19:10.406794   \n",
       "1  2024-03-26 22:05:58.863661         4      NGN  2024-03-30 04:19:10.406794   \n",
       "2  2024-03-26 22:05:58.863661         5      NGN  2024-03-30 04:19:10.406794   \n",
       "3  2024-03-26 22:05:58.863661         1      NGN  2024-03-30 04:19:10.406794   \n",
       "4  2024-03-26 22:05:58.863661         2      NGN  2024-03-30 04:19:10.406794   \n",
       "\n",
       "    status      location  \n",
       "0  success  Saint Helena  \n",
       "1  success  Saint Helena  \n",
       "2  success  Saint Helena  \n",
       "3  success  Saint Helena  \n",
       "4  success  Saint Helena  "
      ]
     },
     "execution_count": 3,
     "metadata": {},
     "output_type": "execute_result"
    }
   ],
   "source": [
    "# Print the first five elements on the dataset\n",
    "sales.head()"
   ]
  },
  {
   "cell_type": "code",
   "execution_count": 4,
   "id": "9e44d377",
   "metadata": {},
   "outputs": [
    {
     "data": {
      "text/html": [
       "<div>\n",
       "<style scoped>\n",
       "    .dataframe tbody tr th:only-of-type {\n",
       "        vertical-align: middle;\n",
       "    }\n",
       "\n",
       "    .dataframe tbody tr th {\n",
       "        vertical-align: top;\n",
       "    }\n",
       "\n",
       "    .dataframe thead th {\n",
       "        text-align: right;\n",
       "    }\n",
       "</style>\n",
       "<table border=\"1\" class=\"dataframe\">\n",
       "  <thead>\n",
       "    <tr style=\"text-align: right;\">\n",
       "      <th></th>\n",
       "      <th>customer_id</th>\n",
       "      <th>device_id</th>\n",
       "      <th>item_id</th>\n",
       "      <th>line_item_id</th>\n",
       "      <th>order_id</th>\n",
       "      <th>event_id</th>\n",
       "      <th>event_timestamp</th>\n",
       "      <th>quantity</th>\n",
       "      <th>currency</th>\n",
       "      <th>checked_out_at</th>\n",
       "      <th>status</th>\n",
       "      <th>location</th>\n",
       "    </tr>\n",
       "  </thead>\n",
       "  <tbody>\n",
       "    <tr>\n",
       "      <th>578315</th>\n",
       "      <td>ef15a7b3-326c-405f-9eef-3dbf43c85a9d</td>\n",
       "      <td>74bb4936-9890-421b-a62a-ee544191fa1e</td>\n",
       "      <td>1</td>\n",
       "      <td>34941</td>\n",
       "      <td>ad73a2a0-354a-40bf-81cd-ff017ac859d5</td>\n",
       "      <td>161958</td>\n",
       "      <td>2024-03-30 04:03:18.224196</td>\n",
       "      <td>3</td>\n",
       "      <td>USD</td>\n",
       "      <td>2024-03-30 04:14:18.224200</td>\n",
       "      <td>failed</td>\n",
       "      <td>Christmas Island</td>\n",
       "    </tr>\n",
       "    <tr>\n",
       "      <th>578316</th>\n",
       "      <td>ef15a7b3-326c-405f-9eef-3dbf43c85a9d</td>\n",
       "      <td>74bb4936-9890-421b-a62a-ee544191fa1e</td>\n",
       "      <td>4</td>\n",
       "      <td>34940</td>\n",
       "      <td>ad73a2a0-354a-40bf-81cd-ff017ac859d5</td>\n",
       "      <td>161959</td>\n",
       "      <td>2024-03-30 04:03:18.224198</td>\n",
       "      <td>3</td>\n",
       "      <td>USD</td>\n",
       "      <td>2024-03-30 04:14:18.224200</td>\n",
       "      <td>failed</td>\n",
       "      <td>Christmas Island</td>\n",
       "    </tr>\n",
       "    <tr>\n",
       "      <th>578317</th>\n",
       "      <td>ef15a7b3-326c-405f-9eef-3dbf43c85a9d</td>\n",
       "      <td>74bb4936-9890-421b-a62a-ee544191fa1e</td>\n",
       "      <td>1</td>\n",
       "      <td>34941</td>\n",
       "      <td>ad73a2a0-354a-40bf-81cd-ff017ac859d5</td>\n",
       "      <td>161959</td>\n",
       "      <td>2024-03-30 04:03:18.224198</td>\n",
       "      <td>3</td>\n",
       "      <td>USD</td>\n",
       "      <td>2024-03-30 04:14:18.224200</td>\n",
       "      <td>failed</td>\n",
       "      <td>Christmas Island</td>\n",
       "    </tr>\n",
       "    <tr>\n",
       "      <th>578318</th>\n",
       "      <td>ef15a7b3-326c-405f-9eef-3dbf43c85a9d</td>\n",
       "      <td>74bb4936-9890-421b-a62a-ee544191fa1e</td>\n",
       "      <td>4</td>\n",
       "      <td>34940</td>\n",
       "      <td>ad73a2a0-354a-40bf-81cd-ff017ac859d5</td>\n",
       "      <td>161960</td>\n",
       "      <td>2024-03-30 04:14:18.224200</td>\n",
       "      <td>3</td>\n",
       "      <td>USD</td>\n",
       "      <td>2024-03-30 04:14:18.224200</td>\n",
       "      <td>failed</td>\n",
       "      <td>Christmas Island</td>\n",
       "    </tr>\n",
       "    <tr>\n",
       "      <th>578319</th>\n",
       "      <td>ef15a7b3-326c-405f-9eef-3dbf43c85a9d</td>\n",
       "      <td>74bb4936-9890-421b-a62a-ee544191fa1e</td>\n",
       "      <td>1</td>\n",
       "      <td>34941</td>\n",
       "      <td>ad73a2a0-354a-40bf-81cd-ff017ac859d5</td>\n",
       "      <td>161960</td>\n",
       "      <td>2024-03-30 04:14:18.224200</td>\n",
       "      <td>3</td>\n",
       "      <td>USD</td>\n",
       "      <td>2024-03-30 04:14:18.224200</td>\n",
       "      <td>failed</td>\n",
       "      <td>Christmas Island</td>\n",
       "    </tr>\n",
       "  </tbody>\n",
       "</table>\n",
       "</div>"
      ],
      "text/plain": [
       "                                 customer_id  \\\n",
       "578315  ef15a7b3-326c-405f-9eef-3dbf43c85a9d   \n",
       "578316  ef15a7b3-326c-405f-9eef-3dbf43c85a9d   \n",
       "578317  ef15a7b3-326c-405f-9eef-3dbf43c85a9d   \n",
       "578318  ef15a7b3-326c-405f-9eef-3dbf43c85a9d   \n",
       "578319  ef15a7b3-326c-405f-9eef-3dbf43c85a9d   \n",
       "\n",
       "                                   device_id  item_id  line_item_id  \\\n",
       "578315  74bb4936-9890-421b-a62a-ee544191fa1e        1         34941   \n",
       "578316  74bb4936-9890-421b-a62a-ee544191fa1e        4         34940   \n",
       "578317  74bb4936-9890-421b-a62a-ee544191fa1e        1         34941   \n",
       "578318  74bb4936-9890-421b-a62a-ee544191fa1e        4         34940   \n",
       "578319  74bb4936-9890-421b-a62a-ee544191fa1e        1         34941   \n",
       "\n",
       "                                    order_id  event_id  \\\n",
       "578315  ad73a2a0-354a-40bf-81cd-ff017ac859d5    161958   \n",
       "578316  ad73a2a0-354a-40bf-81cd-ff017ac859d5    161959   \n",
       "578317  ad73a2a0-354a-40bf-81cd-ff017ac859d5    161959   \n",
       "578318  ad73a2a0-354a-40bf-81cd-ff017ac859d5    161960   \n",
       "578319  ad73a2a0-354a-40bf-81cd-ff017ac859d5    161960   \n",
       "\n",
       "                   event_timestamp  quantity currency  \\\n",
       "578315  2024-03-30 04:03:18.224196         3      USD   \n",
       "578316  2024-03-30 04:03:18.224198         3      USD   \n",
       "578317  2024-03-30 04:03:18.224198         3      USD   \n",
       "578318  2024-03-30 04:14:18.224200         3      USD   \n",
       "578319  2024-03-30 04:14:18.224200         3      USD   \n",
       "\n",
       "                    checked_out_at  status          location  \n",
       "578315  2024-03-30 04:14:18.224200  failed  Christmas Island  \n",
       "578316  2024-03-30 04:14:18.224200  failed  Christmas Island  \n",
       "578317  2024-03-30 04:14:18.224200  failed  Christmas Island  \n",
       "578318  2024-03-30 04:14:18.224200  failed  Christmas Island  \n",
       "578319  2024-03-30 04:14:18.224200  failed  Christmas Island  "
      ]
     },
     "execution_count": 4,
     "metadata": {},
     "output_type": "execute_result"
    }
   ],
   "source": [
    "# Print the last five elements on the dataset\n",
    "sales.tail()"
   ]
  },
  {
   "cell_type": "markdown",
   "id": "ced1e8c8",
   "metadata": {},
   "source": [
    "### Preliminary Data Analysis"
   ]
  },
  {
   "cell_type": "code",
   "execution_count": 5,
   "id": "bd504260",
   "metadata": {},
   "outputs": [
    {
     "name": "stdout",
     "output_type": "stream",
     "text": [
      "Dataset Shape: (578320, 12)\n"
     ]
    }
   ],
   "source": [
    "# Checking the shape of the data\n",
    "data_shape = sales.shape\n",
    "print('Dataset Shape:',data_shape)"
   ]
  },
  {
   "cell_type": "code",
   "execution_count": 6,
   "id": "5ad44390",
   "metadata": {},
   "outputs": [
    {
     "data": {
      "text/plain": [
       "6939840"
      ]
     },
     "execution_count": 6,
     "metadata": {},
     "output_type": "execute_result"
    }
   ],
   "source": [
    "# Checking the size of the dataset\n",
    "sales.size"
   ]
  },
  {
   "cell_type": "code",
   "execution_count": 7,
   "id": "c848ea5d",
   "metadata": {},
   "outputs": [
    {
     "name": "stdout",
     "output_type": "stream",
     "text": [
      "<class 'pandas.core.frame.DataFrame'>\n",
      "RangeIndex: 578320 entries, 0 to 578319\n",
      "Data columns (total 12 columns):\n",
      " #   Column           Non-Null Count   Dtype \n",
      "---  ------           --------------   ----- \n",
      " 0   customer_id      578320 non-null  object\n",
      " 1   device_id        578320 non-null  object\n",
      " 2   item_id          578320 non-null  int64 \n",
      " 3   line_item_id     578320 non-null  int64 \n",
      " 4   order_id         578320 non-null  object\n",
      " 5   event_id         578320 non-null  int64 \n",
      " 6   event_timestamp  578320 non-null  object\n",
      " 7   quantity         578320 non-null  int64 \n",
      " 8   currency         578320 non-null  object\n",
      " 9   checked_out_at   578320 non-null  object\n",
      " 10  status           578320 non-null  object\n",
      " 11  location         578320 non-null  object\n",
      "dtypes: int64(4), object(8)\n",
      "memory usage: 52.9+ MB\n"
     ]
    }
   ],
   "source": [
    "# Check the information of the datset\n",
    "sales.info()"
   ]
  },
  {
   "cell_type": "code",
   "execution_count": 8,
   "id": "44b8569b",
   "metadata": {},
   "outputs": [
    {
     "data": {
      "text/plain": [
       "customer_id        object\n",
       "device_id          object\n",
       "item_id             int64\n",
       "line_item_id        int64\n",
       "order_id           object\n",
       "event_id            int64\n",
       "event_timestamp    object\n",
       "quantity            int64\n",
       "currency           object\n",
       "checked_out_at     object\n",
       "status             object\n",
       "location           object\n",
       "dtype: object"
      ]
     },
     "execution_count": 8,
     "metadata": {},
     "output_type": "execute_result"
    }
   ],
   "source": [
    "# checking the data type\n",
    "sales.dtypes"
   ]
  },
  {
   "cell_type": "code",
   "execution_count": 9,
   "id": "d8d2f77c",
   "metadata": {},
   "outputs": [
    {
     "data": {
      "text/plain": [
       "customer_id        0\n",
       "device_id          0\n",
       "item_id            0\n",
       "line_item_id       0\n",
       "order_id           0\n",
       "event_id           0\n",
       "event_timestamp    0\n",
       "quantity           0\n",
       "currency           0\n",
       "checked_out_at     0\n",
       "status             0\n",
       "location           0\n",
       "dtype: int64"
      ]
     },
     "execution_count": 9,
     "metadata": {},
     "output_type": "execute_result"
    }
   ],
   "source": [
    "## Checking for missing values\n",
    "sales.isnull().sum()"
   ]
  },
  {
   "cell_type": "code",
   "execution_count": 10,
   "id": "6b03ffb6",
   "metadata": {},
   "outputs": [
    {
     "name": "stdout",
     "output_type": "stream",
     "text": [
      "Duplicated values: 0\n"
     ]
    }
   ],
   "source": [
    "# Checking for duplicated values\n",
    "duplicates = sales.duplicated().sum()\n",
    "print('Duplicated values:', duplicates)"
   ]
  },
  {
   "cell_type": "markdown",
   "id": "0584af99",
   "metadata": {},
   "source": [
    "### Data cleaning"
   ]
  },
  {
   "cell_type": "code",
   "execution_count": 11,
   "id": "1816107d",
   "metadata": {},
   "outputs": [
    {
     "data": {
      "text/plain": [
       "0   2024-03-26 22:05:58.863661\n",
       "1   2024-03-26 22:05:58.863661\n",
       "2   2024-03-26 22:05:58.863661\n",
       "3   2024-03-26 22:05:58.863661\n",
       "4   2024-03-26 22:05:58.863661\n",
       "Name: event_timestamp, dtype: datetime64[ns]"
      ]
     },
     "execution_count": 11,
     "metadata": {},
     "output_type": "execute_result"
    }
   ],
   "source": [
    "# Changing the event timestamp to datetime\n",
    "sales['event_timestamp'] = pd.to_datetime(sales['event_timestamp'])\n",
    "sales['event_timestamp'].head()"
   ]
  },
  {
   "cell_type": "code",
   "execution_count": 12,
   "id": "2d5f2565",
   "metadata": {},
   "outputs": [
    {
     "data": {
      "text/plain": [
       "dtype('<M8[ns]')"
      ]
     },
     "execution_count": 12,
     "metadata": {},
     "output_type": "execute_result"
    }
   ],
   "source": [
    "# Reconfirming the data type\n",
    "sales['event_timestamp'].dtypes"
   ]
  },
  {
   "cell_type": "code",
   "execution_count": 13,
   "id": "ab2352ba",
   "metadata": {},
   "outputs": [
    {
     "data": {
      "text/plain": [
       "0   2024-03-30 04:19:10.406794\n",
       "1   2024-03-30 04:19:10.406794\n",
       "2   2024-03-30 04:19:10.406794\n",
       "3   2024-03-30 04:19:10.406794\n",
       "4   2024-03-30 04:19:10.406794\n",
       "Name: checked_out_at, dtype: datetime64[ns]"
      ]
     },
     "execution_count": 13,
     "metadata": {},
     "output_type": "execute_result"
    }
   ],
   "source": [
    "# Changing the event timestamp to datetime\n",
    "sales['checked_out_at'] = pd.to_datetime(sales['checked_out_at'])\n",
    "sales['checked_out_at'].head()"
   ]
  },
  {
   "cell_type": "code",
   "execution_count": 14,
   "id": "4d775eb1",
   "metadata": {},
   "outputs": [
    {
     "data": {
      "text/plain": [
       "dtype('<M8[ns]')"
      ]
     },
     "execution_count": 14,
     "metadata": {},
     "output_type": "execute_result"
    }
   ],
   "source": [
    "# Reconfirming the data type\n",
    "sales['checked_out_at'].dtypes"
   ]
  },
  {
   "cell_type": "code",
   "execution_count": 15,
   "id": "504ed9af",
   "metadata": {},
   "outputs": [],
   "source": [
    "# # Setting the index for the columns\n",
    "# sales.set_index('location', inplace=True)\n"
   ]
  },
  {
   "cell_type": "markdown",
   "id": "746e2d48",
   "metadata": {},
   "source": [
    "### Exploratory data analaysis"
   ]
  },
  {
   "cell_type": "code",
   "execution_count": 16,
   "id": "2a6f568c",
   "metadata": {},
   "outputs": [
    {
     "data": {
      "text/plain": [
       "Index(['customer_id', 'device_id', 'item_id', 'line_item_id', 'order_id',\n",
       "       'event_id', 'event_timestamp', 'quantity', 'currency', 'checked_out_at',\n",
       "       'status', 'location'],\n",
       "      dtype='object')"
      ]
     },
     "execution_count": 16,
     "metadata": {},
     "output_type": "execute_result"
    }
   ],
   "source": [
    "# Checking the columns in the dataset\n",
    "sales.columns"
   ]
  },
  {
   "cell_type": "code",
   "execution_count": 17,
   "id": "e9027913",
   "metadata": {},
   "outputs": [
    {
     "data": {
      "text/plain": [
       "12"
      ]
     },
     "execution_count": 17,
     "metadata": {},
     "output_type": "execute_result"
    }
   ],
   "source": [
    "# Checking thelength of the sales column\n",
    "len(sales.columns)"
   ]
  },
  {
   "cell_type": "code",
   "execution_count": 18,
   "id": "9132088a",
   "metadata": {},
   "outputs": [],
   "source": [
    "sales1 = pd.DataFrame(sales, columns=sales.columns, index=sales.set_index('location', inplace=True))"
   ]
  },
  {
   "cell_type": "code",
   "execution_count": 19,
   "id": "1ef9366d",
   "metadata": {},
   "outputs": [],
   "source": [
    "# Sorting the index \n",
    "sales1.sort_index(ascending=True, inplace=True)\n"
   ]
  },
  {
   "cell_type": "code",
   "execution_count": 20,
   "id": "40284e30",
   "metadata": {},
   "outputs": [
    {
     "data": {
      "text/html": [
       "<div>\n",
       "<style scoped>\n",
       "    .dataframe tbody tr th:only-of-type {\n",
       "        vertical-align: middle;\n",
       "    }\n",
       "\n",
       "    .dataframe tbody tr th {\n",
       "        vertical-align: top;\n",
       "    }\n",
       "\n",
       "    .dataframe thead th {\n",
       "        text-align: right;\n",
       "    }\n",
       "</style>\n",
       "<table border=\"1\" class=\"dataframe\">\n",
       "  <thead>\n",
       "    <tr style=\"text-align: right;\">\n",
       "      <th></th>\n",
       "      <th>customer_id</th>\n",
       "      <th>device_id</th>\n",
       "      <th>item_id</th>\n",
       "      <th>line_item_id</th>\n",
       "      <th>order_id</th>\n",
       "      <th>event_id</th>\n",
       "      <th>event_timestamp</th>\n",
       "      <th>quantity</th>\n",
       "      <th>currency</th>\n",
       "      <th>checked_out_at</th>\n",
       "      <th>status</th>\n",
       "      <th>location</th>\n",
       "    </tr>\n",
       "    <tr>\n",
       "      <th>location</th>\n",
       "      <th></th>\n",
       "      <th></th>\n",
       "      <th></th>\n",
       "      <th></th>\n",
       "      <th></th>\n",
       "      <th></th>\n",
       "      <th></th>\n",
       "      <th></th>\n",
       "      <th></th>\n",
       "      <th></th>\n",
       "      <th></th>\n",
       "      <th></th>\n",
       "    </tr>\n",
       "  </thead>\n",
       "  <tbody>\n",
       "    <tr>\n",
       "      <th>Afghanistan</th>\n",
       "      <td>70620f47-7786-4c75-a784-e1f584cf0af0</td>\n",
       "      <td>8a105f4c-73e3-49c0-bccb-33660f23ea4d</td>\n",
       "      <td>9</td>\n",
       "      <td>24077</td>\n",
       "      <td>c438565d-ac6a-4653-a602-4c66c92c41ec</td>\n",
       "      <td>111439</td>\n",
       "      <td>2024-03-30 04:03:15.520915</td>\n",
       "      <td>2</td>\n",
       "      <td>NGN</td>\n",
       "      <td>2024-03-30 04:14:15.520920</td>\n",
       "      <td>failed</td>\n",
       "      <td>NaN</td>\n",
       "    </tr>\n",
       "    <tr>\n",
       "      <th>Afghanistan</th>\n",
       "      <td>0ae22f09-2711-4549-a75b-b57f2d447e09</td>\n",
       "      <td>bf34a453-2670-404c-ad22-0804fb3e478b</td>\n",
       "      <td>2</td>\n",
       "      <td>11897</td>\n",
       "      <td>1763d1a7-f047-4e96-84fe-9024453d110e</td>\n",
       "      <td>55146</td>\n",
       "      <td>2024-03-30 04:03:12.580749</td>\n",
       "      <td>1</td>\n",
       "      <td>GBP</td>\n",
       "      <td>2024-03-30 04:17:12.580762</td>\n",
       "      <td>success</td>\n",
       "      <td>NaN</td>\n",
       "    </tr>\n",
       "    <tr>\n",
       "      <th>Afghanistan</th>\n",
       "      <td>0ae22f09-2711-4549-a75b-b57f2d447e09</td>\n",
       "      <td>bf34a453-2670-404c-ad22-0804fb3e478b</td>\n",
       "      <td>10</td>\n",
       "      <td>11898</td>\n",
       "      <td>1763d1a7-f047-4e96-84fe-9024453d110e</td>\n",
       "      <td>55146</td>\n",
       "      <td>2024-03-30 04:03:12.580749</td>\n",
       "      <td>1</td>\n",
       "      <td>GBP</td>\n",
       "      <td>2024-03-30 04:17:12.580762</td>\n",
       "      <td>success</td>\n",
       "      <td>NaN</td>\n",
       "    </tr>\n",
       "    <tr>\n",
       "      <th>Afghanistan</th>\n",
       "      <td>0ae22f09-2711-4549-a75b-b57f2d447e09</td>\n",
       "      <td>bf34a453-2670-404c-ad22-0804fb3e478b</td>\n",
       "      <td>4</td>\n",
       "      <td>11899</td>\n",
       "      <td>1763d1a7-f047-4e96-84fe-9024453d110e</td>\n",
       "      <td>55146</td>\n",
       "      <td>2024-03-30 04:03:12.580749</td>\n",
       "      <td>5</td>\n",
       "      <td>GBP</td>\n",
       "      <td>2024-03-30 04:17:12.580762</td>\n",
       "      <td>success</td>\n",
       "      <td>NaN</td>\n",
       "    </tr>\n",
       "    <tr>\n",
       "      <th>Afghanistan</th>\n",
       "      <td>0ae22f09-2711-4549-a75b-b57f2d447e09</td>\n",
       "      <td>bf34a453-2670-404c-ad22-0804fb3e478b</td>\n",
       "      <td>7</td>\n",
       "      <td>11900</td>\n",
       "      <td>1763d1a7-f047-4e96-84fe-9024453d110e</td>\n",
       "      <td>55146</td>\n",
       "      <td>2024-03-30 04:03:12.580749</td>\n",
       "      <td>3</td>\n",
       "      <td>GBP</td>\n",
       "      <td>2024-03-30 04:17:12.580762</td>\n",
       "      <td>success</td>\n",
       "      <td>NaN</td>\n",
       "    </tr>\n",
       "  </tbody>\n",
       "</table>\n",
       "</div>"
      ],
      "text/plain": [
       "                                      customer_id  \\\n",
       "location                                            \n",
       "Afghanistan  70620f47-7786-4c75-a784-e1f584cf0af0   \n",
       "Afghanistan  0ae22f09-2711-4549-a75b-b57f2d447e09   \n",
       "Afghanistan  0ae22f09-2711-4549-a75b-b57f2d447e09   \n",
       "Afghanistan  0ae22f09-2711-4549-a75b-b57f2d447e09   \n",
       "Afghanistan  0ae22f09-2711-4549-a75b-b57f2d447e09   \n",
       "\n",
       "                                        device_id  item_id  line_item_id  \\\n",
       "location                                                                   \n",
       "Afghanistan  8a105f4c-73e3-49c0-bccb-33660f23ea4d        9         24077   \n",
       "Afghanistan  bf34a453-2670-404c-ad22-0804fb3e478b        2         11897   \n",
       "Afghanistan  bf34a453-2670-404c-ad22-0804fb3e478b       10         11898   \n",
       "Afghanistan  bf34a453-2670-404c-ad22-0804fb3e478b        4         11899   \n",
       "Afghanistan  bf34a453-2670-404c-ad22-0804fb3e478b        7         11900   \n",
       "\n",
       "                                         order_id  event_id  \\\n",
       "location                                                      \n",
       "Afghanistan  c438565d-ac6a-4653-a602-4c66c92c41ec    111439   \n",
       "Afghanistan  1763d1a7-f047-4e96-84fe-9024453d110e     55146   \n",
       "Afghanistan  1763d1a7-f047-4e96-84fe-9024453d110e     55146   \n",
       "Afghanistan  1763d1a7-f047-4e96-84fe-9024453d110e     55146   \n",
       "Afghanistan  1763d1a7-f047-4e96-84fe-9024453d110e     55146   \n",
       "\n",
       "                       event_timestamp  quantity currency  \\\n",
       "location                                                    \n",
       "Afghanistan 2024-03-30 04:03:15.520915         2      NGN   \n",
       "Afghanistan 2024-03-30 04:03:12.580749         1      GBP   \n",
       "Afghanistan 2024-03-30 04:03:12.580749         1      GBP   \n",
       "Afghanistan 2024-03-30 04:03:12.580749         5      GBP   \n",
       "Afghanistan 2024-03-30 04:03:12.580749         3      GBP   \n",
       "\n",
       "                        checked_out_at   status  location  \n",
       "location                                                   \n",
       "Afghanistan 2024-03-30 04:14:15.520920   failed       NaN  \n",
       "Afghanistan 2024-03-30 04:17:12.580762  success       NaN  \n",
       "Afghanistan 2024-03-30 04:17:12.580762  success       NaN  \n",
       "Afghanistan 2024-03-30 04:17:12.580762  success       NaN  \n",
       "Afghanistan 2024-03-30 04:17:12.580762  success       NaN  "
      ]
     },
     "execution_count": 20,
     "metadata": {},
     "output_type": "execute_result"
    }
   ],
   "source": [
    "sales1.head()"
   ]
  },
  {
   "cell_type": "code",
   "execution_count": 21,
   "id": "8240b09d",
   "metadata": {},
   "outputs": [
    {
     "data": {
      "text/html": [
       "<div>\n",
       "<style scoped>\n",
       "    .dataframe tbody tr th:only-of-type {\n",
       "        vertical-align: middle;\n",
       "    }\n",
       "\n",
       "    .dataframe tbody tr th {\n",
       "        vertical-align: top;\n",
       "    }\n",
       "\n",
       "    .dataframe thead th {\n",
       "        text-align: right;\n",
       "    }\n",
       "</style>\n",
       "<table border=\"1\" class=\"dataframe\">\n",
       "  <thead>\n",
       "    <tr style=\"text-align: right;\">\n",
       "      <th></th>\n",
       "      <th>customer_id</th>\n",
       "      <th>device_id</th>\n",
       "      <th>item_id</th>\n",
       "      <th>line_item_id</th>\n",
       "      <th>order_id</th>\n",
       "      <th>event_id</th>\n",
       "      <th>event_timestamp</th>\n",
       "      <th>quantity</th>\n",
       "      <th>currency</th>\n",
       "      <th>checked_out_at</th>\n",
       "      <th>status</th>\n",
       "      <th>location</th>\n",
       "    </tr>\n",
       "    <tr>\n",
       "      <th>location</th>\n",
       "      <th></th>\n",
       "      <th></th>\n",
       "      <th></th>\n",
       "      <th></th>\n",
       "      <th></th>\n",
       "      <th></th>\n",
       "      <th></th>\n",
       "      <th></th>\n",
       "      <th></th>\n",
       "      <th></th>\n",
       "      <th></th>\n",
       "      <th></th>\n",
       "    </tr>\n",
       "  </thead>\n",
       "  <tbody>\n",
       "    <tr>\n",
       "      <th>Zimbabwe</th>\n",
       "      <td>db698cb9-ca29-4508-b0f7-832b392306a4</td>\n",
       "      <td>e0c6329e-1e79-4560-8145-81c459670184</td>\n",
       "      <td>10</td>\n",
       "      <td>29861</td>\n",
       "      <td>0e7b92ef-8f50-4445-be28-5a28676d8e4e</td>\n",
       "      <td>138310</td>\n",
       "      <td>2024-03-22 13:20:41.144866</td>\n",
       "      <td>3</td>\n",
       "      <td>GBP</td>\n",
       "      <td>2024-03-30 04:12:16.911586</td>\n",
       "      <td>cancelled</td>\n",
       "      <td>NaN</td>\n",
       "    </tr>\n",
       "    <tr>\n",
       "      <th>Zimbabwe</th>\n",
       "      <td>db698cb9-ca29-4508-b0f7-832b392306a4</td>\n",
       "      <td>e0c6329e-1e79-4560-8145-81c459670184</td>\n",
       "      <td>7</td>\n",
       "      <td>29860</td>\n",
       "      <td>0e7b92ef-8f50-4445-be28-5a28676d8e4e</td>\n",
       "      <td>138310</td>\n",
       "      <td>2024-03-22 13:20:41.144866</td>\n",
       "      <td>5</td>\n",
       "      <td>GBP</td>\n",
       "      <td>2024-03-30 04:12:16.911586</td>\n",
       "      <td>cancelled</td>\n",
       "      <td>NaN</td>\n",
       "    </tr>\n",
       "    <tr>\n",
       "      <th>Zimbabwe</th>\n",
       "      <td>db698cb9-ca29-4508-b0f7-832b392306a4</td>\n",
       "      <td>e0c6329e-1e79-4560-8145-81c459670184</td>\n",
       "      <td>1</td>\n",
       "      <td>29863</td>\n",
       "      <td>0e7b92ef-8f50-4445-be28-5a28676d8e4e</td>\n",
       "      <td>138309</td>\n",
       "      <td>2024-03-28 01:59:47.070999</td>\n",
       "      <td>5</td>\n",
       "      <td>GBP</td>\n",
       "      <td>2024-03-30 04:12:16.911586</td>\n",
       "      <td>cancelled</td>\n",
       "      <td>NaN</td>\n",
       "    </tr>\n",
       "    <tr>\n",
       "      <th>Zimbabwe</th>\n",
       "      <td>db698cb9-ca29-4508-b0f7-832b392306a4</td>\n",
       "      <td>e0c6329e-1e79-4560-8145-81c459670184</td>\n",
       "      <td>1</td>\n",
       "      <td>29863</td>\n",
       "      <td>0e7b92ef-8f50-4445-be28-5a28676d8e4e</td>\n",
       "      <td>138314</td>\n",
       "      <td>2024-03-30 04:03:16.911579</td>\n",
       "      <td>5</td>\n",
       "      <td>GBP</td>\n",
       "      <td>2024-03-30 04:12:16.911586</td>\n",
       "      <td>cancelled</td>\n",
       "      <td>NaN</td>\n",
       "    </tr>\n",
       "    <tr>\n",
       "      <th>Zimbabwe</th>\n",
       "      <td>3f32bd5a-83d1-4d0e-85ba-101602388481</td>\n",
       "      <td>3dda90af-6c74-494d-b240-fc4d8d31759a</td>\n",
       "      <td>3</td>\n",
       "      <td>15897</td>\n",
       "      <td>46a574f4-9044-4653-b2cc-7c1610f68494</td>\n",
       "      <td>74252</td>\n",
       "      <td>2024-03-30 04:03:13.568394</td>\n",
       "      <td>3</td>\n",
       "      <td>NGN</td>\n",
       "      <td>2024-03-30 04:18:13.568459</td>\n",
       "      <td>success</td>\n",
       "      <td>NaN</td>\n",
       "    </tr>\n",
       "  </tbody>\n",
       "</table>\n",
       "</div>"
      ],
      "text/plain": [
       "                                   customer_id  \\\n",
       "location                                         \n",
       "Zimbabwe  db698cb9-ca29-4508-b0f7-832b392306a4   \n",
       "Zimbabwe  db698cb9-ca29-4508-b0f7-832b392306a4   \n",
       "Zimbabwe  db698cb9-ca29-4508-b0f7-832b392306a4   \n",
       "Zimbabwe  db698cb9-ca29-4508-b0f7-832b392306a4   \n",
       "Zimbabwe  3f32bd5a-83d1-4d0e-85ba-101602388481   \n",
       "\n",
       "                                     device_id  item_id  line_item_id  \\\n",
       "location                                                                \n",
       "Zimbabwe  e0c6329e-1e79-4560-8145-81c459670184       10         29861   \n",
       "Zimbabwe  e0c6329e-1e79-4560-8145-81c459670184        7         29860   \n",
       "Zimbabwe  e0c6329e-1e79-4560-8145-81c459670184        1         29863   \n",
       "Zimbabwe  e0c6329e-1e79-4560-8145-81c459670184        1         29863   \n",
       "Zimbabwe  3dda90af-6c74-494d-b240-fc4d8d31759a        3         15897   \n",
       "\n",
       "                                      order_id  event_id  \\\n",
       "location                                                   \n",
       "Zimbabwe  0e7b92ef-8f50-4445-be28-5a28676d8e4e    138310   \n",
       "Zimbabwe  0e7b92ef-8f50-4445-be28-5a28676d8e4e    138310   \n",
       "Zimbabwe  0e7b92ef-8f50-4445-be28-5a28676d8e4e    138309   \n",
       "Zimbabwe  0e7b92ef-8f50-4445-be28-5a28676d8e4e    138314   \n",
       "Zimbabwe  46a574f4-9044-4653-b2cc-7c1610f68494     74252   \n",
       "\n",
       "                    event_timestamp  quantity currency  \\\n",
       "location                                                 \n",
       "Zimbabwe 2024-03-22 13:20:41.144866         3      GBP   \n",
       "Zimbabwe 2024-03-22 13:20:41.144866         5      GBP   \n",
       "Zimbabwe 2024-03-28 01:59:47.070999         5      GBP   \n",
       "Zimbabwe 2024-03-30 04:03:16.911579         5      GBP   \n",
       "Zimbabwe 2024-03-30 04:03:13.568394         3      NGN   \n",
       "\n",
       "                     checked_out_at     status  location  \n",
       "location                                                  \n",
       "Zimbabwe 2024-03-30 04:12:16.911586  cancelled       NaN  \n",
       "Zimbabwe 2024-03-30 04:12:16.911586  cancelled       NaN  \n",
       "Zimbabwe 2024-03-30 04:12:16.911586  cancelled       NaN  \n",
       "Zimbabwe 2024-03-30 04:12:16.911586  cancelled       NaN  \n",
       "Zimbabwe 2024-03-30 04:18:13.568459    success       NaN  "
      ]
     },
     "execution_count": 21,
     "metadata": {},
     "output_type": "execute_result"
    }
   ],
   "source": [
    "sales1.tail()"
   ]
  },
  {
   "cell_type": "code",
   "execution_count": 22,
   "id": "7b412dec",
   "metadata": {},
   "outputs": [
    {
     "data": {
      "text/plain": [
       "Index(['Afghanistan', 'Albania', 'Algeria', 'American Samoa', 'Andorra',\n",
       "       'Angola', 'Anguilla', 'Antarctica (the territory South of 60 deg S)',\n",
       "       'Antigua and Barbuda', 'Argentina',\n",
       "       ...\n",
       "       'Uruguay', 'Uzbekistan', 'Vanuatu', 'Venezuela', 'Vietnam',\n",
       "       'Wallis and Futuna', 'Western Sahara', 'Yemen', 'Zambia', 'Zimbabwe'],\n",
       "      dtype='object', name='location', length=243)"
      ]
     },
     "execution_count": 22,
     "metadata": {},
     "output_type": "execute_result"
    }
   ],
   "source": [
    "# Checking the unique values in location column\n",
    "location = sales1.index.unique().sort_values()\n",
    "location\n",
    "\n"
   ]
  },
  {
   "cell_type": "code",
   "execution_count": 23,
   "id": "784e999b",
   "metadata": {},
   "outputs": [
    {
     "data": {
      "text/plain": [
       "243"
      ]
     },
     "execution_count": 23,
     "metadata": {},
     "output_type": "execute_result"
    }
   ],
   "source": [
    "no_of_locations = sales1.index.nunique()\n",
    "no_of_locations"
   ]
  },
  {
   "cell_type": "code",
   "execution_count": 24,
   "id": "3d6323f4",
   "metadata": {},
   "outputs": [
    {
     "data": {
      "text/plain": [
       "location\n",
       "Korea                          6997\n",
       "Argentina                      4507\n",
       "Mauritius                      4414\n",
       "Jersey                         4130\n",
       "Panama                         3936\n",
       "French Guiana                  3851\n",
       "Guernsey                       3804\n",
       "Guatemala                      3731\n",
       "Albania                        3721\n",
       "Philippines                    3675\n",
       "Mali                           3670\n",
       "Congo                          3642\n",
       "Finland                        3615\n",
       "Cape Verde                     3509\n",
       "Christmas Island               3471\n",
       "China                          3429\n",
       "France                         3425\n",
       "French Southern Territories    3421\n",
       "Poland                         3355\n",
       "Cyprus                         3345\n",
       "Switzerland                    3342\n",
       "British Virgin Islands         3329\n",
       "Bosnia and Herzegovina         3309\n",
       "Niger                          3295\n",
       "Sri Lanka                      3289\n",
       "Name: count, dtype: int64"
      ]
     },
     "execution_count": 24,
     "metadata": {},
     "output_type": "execute_result"
    }
   ],
   "source": [
    "# Top 25 locations with most sales\n",
    "top_25 = sales.index.value_counts().head(25)\n",
    "top_25"
   ]
  },
  {
   "cell_type": "code",
   "execution_count": 25,
   "id": "1ccbaaf2",
   "metadata": {},
   "outputs": [
    {
     "data": {
      "text/plain": [
       "location\n",
       "Namibia                     1522\n",
       "Sierra Leone                1493\n",
       "Jamaica                     1447\n",
       "Sao Tome and Principe       1421\n",
       "Russian Federation          1404\n",
       "Malawi                      1403\n",
       "Djibouti                    1394\n",
       "Botswana                    1390\n",
       "Yemen                       1384\n",
       "Montenegro                  1379\n",
       "Kyrgyz Republic             1370\n",
       "United Arab Emirates        1352\n",
       "Turks and Caicos Islands    1229\n",
       "Azerbaijan                  1225\n",
       "Barbados                    1216\n",
       "Greece                      1214\n",
       "Saint Kitts and Nevis       1201\n",
       "Honduras                    1195\n",
       "Cocos (Keeling) Islands     1168\n",
       "Taiwan                      1122\n",
       "Chad                        1082\n",
       "Malaysia                    1037\n",
       "Austria                      921\n",
       "Italy                        783\n",
       "Uruguay                      734\n",
       "Name: count, dtype: int64"
      ]
     },
     "execution_count": 25,
     "metadata": {},
     "output_type": "execute_result"
    }
   ],
   "source": [
    "# Least 25 locations with most sales\n",
    "least_25 = sales1.index.value_counts().tail(25)\n",
    "least_25"
   ]
  },
  {
   "cell_type": "code",
   "execution_count": 26,
   "id": "ecf984db",
   "metadata": {},
   "outputs": [
    {
     "data": {
      "text/plain": [
       "array(['NGN', 'GBP', 'USD'], dtype=object)"
      ]
     },
     "execution_count": 26,
     "metadata": {},
     "output_type": "execute_result"
    }
   ],
   "source": [
    "# CHecking the currencies used for the purchase\n",
    "currency = sales1['currency'].unique()\n",
    "currency"
   ]
  },
  {
   "cell_type": "code",
   "execution_count": 27,
   "id": "9d67d68b",
   "metadata": {},
   "outputs": [
    {
     "data": {
      "text/plain": [
       "3"
      ]
     },
     "execution_count": 27,
     "metadata": {},
     "output_type": "execute_result"
    }
   ],
   "source": [
    "# Top number of currencies used for the purchase\n",
    "no_currency = sales1['currency'].nunique()\n",
    "no_currency"
   ]
  },
  {
   "cell_type": "code",
   "execution_count": 36,
   "id": "82bdf138",
   "metadata": {},
   "outputs": [
    {
     "data": {
      "text/plain": [
       "currency\n",
       "USD    198037\n",
       "GBP    191403\n",
       "NGN    188880\n",
       "Name: count, dtype: int64"
      ]
     },
     "execution_count": 36,
     "metadata": {},
     "output_type": "execute_result"
    }
   ],
   "source": [
    "# Checking how frequent each currency waas used for the purchase\n",
    "no_currency_used = sales1['currency'].value_counts()\n",
    "no_currency_used"
   ]
  },
  {
   "cell_type": "code",
   "execution_count": 29,
   "id": "20d90741",
   "metadata": {},
   "outputs": [
    {
     "data": {
      "text/html": [
       "<div>\n",
       "<style scoped>\n",
       "    .dataframe tbody tr th:only-of-type {\n",
       "        vertical-align: middle;\n",
       "    }\n",
       "\n",
       "    .dataframe tbody tr th {\n",
       "        vertical-align: top;\n",
       "    }\n",
       "\n",
       "    .dataframe thead th {\n",
       "        text-align: right;\n",
       "    }\n",
       "</style>\n",
       "<table border=\"1\" class=\"dataframe\">\n",
       "  <thead>\n",
       "    <tr style=\"text-align: right;\">\n",
       "      <th></th>\n",
       "      <th>customer_id</th>\n",
       "      <th>device_id</th>\n",
       "      <th>item_id</th>\n",
       "      <th>line_item_id</th>\n",
       "      <th>order_id</th>\n",
       "      <th>event_id</th>\n",
       "      <th>event_timestamp</th>\n",
       "      <th>quantity</th>\n",
       "      <th>currency</th>\n",
       "      <th>checked_out_at</th>\n",
       "      <th>status</th>\n",
       "      <th>location</th>\n",
       "    </tr>\n",
       "    <tr>\n",
       "      <th>location</th>\n",
       "      <th></th>\n",
       "      <th></th>\n",
       "      <th></th>\n",
       "      <th></th>\n",
       "      <th></th>\n",
       "      <th></th>\n",
       "      <th></th>\n",
       "      <th></th>\n",
       "      <th></th>\n",
       "      <th></th>\n",
       "      <th></th>\n",
       "      <th></th>\n",
       "    </tr>\n",
       "  </thead>\n",
       "  <tbody>\n",
       "    <tr>\n",
       "      <th>Albania</th>\n",
       "      <td>08b02ad4-e8b6-4ba3-9251-649664f6e824</td>\n",
       "      <td>c23a30e9-d242-4c52-b240-24509d233fe8</td>\n",
       "      <td>14</td>\n",
       "      <td>32626</td>\n",
       "      <td>18719662-201e-49d7-99da-ad53c19d511a</td>\n",
       "      <td>151438</td>\n",
       "      <td>2024-03-30 04:03:17.578723</td>\n",
       "      <td>2</td>\n",
       "      <td>USD</td>\n",
       "      <td>2024-03-30 04:15:17.578737</td>\n",
       "      <td>success</td>\n",
       "      <td>NaN</td>\n",
       "    </tr>\n",
       "    <tr>\n",
       "      <th>Albania</th>\n",
       "      <td>08b02ad4-e8b6-4ba3-9251-649664f6e824</td>\n",
       "      <td>c23a30e9-d242-4c52-b240-24509d233fe8</td>\n",
       "      <td>10</td>\n",
       "      <td>32628</td>\n",
       "      <td>18719662-201e-49d7-99da-ad53c19d511a</td>\n",
       "      <td>151437</td>\n",
       "      <td>2024-03-30 04:03:17.578722</td>\n",
       "      <td>1</td>\n",
       "      <td>USD</td>\n",
       "      <td>2024-03-30 04:15:17.578737</td>\n",
       "      <td>success</td>\n",
       "      <td>NaN</td>\n",
       "    </tr>\n",
       "    <tr>\n",
       "      <th>Albania</th>\n",
       "      <td>08b02ad4-e8b6-4ba3-9251-649664f6e824</td>\n",
       "      <td>c23a30e9-d242-4c52-b240-24509d233fe8</td>\n",
       "      <td>8</td>\n",
       "      <td>32630</td>\n",
       "      <td>18719662-201e-49d7-99da-ad53c19d511a</td>\n",
       "      <td>151437</td>\n",
       "      <td>2024-03-30 04:03:17.578722</td>\n",
       "      <td>3</td>\n",
       "      <td>USD</td>\n",
       "      <td>2024-03-30 04:15:17.578737</td>\n",
       "      <td>success</td>\n",
       "      <td>NaN</td>\n",
       "    </tr>\n",
       "    <tr>\n",
       "      <th>Albania</th>\n",
       "      <td>08b02ad4-e8b6-4ba3-9251-649664f6e824</td>\n",
       "      <td>c23a30e9-d242-4c52-b240-24509d233fe8</td>\n",
       "      <td>9</td>\n",
       "      <td>32631</td>\n",
       "      <td>18719662-201e-49d7-99da-ad53c19d511a</td>\n",
       "      <td>151437</td>\n",
       "      <td>2024-03-30 04:03:17.578722</td>\n",
       "      <td>2</td>\n",
       "      <td>USD</td>\n",
       "      <td>2024-03-30 04:15:17.578737</td>\n",
       "      <td>success</td>\n",
       "      <td>NaN</td>\n",
       "    </tr>\n",
       "    <tr>\n",
       "      <th>Albania</th>\n",
       "      <td>08b02ad4-e8b6-4ba3-9251-649664f6e824</td>\n",
       "      <td>c23a30e9-d242-4c52-b240-24509d233fe8</td>\n",
       "      <td>2</td>\n",
       "      <td>32632</td>\n",
       "      <td>18719662-201e-49d7-99da-ad53c19d511a</td>\n",
       "      <td>151437</td>\n",
       "      <td>2024-03-30 04:03:17.578722</td>\n",
       "      <td>1</td>\n",
       "      <td>USD</td>\n",
       "      <td>2024-03-30 04:15:17.578737</td>\n",
       "      <td>success</td>\n",
       "      <td>NaN</td>\n",
       "    </tr>\n",
       "    <tr>\n",
       "      <th>...</th>\n",
       "      <td>...</td>\n",
       "      <td>...</td>\n",
       "      <td>...</td>\n",
       "      <td>...</td>\n",
       "      <td>...</td>\n",
       "      <td>...</td>\n",
       "      <td>...</td>\n",
       "      <td>...</td>\n",
       "      <td>...</td>\n",
       "      <td>...</td>\n",
       "      <td>...</td>\n",
       "      <td>...</td>\n",
       "    </tr>\n",
       "    <tr>\n",
       "      <th>Zimbabwe</th>\n",
       "      <td>db698cb9-ca29-4508-b0f7-832b392306a4</td>\n",
       "      <td>e0c6329e-1e79-4560-8145-81c459670184</td>\n",
       "      <td>10</td>\n",
       "      <td>29861</td>\n",
       "      <td>0e7b92ef-8f50-4445-be28-5a28676d8e4e</td>\n",
       "      <td>138310</td>\n",
       "      <td>2024-03-22 13:20:41.144866</td>\n",
       "      <td>3</td>\n",
       "      <td>GBP</td>\n",
       "      <td>2024-03-30 04:12:16.911586</td>\n",
       "      <td>cancelled</td>\n",
       "      <td>NaN</td>\n",
       "    </tr>\n",
       "    <tr>\n",
       "      <th>Zimbabwe</th>\n",
       "      <td>db698cb9-ca29-4508-b0f7-832b392306a4</td>\n",
       "      <td>e0c6329e-1e79-4560-8145-81c459670184</td>\n",
       "      <td>7</td>\n",
       "      <td>29860</td>\n",
       "      <td>0e7b92ef-8f50-4445-be28-5a28676d8e4e</td>\n",
       "      <td>138310</td>\n",
       "      <td>2024-03-22 13:20:41.144866</td>\n",
       "      <td>5</td>\n",
       "      <td>GBP</td>\n",
       "      <td>2024-03-30 04:12:16.911586</td>\n",
       "      <td>cancelled</td>\n",
       "      <td>NaN</td>\n",
       "    </tr>\n",
       "    <tr>\n",
       "      <th>Zimbabwe</th>\n",
       "      <td>db698cb9-ca29-4508-b0f7-832b392306a4</td>\n",
       "      <td>e0c6329e-1e79-4560-8145-81c459670184</td>\n",
       "      <td>1</td>\n",
       "      <td>29863</td>\n",
       "      <td>0e7b92ef-8f50-4445-be28-5a28676d8e4e</td>\n",
       "      <td>138309</td>\n",
       "      <td>2024-03-28 01:59:47.070999</td>\n",
       "      <td>5</td>\n",
       "      <td>GBP</td>\n",
       "      <td>2024-03-30 04:12:16.911586</td>\n",
       "      <td>cancelled</td>\n",
       "      <td>NaN</td>\n",
       "    </tr>\n",
       "    <tr>\n",
       "      <th>Zimbabwe</th>\n",
       "      <td>db698cb9-ca29-4508-b0f7-832b392306a4</td>\n",
       "      <td>e0c6329e-1e79-4560-8145-81c459670184</td>\n",
       "      <td>1</td>\n",
       "      <td>29863</td>\n",
       "      <td>0e7b92ef-8f50-4445-be28-5a28676d8e4e</td>\n",
       "      <td>138314</td>\n",
       "      <td>2024-03-30 04:03:16.911579</td>\n",
       "      <td>5</td>\n",
       "      <td>GBP</td>\n",
       "      <td>2024-03-30 04:12:16.911586</td>\n",
       "      <td>cancelled</td>\n",
       "      <td>NaN</td>\n",
       "    </tr>\n",
       "    <tr>\n",
       "      <th>Zimbabwe</th>\n",
       "      <td>3f32bd5a-83d1-4d0e-85ba-101602388481</td>\n",
       "      <td>3dda90af-6c74-494d-b240-fc4d8d31759a</td>\n",
       "      <td>3</td>\n",
       "      <td>15897</td>\n",
       "      <td>46a574f4-9044-4653-b2cc-7c1610f68494</td>\n",
       "      <td>74252</td>\n",
       "      <td>2024-03-30 04:03:13.568394</td>\n",
       "      <td>3</td>\n",
       "      <td>NGN</td>\n",
       "      <td>2024-03-30 04:18:13.568459</td>\n",
       "      <td>success</td>\n",
       "      <td>NaN</td>\n",
       "    </tr>\n",
       "  </tbody>\n",
       "</table>\n",
       "<p>574320 rows × 12 columns</p>\n",
       "</div>"
      ],
      "text/plain": [
       "                                   customer_id  \\\n",
       "location                                         \n",
       "Albania   08b02ad4-e8b6-4ba3-9251-649664f6e824   \n",
       "Albania   08b02ad4-e8b6-4ba3-9251-649664f6e824   \n",
       "Albania   08b02ad4-e8b6-4ba3-9251-649664f6e824   \n",
       "Albania   08b02ad4-e8b6-4ba3-9251-649664f6e824   \n",
       "Albania   08b02ad4-e8b6-4ba3-9251-649664f6e824   \n",
       "...                                        ...   \n",
       "Zimbabwe  db698cb9-ca29-4508-b0f7-832b392306a4   \n",
       "Zimbabwe  db698cb9-ca29-4508-b0f7-832b392306a4   \n",
       "Zimbabwe  db698cb9-ca29-4508-b0f7-832b392306a4   \n",
       "Zimbabwe  db698cb9-ca29-4508-b0f7-832b392306a4   \n",
       "Zimbabwe  3f32bd5a-83d1-4d0e-85ba-101602388481   \n",
       "\n",
       "                                     device_id  item_id  line_item_id  \\\n",
       "location                                                                \n",
       "Albania   c23a30e9-d242-4c52-b240-24509d233fe8       14         32626   \n",
       "Albania   c23a30e9-d242-4c52-b240-24509d233fe8       10         32628   \n",
       "Albania   c23a30e9-d242-4c52-b240-24509d233fe8        8         32630   \n",
       "Albania   c23a30e9-d242-4c52-b240-24509d233fe8        9         32631   \n",
       "Albania   c23a30e9-d242-4c52-b240-24509d233fe8        2         32632   \n",
       "...                                        ...      ...           ...   \n",
       "Zimbabwe  e0c6329e-1e79-4560-8145-81c459670184       10         29861   \n",
       "Zimbabwe  e0c6329e-1e79-4560-8145-81c459670184        7         29860   \n",
       "Zimbabwe  e0c6329e-1e79-4560-8145-81c459670184        1         29863   \n",
       "Zimbabwe  e0c6329e-1e79-4560-8145-81c459670184        1         29863   \n",
       "Zimbabwe  3dda90af-6c74-494d-b240-fc4d8d31759a        3         15897   \n",
       "\n",
       "                                      order_id  event_id  \\\n",
       "location                                                   \n",
       "Albania   18719662-201e-49d7-99da-ad53c19d511a    151438   \n",
       "Albania   18719662-201e-49d7-99da-ad53c19d511a    151437   \n",
       "Albania   18719662-201e-49d7-99da-ad53c19d511a    151437   \n",
       "Albania   18719662-201e-49d7-99da-ad53c19d511a    151437   \n",
       "Albania   18719662-201e-49d7-99da-ad53c19d511a    151437   \n",
       "...                                        ...       ...   \n",
       "Zimbabwe  0e7b92ef-8f50-4445-be28-5a28676d8e4e    138310   \n",
       "Zimbabwe  0e7b92ef-8f50-4445-be28-5a28676d8e4e    138310   \n",
       "Zimbabwe  0e7b92ef-8f50-4445-be28-5a28676d8e4e    138309   \n",
       "Zimbabwe  0e7b92ef-8f50-4445-be28-5a28676d8e4e    138314   \n",
       "Zimbabwe  46a574f4-9044-4653-b2cc-7c1610f68494     74252   \n",
       "\n",
       "                    event_timestamp  quantity currency  \\\n",
       "location                                                 \n",
       "Albania  2024-03-30 04:03:17.578723         2      USD   \n",
       "Albania  2024-03-30 04:03:17.578722         1      USD   \n",
       "Albania  2024-03-30 04:03:17.578722         3      USD   \n",
       "Albania  2024-03-30 04:03:17.578722         2      USD   \n",
       "Albania  2024-03-30 04:03:17.578722         1      USD   \n",
       "...                             ...       ...      ...   \n",
       "Zimbabwe 2024-03-22 13:20:41.144866         3      GBP   \n",
       "Zimbabwe 2024-03-22 13:20:41.144866         5      GBP   \n",
       "Zimbabwe 2024-03-28 01:59:47.070999         5      GBP   \n",
       "Zimbabwe 2024-03-30 04:03:16.911579         5      GBP   \n",
       "Zimbabwe 2024-03-30 04:03:13.568394         3      NGN   \n",
       "\n",
       "                     checked_out_at     status  location  \n",
       "location                                                  \n",
       "Albania  2024-03-30 04:15:17.578737    success       NaN  \n",
       "Albania  2024-03-30 04:15:17.578737    success       NaN  \n",
       "Albania  2024-03-30 04:15:17.578737    success       NaN  \n",
       "Albania  2024-03-30 04:15:17.578737    success       NaN  \n",
       "Albania  2024-03-30 04:15:17.578737    success       NaN  \n",
       "...                             ...        ...       ...  \n",
       "Zimbabwe 2024-03-30 04:12:16.911586  cancelled       NaN  \n",
       "Zimbabwe 2024-03-30 04:12:16.911586  cancelled       NaN  \n",
       "Zimbabwe 2024-03-30 04:12:16.911586  cancelled       NaN  \n",
       "Zimbabwe 2024-03-30 04:12:16.911586  cancelled       NaN  \n",
       "Zimbabwe 2024-03-30 04:18:13.568459    success       NaN  \n",
       "\n",
       "[574320 rows x 12 columns]"
      ]
     },
     "execution_count": 29,
     "metadata": {},
     "output_type": "execute_result"
    }
   ],
   "source": [
    "# Using iloc to display certain locations\n",
    "find_locations = sales1.iloc[4000:]\n",
    "find_locations"
   ]
  },
  {
   "cell_type": "code",
   "execution_count": 30,
   "id": "162892a6",
   "metadata": {},
   "outputs": [
    {
     "data": {
      "text/plain": [
       "4594"
      ]
     },
     "execution_count": 30,
     "metadata": {},
     "output_type": "execute_result"
    }
   ],
   "source": [
    "# Checking the unique customer id in the data set\n",
    "customer_id = sales1['customer_id'].nunique()\n",
    "customer_id"
   ]
  },
  {
   "cell_type": "code",
   "execution_count": 42,
   "id": "30155694",
   "metadata": {},
   "outputs": [
    {
     "data": {
      "text/plain": [
       "array(['failed', 'success', 'cancelled'], dtype=object)"
      ]
     },
     "execution_count": 42,
     "metadata": {},
     "output_type": "execute_result"
    }
   ],
   "source": [
    "# Checking the unique status for all purchases\n",
    "status = sales1['status'].unique()\n",
    "status"
   ]
  },
  {
   "cell_type": "code",
   "execution_count": 44,
   "id": "ddb52209",
   "metadata": {},
   "outputs": [
    {
     "data": {
      "text/plain": [
       "status\n",
       "failed       196383\n",
       "success      192594\n",
       "cancelled    189343\n",
       "Name: count, dtype: int64"
      ]
     },
     "execution_count": 44,
     "metadata": {},
     "output_type": "execute_result"
    }
   ],
   "source": [
    "# CHecking the total number of each status \n",
    "status_no = sales1['status'].value_counts()\n",
    "status_no"
   ]
  },
  {
   "cell_type": "code",
   "execution_count": 74,
   "id": "b3d0f8e6",
   "metadata": {},
   "outputs": [
    {
     "data": {
      "text/plain": [
       "customer_id\n",
       "eb7dcb88-073d-403e-bdd4-1e5725fe2338    372\n",
       "ebcea232-0615-44be-8f9e-338100c6b31c    360\n",
       "a7d9058a-163e-4632-9bde-1f57130130cb    360\n",
       "c391f179-9eb3-418d-9d7b-b261f2dc57a6    360\n",
       "be8ce4e3-c596-43c2-8b70-bdcecada2139    360\n",
       "                                       ... \n",
       "18dc24d8-019c-446d-8233-d3064d622d24    312\n",
       "d9244686-c0db-4668-80b2-df14efe476cc    312\n",
       "cc95599f-1bac-4b5a-b68c-702524b70035    312\n",
       "d2fd5704-df8b-430c-b3bd-8a1d981f9257    312\n",
       "21d4db4c-eacc-44f7-bf62-04db9f44371f    312\n",
       "Name: count, Length: 100, dtype: int64"
      ]
     },
     "execution_count": 74,
     "metadata": {},
     "output_type": "execute_result"
    }
   ],
   "source": [
    "# Checking the top 25 customers with the highest purchase \n",
    "top_25_customers = find_locations['customer_id'].value_counts().head(100)\n",
    "top_25_customers"
   ]
  },
  {
   "cell_type": "code",
   "execution_count": 33,
   "id": "ff9a9f01",
   "metadata": {},
   "outputs": [
    {
     "data": {
      "text/html": [
       "<div>\n",
       "<style scoped>\n",
       "    .dataframe tbody tr th:only-of-type {\n",
       "        vertical-align: middle;\n",
       "    }\n",
       "\n",
       "    .dataframe tbody tr th {\n",
       "        vertical-align: top;\n",
       "    }\n",
       "\n",
       "    .dataframe thead th {\n",
       "        text-align: right;\n",
       "    }\n",
       "</style>\n",
       "<table border=\"1\" class=\"dataframe\">\n",
       "  <thead>\n",
       "    <tr style=\"text-align: right;\">\n",
       "      <th></th>\n",
       "      <th>customer_id</th>\n",
       "      <th>device_id</th>\n",
       "      <th>item_id</th>\n",
       "      <th>line_item_id</th>\n",
       "      <th>order_id</th>\n",
       "      <th>event_id</th>\n",
       "      <th>event_timestamp</th>\n",
       "      <th>quantity</th>\n",
       "      <th>currency</th>\n",
       "      <th>checked_out_at</th>\n",
       "      <th>status</th>\n",
       "      <th>location</th>\n",
       "    </tr>\n",
       "    <tr>\n",
       "      <th>location</th>\n",
       "      <th></th>\n",
       "      <th></th>\n",
       "      <th></th>\n",
       "      <th></th>\n",
       "      <th></th>\n",
       "      <th></th>\n",
       "      <th></th>\n",
       "      <th></th>\n",
       "      <th></th>\n",
       "      <th></th>\n",
       "      <th></th>\n",
       "      <th></th>\n",
       "    </tr>\n",
       "  </thead>\n",
       "  <tbody>\n",
       "    <tr>\n",
       "      <th>Saint Helena</th>\n",
       "      <td>eb7dcb88-073d-403e-bdd4-1e5725fe2338</td>\n",
       "      <td>5d53495a-55ac-49bf-b876-ad1ac4b8d2a4</td>\n",
       "      <td>11</td>\n",
       "      <td>12811</td>\n",
       "      <td>5cc9c814-c69a-4831-9b50-92abe2c1dea2</td>\n",
       "      <td>59280</td>\n",
       "      <td>2024-03-30 04:03:12.797444</td>\n",
       "      <td>4</td>\n",
       "      <td>USD</td>\n",
       "      <td>2024-03-30 04:09:12.797464</td>\n",
       "      <td>cancelled</td>\n",
       "      <td>NaN</td>\n",
       "    </tr>\n",
       "    <tr>\n",
       "      <th>Saint Helena</th>\n",
       "      <td>eb7dcb88-073d-403e-bdd4-1e5725fe2338</td>\n",
       "      <td>5d53495a-55ac-49bf-b876-ad1ac4b8d2a4</td>\n",
       "      <td>2</td>\n",
       "      <td>12801</td>\n",
       "      <td>5cc9c814-c69a-4831-9b50-92abe2c1dea2</td>\n",
       "      <td>59282</td>\n",
       "      <td>2024-03-30 04:03:12.797446</td>\n",
       "      <td>1</td>\n",
       "      <td>USD</td>\n",
       "      <td>2024-03-30 04:09:12.797464</td>\n",
       "      <td>cancelled</td>\n",
       "      <td>NaN</td>\n",
       "    </tr>\n",
       "    <tr>\n",
       "      <th>Saint Helena</th>\n",
       "      <td>eb7dcb88-073d-403e-bdd4-1e5725fe2338</td>\n",
       "      <td>5d53495a-55ac-49bf-b876-ad1ac4b8d2a4</td>\n",
       "      <td>4</td>\n",
       "      <td>12802</td>\n",
       "      <td>5cc9c814-c69a-4831-9b50-92abe2c1dea2</td>\n",
       "      <td>59282</td>\n",
       "      <td>2024-03-30 04:03:12.797446</td>\n",
       "      <td>3</td>\n",
       "      <td>USD</td>\n",
       "      <td>2024-03-30 04:09:12.797464</td>\n",
       "      <td>cancelled</td>\n",
       "      <td>NaN</td>\n",
       "    </tr>\n",
       "    <tr>\n",
       "      <th>Saint Helena</th>\n",
       "      <td>eb7dcb88-073d-403e-bdd4-1e5725fe2338</td>\n",
       "      <td>5d53495a-55ac-49bf-b876-ad1ac4b8d2a4</td>\n",
       "      <td>6</td>\n",
       "      <td>12803</td>\n",
       "      <td>5cc9c814-c69a-4831-9b50-92abe2c1dea2</td>\n",
       "      <td>59282</td>\n",
       "      <td>2024-03-30 04:03:12.797446</td>\n",
       "      <td>3</td>\n",
       "      <td>USD</td>\n",
       "      <td>2024-03-30 04:09:12.797464</td>\n",
       "      <td>cancelled</td>\n",
       "      <td>NaN</td>\n",
       "    </tr>\n",
       "    <tr>\n",
       "      <th>Saint Helena</th>\n",
       "      <td>eb7dcb88-073d-403e-bdd4-1e5725fe2338</td>\n",
       "      <td>5d53495a-55ac-49bf-b876-ad1ac4b8d2a4</td>\n",
       "      <td>5</td>\n",
       "      <td>12804</td>\n",
       "      <td>5cc9c814-c69a-4831-9b50-92abe2c1dea2</td>\n",
       "      <td>59282</td>\n",
       "      <td>2024-03-30 04:03:12.797446</td>\n",
       "      <td>1</td>\n",
       "      <td>USD</td>\n",
       "      <td>2024-03-30 04:09:12.797464</td>\n",
       "      <td>cancelled</td>\n",
       "      <td>NaN</td>\n",
       "    </tr>\n",
       "  </tbody>\n",
       "</table>\n",
       "</div>"
      ],
      "text/plain": [
       "                                       customer_id  \\\n",
       "location                                             \n",
       "Saint Helena  eb7dcb88-073d-403e-bdd4-1e5725fe2338   \n",
       "Saint Helena  eb7dcb88-073d-403e-bdd4-1e5725fe2338   \n",
       "Saint Helena  eb7dcb88-073d-403e-bdd4-1e5725fe2338   \n",
       "Saint Helena  eb7dcb88-073d-403e-bdd4-1e5725fe2338   \n",
       "Saint Helena  eb7dcb88-073d-403e-bdd4-1e5725fe2338   \n",
       "\n",
       "                                         device_id  item_id  line_item_id  \\\n",
       "location                                                                    \n",
       "Saint Helena  5d53495a-55ac-49bf-b876-ad1ac4b8d2a4       11         12811   \n",
       "Saint Helena  5d53495a-55ac-49bf-b876-ad1ac4b8d2a4        2         12801   \n",
       "Saint Helena  5d53495a-55ac-49bf-b876-ad1ac4b8d2a4        4         12802   \n",
       "Saint Helena  5d53495a-55ac-49bf-b876-ad1ac4b8d2a4        6         12803   \n",
       "Saint Helena  5d53495a-55ac-49bf-b876-ad1ac4b8d2a4        5         12804   \n",
       "\n",
       "                                          order_id  event_id  \\\n",
       "location                                                       \n",
       "Saint Helena  5cc9c814-c69a-4831-9b50-92abe2c1dea2     59280   \n",
       "Saint Helena  5cc9c814-c69a-4831-9b50-92abe2c1dea2     59282   \n",
       "Saint Helena  5cc9c814-c69a-4831-9b50-92abe2c1dea2     59282   \n",
       "Saint Helena  5cc9c814-c69a-4831-9b50-92abe2c1dea2     59282   \n",
       "Saint Helena  5cc9c814-c69a-4831-9b50-92abe2c1dea2     59282   \n",
       "\n",
       "                        event_timestamp  quantity currency  \\\n",
       "location                                                     \n",
       "Saint Helena 2024-03-30 04:03:12.797444         4      USD   \n",
       "Saint Helena 2024-03-30 04:03:12.797446         1      USD   \n",
       "Saint Helena 2024-03-30 04:03:12.797446         3      USD   \n",
       "Saint Helena 2024-03-30 04:03:12.797446         3      USD   \n",
       "Saint Helena 2024-03-30 04:03:12.797446         1      USD   \n",
       "\n",
       "                         checked_out_at     status  location  \n",
       "location                                                      \n",
       "Saint Helena 2024-03-30 04:09:12.797464  cancelled       NaN  \n",
       "Saint Helena 2024-03-30 04:09:12.797464  cancelled       NaN  \n",
       "Saint Helena 2024-03-30 04:09:12.797464  cancelled       NaN  \n",
       "Saint Helena 2024-03-30 04:09:12.797464  cancelled       NaN  \n",
       "Saint Helena 2024-03-30 04:09:12.797464  cancelled       NaN  "
      ]
     },
     "execution_count": 33,
     "metadata": {},
     "output_type": "execute_result"
    }
   ],
   "source": [
    "# Checking the behaiviour of a certain customer\n",
    "mask = (sales1['customer_id']=='eb7dcb88-073d-403e-bdd4-1e5725fe2338')\n",
    "sales1[mask].head(5)\n"
   ]
  },
  {
   "cell_type": "code",
   "execution_count": 38,
   "id": "645c5c83",
   "metadata": {},
   "outputs": [
    {
     "data": {
      "text/html": [
       "<div>\n",
       "<style scoped>\n",
       "    .dataframe tbody tr th:only-of-type {\n",
       "        vertical-align: middle;\n",
       "    }\n",
       "\n",
       "    .dataframe tbody tr th {\n",
       "        vertical-align: top;\n",
       "    }\n",
       "\n",
       "    .dataframe thead th {\n",
       "        text-align: right;\n",
       "    }\n",
       "</style>\n",
       "<table border=\"1\" class=\"dataframe\">\n",
       "  <thead>\n",
       "    <tr style=\"text-align: right;\">\n",
       "      <th></th>\n",
       "      <th>customer_id</th>\n",
       "      <th>device_id</th>\n",
       "      <th>item_id</th>\n",
       "      <th>line_item_id</th>\n",
       "      <th>order_id</th>\n",
       "      <th>event_id</th>\n",
       "      <th>event_timestamp</th>\n",
       "      <th>quantity</th>\n",
       "      <th>currency</th>\n",
       "      <th>checked_out_at</th>\n",
       "      <th>status</th>\n",
       "    </tr>\n",
       "    <tr>\n",
       "      <th>location</th>\n",
       "      <th></th>\n",
       "      <th></th>\n",
       "      <th></th>\n",
       "      <th></th>\n",
       "      <th></th>\n",
       "      <th></th>\n",
       "      <th></th>\n",
       "      <th></th>\n",
       "      <th></th>\n",
       "      <th></th>\n",
       "      <th></th>\n",
       "    </tr>\n",
       "  </thead>\n",
       "  <tbody>\n",
       "    <tr>\n",
       "      <th>Saint Helena</th>\n",
       "      <td>eb7dcb88-073d-403e-bdd4-1e5725fe2338</td>\n",
       "      <td>5d53495a-55ac-49bf-b876-ad1ac4b8d2a4</td>\n",
       "      <td>11</td>\n",
       "      <td>12811</td>\n",
       "      <td>5cc9c814-c69a-4831-9b50-92abe2c1dea2</td>\n",
       "      <td>59280</td>\n",
       "      <td>2024-03-30 04:03:12.797444</td>\n",
       "      <td>4</td>\n",
       "      <td>USD</td>\n",
       "      <td>2024-03-30 04:09:12.797464</td>\n",
       "      <td>cancelled</td>\n",
       "    </tr>\n",
       "    <tr>\n",
       "      <th>Saint Helena</th>\n",
       "      <td>eb7dcb88-073d-403e-bdd4-1e5725fe2338</td>\n",
       "      <td>5d53495a-55ac-49bf-b876-ad1ac4b8d2a4</td>\n",
       "      <td>2</td>\n",
       "      <td>12801</td>\n",
       "      <td>5cc9c814-c69a-4831-9b50-92abe2c1dea2</td>\n",
       "      <td>59282</td>\n",
       "      <td>2024-03-30 04:03:12.797446</td>\n",
       "      <td>1</td>\n",
       "      <td>USD</td>\n",
       "      <td>2024-03-30 04:09:12.797464</td>\n",
       "      <td>cancelled</td>\n",
       "    </tr>\n",
       "    <tr>\n",
       "      <th>Saint Helena</th>\n",
       "      <td>eb7dcb88-073d-403e-bdd4-1e5725fe2338</td>\n",
       "      <td>5d53495a-55ac-49bf-b876-ad1ac4b8d2a4</td>\n",
       "      <td>4</td>\n",
       "      <td>12802</td>\n",
       "      <td>5cc9c814-c69a-4831-9b50-92abe2c1dea2</td>\n",
       "      <td>59282</td>\n",
       "      <td>2024-03-30 04:03:12.797446</td>\n",
       "      <td>3</td>\n",
       "      <td>USD</td>\n",
       "      <td>2024-03-30 04:09:12.797464</td>\n",
       "      <td>cancelled</td>\n",
       "    </tr>\n",
       "    <tr>\n",
       "      <th>Saint Helena</th>\n",
       "      <td>eb7dcb88-073d-403e-bdd4-1e5725fe2338</td>\n",
       "      <td>5d53495a-55ac-49bf-b876-ad1ac4b8d2a4</td>\n",
       "      <td>6</td>\n",
       "      <td>12803</td>\n",
       "      <td>5cc9c814-c69a-4831-9b50-92abe2c1dea2</td>\n",
       "      <td>59282</td>\n",
       "      <td>2024-03-30 04:03:12.797446</td>\n",
       "      <td>3</td>\n",
       "      <td>USD</td>\n",
       "      <td>2024-03-30 04:09:12.797464</td>\n",
       "      <td>cancelled</td>\n",
       "    </tr>\n",
       "    <tr>\n",
       "      <th>Saint Helena</th>\n",
       "      <td>eb7dcb88-073d-403e-bdd4-1e5725fe2338</td>\n",
       "      <td>5d53495a-55ac-49bf-b876-ad1ac4b8d2a4</td>\n",
       "      <td>5</td>\n",
       "      <td>12804</td>\n",
       "      <td>5cc9c814-c69a-4831-9b50-92abe2c1dea2</td>\n",
       "      <td>59282</td>\n",
       "      <td>2024-03-30 04:03:12.797446</td>\n",
       "      <td>1</td>\n",
       "      <td>USD</td>\n",
       "      <td>2024-03-30 04:09:12.797464</td>\n",
       "      <td>cancelled</td>\n",
       "    </tr>\n",
       "  </tbody>\n",
       "</table>\n",
       "</div>"
      ],
      "text/plain": [
       "                                       customer_id  \\\n",
       "location                                             \n",
       "Saint Helena  eb7dcb88-073d-403e-bdd4-1e5725fe2338   \n",
       "Saint Helena  eb7dcb88-073d-403e-bdd4-1e5725fe2338   \n",
       "Saint Helena  eb7dcb88-073d-403e-bdd4-1e5725fe2338   \n",
       "Saint Helena  eb7dcb88-073d-403e-bdd4-1e5725fe2338   \n",
       "Saint Helena  eb7dcb88-073d-403e-bdd4-1e5725fe2338   \n",
       "\n",
       "                                         device_id  item_id  line_item_id  \\\n",
       "location                                                                    \n",
       "Saint Helena  5d53495a-55ac-49bf-b876-ad1ac4b8d2a4       11         12811   \n",
       "Saint Helena  5d53495a-55ac-49bf-b876-ad1ac4b8d2a4        2         12801   \n",
       "Saint Helena  5d53495a-55ac-49bf-b876-ad1ac4b8d2a4        4         12802   \n",
       "Saint Helena  5d53495a-55ac-49bf-b876-ad1ac4b8d2a4        6         12803   \n",
       "Saint Helena  5d53495a-55ac-49bf-b876-ad1ac4b8d2a4        5         12804   \n",
       "\n",
       "                                          order_id  event_id  \\\n",
       "location                                                       \n",
       "Saint Helena  5cc9c814-c69a-4831-9b50-92abe2c1dea2     59280   \n",
       "Saint Helena  5cc9c814-c69a-4831-9b50-92abe2c1dea2     59282   \n",
       "Saint Helena  5cc9c814-c69a-4831-9b50-92abe2c1dea2     59282   \n",
       "Saint Helena  5cc9c814-c69a-4831-9b50-92abe2c1dea2     59282   \n",
       "Saint Helena  5cc9c814-c69a-4831-9b50-92abe2c1dea2     59282   \n",
       "\n",
       "                        event_timestamp  quantity currency  \\\n",
       "location                                                     \n",
       "Saint Helena 2024-03-30 04:03:12.797444         4      USD   \n",
       "Saint Helena 2024-03-30 04:03:12.797446         1      USD   \n",
       "Saint Helena 2024-03-30 04:03:12.797446         3      USD   \n",
       "Saint Helena 2024-03-30 04:03:12.797446         3      USD   \n",
       "Saint Helena 2024-03-30 04:03:12.797446         1      USD   \n",
       "\n",
       "                         checked_out_at     status  \n",
       "location                                            \n",
       "Saint Helena 2024-03-30 04:09:12.797464  cancelled  \n",
       "Saint Helena 2024-03-30 04:09:12.797464  cancelled  \n",
       "Saint Helena 2024-03-30 04:09:12.797464  cancelled  \n",
       "Saint Helena 2024-03-30 04:09:12.797464  cancelled  \n",
       "Saint Helena 2024-03-30 04:09:12.797464  cancelled  "
      ]
     },
     "execution_count": 38,
     "metadata": {},
     "output_type": "execute_result"
    }
   ],
   "source": [
    "# checking the customer_id with respect to the currencies \n",
    "customer_currency = sales1.loc[mask, 'customer_id':'status'].head(5)\n",
    "customer_currency"
   ]
  },
  {
   "cell_type": "code",
   "execution_count": 79,
   "id": "28ec137a",
   "metadata": {},
   "outputs": [],
   "source": [
    "mask = (sales1['customer_id']=='eb7dcb88-073d-403e-bdd4-1e5725fe2338') & (sales1['status']!='success') \n"
   ]
  },
  {
   "cell_type": "code",
   "execution_count": 80,
   "id": "9bd94e06",
   "metadata": {},
   "outputs": [
    {
     "data": {
      "text/html": [
       "<div>\n",
       "<style scoped>\n",
       "    .dataframe tbody tr th:only-of-type {\n",
       "        vertical-align: middle;\n",
       "    }\n",
       "\n",
       "    .dataframe tbody tr th {\n",
       "        vertical-align: top;\n",
       "    }\n",
       "\n",
       "    .dataframe thead th {\n",
       "        text-align: right;\n",
       "    }\n",
       "</style>\n",
       "<table border=\"1\" class=\"dataframe\">\n",
       "  <thead>\n",
       "    <tr style=\"text-align: right;\">\n",
       "      <th></th>\n",
       "      <th>customer_id</th>\n",
       "      <th>device_id</th>\n",
       "      <th>item_id</th>\n",
       "      <th>line_item_id</th>\n",
       "      <th>order_id</th>\n",
       "      <th>event_id</th>\n",
       "      <th>event_timestamp</th>\n",
       "      <th>quantity</th>\n",
       "      <th>currency</th>\n",
       "      <th>checked_out_at</th>\n",
       "      <th>status</th>\n",
       "      <th>location</th>\n",
       "    </tr>\n",
       "    <tr>\n",
       "      <th>location</th>\n",
       "      <th></th>\n",
       "      <th></th>\n",
       "      <th></th>\n",
       "      <th></th>\n",
       "      <th></th>\n",
       "      <th></th>\n",
       "      <th></th>\n",
       "      <th></th>\n",
       "      <th></th>\n",
       "      <th></th>\n",
       "      <th></th>\n",
       "      <th></th>\n",
       "    </tr>\n",
       "  </thead>\n",
       "  <tbody>\n",
       "    <tr>\n",
       "      <th>Saint Helena</th>\n",
       "      <td>eb7dcb88-073d-403e-bdd4-1e5725fe2338</td>\n",
       "      <td>5d53495a-55ac-49bf-b876-ad1ac4b8d2a4</td>\n",
       "      <td>11</td>\n",
       "      <td>12811</td>\n",
       "      <td>5cc9c814-c69a-4831-9b50-92abe2c1dea2</td>\n",
       "      <td>59280</td>\n",
       "      <td>2024-03-30 04:03:12.797444</td>\n",
       "      <td>4</td>\n",
       "      <td>USD</td>\n",
       "      <td>2024-03-30 04:09:12.797464</td>\n",
       "      <td>cancelled</td>\n",
       "      <td>NaN</td>\n",
       "    </tr>\n",
       "    <tr>\n",
       "      <th>Saint Helena</th>\n",
       "      <td>eb7dcb88-073d-403e-bdd4-1e5725fe2338</td>\n",
       "      <td>5d53495a-55ac-49bf-b876-ad1ac4b8d2a4</td>\n",
       "      <td>2</td>\n",
       "      <td>12801</td>\n",
       "      <td>5cc9c814-c69a-4831-9b50-92abe2c1dea2</td>\n",
       "      <td>59282</td>\n",
       "      <td>2024-03-30 04:03:12.797446</td>\n",
       "      <td>1</td>\n",
       "      <td>USD</td>\n",
       "      <td>2024-03-30 04:09:12.797464</td>\n",
       "      <td>cancelled</td>\n",
       "      <td>NaN</td>\n",
       "    </tr>\n",
       "    <tr>\n",
       "      <th>Saint Helena</th>\n",
       "      <td>eb7dcb88-073d-403e-bdd4-1e5725fe2338</td>\n",
       "      <td>5d53495a-55ac-49bf-b876-ad1ac4b8d2a4</td>\n",
       "      <td>4</td>\n",
       "      <td>12802</td>\n",
       "      <td>5cc9c814-c69a-4831-9b50-92abe2c1dea2</td>\n",
       "      <td>59282</td>\n",
       "      <td>2024-03-30 04:03:12.797446</td>\n",
       "      <td>3</td>\n",
       "      <td>USD</td>\n",
       "      <td>2024-03-30 04:09:12.797464</td>\n",
       "      <td>cancelled</td>\n",
       "      <td>NaN</td>\n",
       "    </tr>\n",
       "    <tr>\n",
       "      <th>Saint Helena</th>\n",
       "      <td>eb7dcb88-073d-403e-bdd4-1e5725fe2338</td>\n",
       "      <td>5d53495a-55ac-49bf-b876-ad1ac4b8d2a4</td>\n",
       "      <td>6</td>\n",
       "      <td>12803</td>\n",
       "      <td>5cc9c814-c69a-4831-9b50-92abe2c1dea2</td>\n",
       "      <td>59282</td>\n",
       "      <td>2024-03-30 04:03:12.797446</td>\n",
       "      <td>3</td>\n",
       "      <td>USD</td>\n",
       "      <td>2024-03-30 04:09:12.797464</td>\n",
       "      <td>cancelled</td>\n",
       "      <td>NaN</td>\n",
       "    </tr>\n",
       "    <tr>\n",
       "      <th>Saint Helena</th>\n",
       "      <td>eb7dcb88-073d-403e-bdd4-1e5725fe2338</td>\n",
       "      <td>5d53495a-55ac-49bf-b876-ad1ac4b8d2a4</td>\n",
       "      <td>5</td>\n",
       "      <td>12804</td>\n",
       "      <td>5cc9c814-c69a-4831-9b50-92abe2c1dea2</td>\n",
       "      <td>59282</td>\n",
       "      <td>2024-03-30 04:03:12.797446</td>\n",
       "      <td>1</td>\n",
       "      <td>USD</td>\n",
       "      <td>2024-03-30 04:09:12.797464</td>\n",
       "      <td>cancelled</td>\n",
       "      <td>NaN</td>\n",
       "    </tr>\n",
       "  </tbody>\n",
       "</table>\n",
       "</div>"
      ],
      "text/plain": [
       "                                       customer_id  \\\n",
       "location                                             \n",
       "Saint Helena  eb7dcb88-073d-403e-bdd4-1e5725fe2338   \n",
       "Saint Helena  eb7dcb88-073d-403e-bdd4-1e5725fe2338   \n",
       "Saint Helena  eb7dcb88-073d-403e-bdd4-1e5725fe2338   \n",
       "Saint Helena  eb7dcb88-073d-403e-bdd4-1e5725fe2338   \n",
       "Saint Helena  eb7dcb88-073d-403e-bdd4-1e5725fe2338   \n",
       "\n",
       "                                         device_id  item_id  line_item_id  \\\n",
       "location                                                                    \n",
       "Saint Helena  5d53495a-55ac-49bf-b876-ad1ac4b8d2a4       11         12811   \n",
       "Saint Helena  5d53495a-55ac-49bf-b876-ad1ac4b8d2a4        2         12801   \n",
       "Saint Helena  5d53495a-55ac-49bf-b876-ad1ac4b8d2a4        4         12802   \n",
       "Saint Helena  5d53495a-55ac-49bf-b876-ad1ac4b8d2a4        6         12803   \n",
       "Saint Helena  5d53495a-55ac-49bf-b876-ad1ac4b8d2a4        5         12804   \n",
       "\n",
       "                                          order_id  event_id  \\\n",
       "location                                                       \n",
       "Saint Helena  5cc9c814-c69a-4831-9b50-92abe2c1dea2     59280   \n",
       "Saint Helena  5cc9c814-c69a-4831-9b50-92abe2c1dea2     59282   \n",
       "Saint Helena  5cc9c814-c69a-4831-9b50-92abe2c1dea2     59282   \n",
       "Saint Helena  5cc9c814-c69a-4831-9b50-92abe2c1dea2     59282   \n",
       "Saint Helena  5cc9c814-c69a-4831-9b50-92abe2c1dea2     59282   \n",
       "\n",
       "                        event_timestamp  quantity currency  \\\n",
       "location                                                     \n",
       "Saint Helena 2024-03-30 04:03:12.797444         4      USD   \n",
       "Saint Helena 2024-03-30 04:03:12.797446         1      USD   \n",
       "Saint Helena 2024-03-30 04:03:12.797446         3      USD   \n",
       "Saint Helena 2024-03-30 04:03:12.797446         3      USD   \n",
       "Saint Helena 2024-03-30 04:03:12.797446         1      USD   \n",
       "\n",
       "                         checked_out_at     status  location  \n",
       "location                                                      \n",
       "Saint Helena 2024-03-30 04:09:12.797464  cancelled       NaN  \n",
       "Saint Helena 2024-03-30 04:09:12.797464  cancelled       NaN  \n",
       "Saint Helena 2024-03-30 04:09:12.797464  cancelled       NaN  \n",
       "Saint Helena 2024-03-30 04:09:12.797464  cancelled       NaN  \n",
       "Saint Helena 2024-03-30 04:09:12.797464  cancelled       NaN  "
      ]
     },
     "execution_count": 80,
     "metadata": {},
     "output_type": "execute_result"
    }
   ],
   "source": [
    "sales1[mask].head()"
   ]
  },
  {
   "cell_type": "code",
   "execution_count": 82,
   "id": "4eceb290",
   "metadata": {},
   "outputs": [],
   "source": [
    "that_customer = sales1.loc[mask]"
   ]
  },
  {
   "cell_type": "code",
   "execution_count": 81,
   "id": "d149c924",
   "metadata": {},
   "outputs": [
    {
     "data": {
      "text/plain": [
       "currency\n",
       "USD    372\n",
       "Name: count, dtype: int64"
      ]
     },
     "execution_count": 81,
     "metadata": {},
     "output_type": "execute_result"
    }
   ],
   "source": [
    "that_customer['currency'].value_counts()"
   ]
  },
  {
   "cell_type": "code",
   "execution_count": 83,
   "id": "afcf912d",
   "metadata": {},
   "outputs": [
    {
     "data": {
      "text/plain": [
       "array(['cancelled'], dtype=object)"
      ]
     },
     "execution_count": 83,
     "metadata": {},
     "output_type": "execute_result"
    }
   ],
   "source": [
    "that_customer['status'].unique()"
   ]
  },
  {
   "cell_type": "code",
   "execution_count": 84,
   "id": "641674c2",
   "metadata": {},
   "outputs": [
    {
     "data": {
      "text/plain": [
       "status\n",
       "cancelled    372\n",
       "Name: count, dtype: int64"
      ]
     },
     "execution_count": 84,
     "metadata": {},
     "output_type": "execute_result"
    }
   ],
   "source": [
    "that_customer['status'].value_counts()\n",
    "# The customer 'that_customer' has experienced 372 cancelled transactions using \n"
   ]
  },
  {
   "cell_type": "code",
   "execution_count": 86,
   "id": "66ca4a79",
   "metadata": {},
   "outputs": [],
   "source": [
    "mask_usd = (sales1['status']=='cancelled') & (sales1['currency']=='USD')\n",
    "mask_gbp = (sales1['status']=='cancelled') & (sales1['currency']=='GBP')\n",
    "mask_ngn = (sales1['status']=='cancelled') & (sales1['currency']=='NGN')"
   ]
  },
  {
   "cell_type": "code",
   "execution_count": 94,
   "id": "012bd7dc",
   "metadata": {},
   "outputs": [],
   "source": [
    "customers_ngn = sales1.loc[mask_ngn]\n",
    "customers_usd = sales1.loc[mask_usd]\n",
    "customers_gbp = sales1.loc[mask_gbp]\n"
   ]
  },
  {
   "cell_type": "code",
   "execution_count": 97,
   "id": "c5d317dc",
   "metadata": {},
   "outputs": [
    {
     "name": "stdout",
     "output_type": "stream",
     "text": [
      "The total number of number of cancelled transactions using naira\n",
      ":currency\n",
      "NGN    57347\n",
      "Name: count, dtype: int64\n"
     ]
    }
   ],
   "source": [
    "ngn = customers_ngn['currency'].value_counts()\n",
    "cancelled = customers_ngn['status'].value_counts()\n",
    "print(f'The total number of number of cancelled transactions using naira\\n:{ngn}')"
   ]
  },
  {
   "cell_type": "code",
   "execution_count": null,
   "id": "74aed34a",
   "metadata": {},
   "outputs": [
    {
     "name": "stdout",
     "output_type": "stream",
     "text": [
      "The total number of number of cancelled transactions using naira\n",
      ":currency\n",
      "USD    67672\n",
      "Name: count, dtype: int64\n"
     ]
    }
   ],
   "source": [
    "usd = customers_usd['currency'].value_counts()\n",
    "cancelled = customers_usd['status'].value_counts()\n",
    "print(f'The total number of number of cancelled transactions using USD is\\n:{usd}')"
   ]
  },
  {
   "cell_type": "code",
   "execution_count": 101,
   "id": "d2a5f022",
   "metadata": {},
   "outputs": [
    {
     "data": {
      "text/plain": [
       "status     currency\n",
       "cancelled  USD         67672\n",
       "           GBP         64324\n",
       "           NGN         57347\n",
       "failed     USD         68183\n",
       "           NGN         65387\n",
       "           GBP         62813\n",
       "success    NGN         66146\n",
       "           GBP         64266\n",
       "           USD         62182\n",
       "Name: count, dtype: int64"
      ]
     },
     "execution_count": 101,
     "metadata": {},
     "output_type": "execute_result"
    }
   ],
   "source": [
    "currency_by_status = sales1.groupby(\"status\")[\"currency\"].value_counts()\n",
    "currency_by_status"
   ]
  },
  {
   "cell_type": "code",
   "execution_count": 102,
   "id": "687bf462",
   "metadata": {},
   "outputs": [
    {
     "data": {
      "text/html": [
       "<div>\n",
       "<style scoped>\n",
       "    .dataframe tbody tr th:only-of-type {\n",
       "        vertical-align: middle;\n",
       "    }\n",
       "\n",
       "    .dataframe tbody tr th {\n",
       "        vertical-align: top;\n",
       "    }\n",
       "\n",
       "    .dataframe thead th {\n",
       "        text-align: right;\n",
       "    }\n",
       "</style>\n",
       "<table border=\"1\" class=\"dataframe\">\n",
       "  <thead>\n",
       "    <tr style=\"text-align: right;\">\n",
       "      <th></th>\n",
       "      <th>customer_id</th>\n",
       "      <th>device_id</th>\n",
       "      <th>item_id</th>\n",
       "      <th>line_item_id</th>\n",
       "      <th>order_id</th>\n",
       "      <th>event_id</th>\n",
       "      <th>event_timestamp</th>\n",
       "      <th>quantity</th>\n",
       "      <th>currency</th>\n",
       "      <th>checked_out_at</th>\n",
       "      <th>status</th>\n",
       "    </tr>\n",
       "    <tr>\n",
       "      <th>location</th>\n",
       "      <th></th>\n",
       "      <th></th>\n",
       "      <th></th>\n",
       "      <th></th>\n",
       "      <th></th>\n",
       "      <th></th>\n",
       "      <th></th>\n",
       "      <th></th>\n",
       "      <th></th>\n",
       "      <th></th>\n",
       "      <th></th>\n",
       "    </tr>\n",
       "  </thead>\n",
       "  <tbody>\n",
       "    <tr>\n",
       "      <th>Mauritius</th>\n",
       "      <td>149de5ac-faf4-48c8-b467-c5ee157734ca</td>\n",
       "      <td>f5a86589-d287-4ae9-9fb7-3afef9127d3c</td>\n",
       "      <td>7</td>\n",
       "      <td>3965</td>\n",
       "      <td>d33d2ad0-3977-4d59-802f-197b11e7ecd1</td>\n",
       "      <td>18364</td>\n",
       "      <td>2024-03-30 04:03:10.644004</td>\n",
       "      <td>4</td>\n",
       "      <td>NGN</td>\n",
       "      <td>2024-03-30 04:18:10.644078</td>\n",
       "      <td>success</td>\n",
       "    </tr>\n",
       "    <tr>\n",
       "      <th>Mauritius</th>\n",
       "      <td>149de5ac-faf4-48c8-b467-c5ee157734ca</td>\n",
       "      <td>f5a86589-d287-4ae9-9fb7-3afef9127d3c</td>\n",
       "      <td>12</td>\n",
       "      <td>3966</td>\n",
       "      <td>d33d2ad0-3977-4d59-802f-197b11e7ecd1</td>\n",
       "      <td>18364</td>\n",
       "      <td>2024-03-30 04:03:10.644004</td>\n",
       "      <td>1</td>\n",
       "      <td>NGN</td>\n",
       "      <td>2024-03-30 04:18:10.644078</td>\n",
       "      <td>success</td>\n",
       "    </tr>\n",
       "    <tr>\n",
       "      <th>Mauritius</th>\n",
       "      <td>149de5ac-faf4-48c8-b467-c5ee157734ca</td>\n",
       "      <td>f5a86589-d287-4ae9-9fb7-3afef9127d3c</td>\n",
       "      <td>13</td>\n",
       "      <td>3967</td>\n",
       "      <td>d33d2ad0-3977-4d59-802f-197b11e7ecd1</td>\n",
       "      <td>18364</td>\n",
       "      <td>2024-03-30 04:03:10.644004</td>\n",
       "      <td>5</td>\n",
       "      <td>NGN</td>\n",
       "      <td>2024-03-30 04:18:10.644078</td>\n",
       "      <td>success</td>\n",
       "    </tr>\n",
       "    <tr>\n",
       "      <th>Mauritius</th>\n",
       "      <td>149de5ac-faf4-48c8-b467-c5ee157734ca</td>\n",
       "      <td>f5a86589-d287-4ae9-9fb7-3afef9127d3c</td>\n",
       "      <td>6</td>\n",
       "      <td>3968</td>\n",
       "      <td>d33d2ad0-3977-4d59-802f-197b11e7ecd1</td>\n",
       "      <td>18364</td>\n",
       "      <td>2024-03-30 04:03:10.644004</td>\n",
       "      <td>1</td>\n",
       "      <td>NGN</td>\n",
       "      <td>2024-03-30 04:18:10.644078</td>\n",
       "      <td>success</td>\n",
       "    </tr>\n",
       "    <tr>\n",
       "      <th>Mauritius</th>\n",
       "      <td>149de5ac-faf4-48c8-b467-c5ee157734ca</td>\n",
       "      <td>f5a86589-d287-4ae9-9fb7-3afef9127d3c</td>\n",
       "      <td>5</td>\n",
       "      <td>3969</td>\n",
       "      <td>d33d2ad0-3977-4d59-802f-197b11e7ecd1</td>\n",
       "      <td>18364</td>\n",
       "      <td>2024-03-30 04:03:10.644004</td>\n",
       "      <td>1</td>\n",
       "      <td>NGN</td>\n",
       "      <td>2024-03-30 04:18:10.644078</td>\n",
       "      <td>success</td>\n",
       "    </tr>\n",
       "  </tbody>\n",
       "</table>\n",
       "</div>"
      ],
      "text/plain": [
       "                                    customer_id  \\\n",
       "location                                          \n",
       "Mauritius  149de5ac-faf4-48c8-b467-c5ee157734ca   \n",
       "Mauritius  149de5ac-faf4-48c8-b467-c5ee157734ca   \n",
       "Mauritius  149de5ac-faf4-48c8-b467-c5ee157734ca   \n",
       "Mauritius  149de5ac-faf4-48c8-b467-c5ee157734ca   \n",
       "Mauritius  149de5ac-faf4-48c8-b467-c5ee157734ca   \n",
       "\n",
       "                                      device_id  item_id  line_item_id  \\\n",
       "location                                                                 \n",
       "Mauritius  f5a86589-d287-4ae9-9fb7-3afef9127d3c        7          3965   \n",
       "Mauritius  f5a86589-d287-4ae9-9fb7-3afef9127d3c       12          3966   \n",
       "Mauritius  f5a86589-d287-4ae9-9fb7-3afef9127d3c       13          3967   \n",
       "Mauritius  f5a86589-d287-4ae9-9fb7-3afef9127d3c        6          3968   \n",
       "Mauritius  f5a86589-d287-4ae9-9fb7-3afef9127d3c        5          3969   \n",
       "\n",
       "                                       order_id  event_id  \\\n",
       "location                                                    \n",
       "Mauritius  d33d2ad0-3977-4d59-802f-197b11e7ecd1     18364   \n",
       "Mauritius  d33d2ad0-3977-4d59-802f-197b11e7ecd1     18364   \n",
       "Mauritius  d33d2ad0-3977-4d59-802f-197b11e7ecd1     18364   \n",
       "Mauritius  d33d2ad0-3977-4d59-802f-197b11e7ecd1     18364   \n",
       "Mauritius  d33d2ad0-3977-4d59-802f-197b11e7ecd1     18364   \n",
       "\n",
       "                     event_timestamp  quantity currency  \\\n",
       "location                                                  \n",
       "Mauritius 2024-03-30 04:03:10.644004         4      NGN   \n",
       "Mauritius 2024-03-30 04:03:10.644004         1      NGN   \n",
       "Mauritius 2024-03-30 04:03:10.644004         5      NGN   \n",
       "Mauritius 2024-03-30 04:03:10.644004         1      NGN   \n",
       "Mauritius 2024-03-30 04:03:10.644004         1      NGN   \n",
       "\n",
       "                      checked_out_at   status  \n",
       "location                                       \n",
       "Mauritius 2024-03-30 04:18:10.644078  success  \n",
       "Mauritius 2024-03-30 04:18:10.644078  success  \n",
       "Mauritius 2024-03-30 04:18:10.644078  success  \n",
       "Mauritius 2024-03-30 04:18:10.644078  success  \n",
       "Mauritius 2024-03-30 04:18:10.644078  success  "
      ]
     },
     "execution_count": 102,
     "metadata": {},
     "output_type": "execute_result"
    }
   ],
   "source": [
    "# Checking the transaction history of one of the top purchasing countries\n",
    "mauritius = sales.loc['Mauritius']\n",
    "mauritius.head()\n"
   ]
  },
  {
   "cell_type": "code",
   "execution_count": 103,
   "id": "1b0f3251",
   "metadata": {},
   "outputs": [
    {
     "name": "stdout",
     "output_type": "stream",
     "text": [
      "<class 'pandas.core.frame.DataFrame'>\n",
      "Index: 4414 entries, Mauritius to Mauritius\n",
      "Data columns (total 11 columns):\n",
      " #   Column           Non-Null Count  Dtype         \n",
      "---  ------           --------------  -----         \n",
      " 0   customer_id      4414 non-null   object        \n",
      " 1   device_id        4414 non-null   object        \n",
      " 2   item_id          4414 non-null   int64         \n",
      " 3   line_item_id     4414 non-null   int64         \n",
      " 4   order_id         4414 non-null   object        \n",
      " 5   event_id         4414 non-null   int64         \n",
      " 6   event_timestamp  4414 non-null   datetime64[ns]\n",
      " 7   quantity         4414 non-null   int64         \n",
      " 8   currency         4414 non-null   object        \n",
      " 9   checked_out_at   4414 non-null   datetime64[ns]\n",
      " 10  status           4414 non-null   object        \n",
      "dtypes: datetime64[ns](2), int64(4), object(5)\n",
      "memory usage: 413.8+ KB\n"
     ]
    }
   ],
   "source": [
    "#CHecking the info on the country\n",
    "mauritius.info()"
   ]
  },
  {
   "cell_type": "code",
   "execution_count": 105,
   "id": "8998f568",
   "metadata": {},
   "outputs": [
    {
     "data": {
      "text/plain": [
       "(4414, 11)"
      ]
     },
     "execution_count": 105,
     "metadata": {},
     "output_type": "execute_result"
    }
   ],
   "source": [
    "# Checking the shape of the country\n",
    "mauritius.shape"
   ]
  },
  {
   "cell_type": "code",
   "execution_count": 109,
   "id": "b424cdc8",
   "metadata": {},
   "outputs": [],
   "source": [
    "# Checking the status of the transactions in Mauritius\n",
    "failed = mauritius[mauritius['status']=='failed']\n",
    "success= mauritius[mauritius['status']=='success']\n",
    "cancelled = mauritius[mauritius['status']=='cancelled']"
   ]
  },
  {
   "cell_type": "code",
   "execution_count": 110,
   "id": "04fc9f39",
   "metadata": {},
   "outputs": [
    {
     "data": {
      "text/html": [
       "<div>\n",
       "<style scoped>\n",
       "    .dataframe tbody tr th:only-of-type {\n",
       "        vertical-align: middle;\n",
       "    }\n",
       "\n",
       "    .dataframe tbody tr th {\n",
       "        vertical-align: top;\n",
       "    }\n",
       "\n",
       "    .dataframe thead th {\n",
       "        text-align: right;\n",
       "    }\n",
       "</style>\n",
       "<table border=\"1\" class=\"dataframe\">\n",
       "  <thead>\n",
       "    <tr style=\"text-align: right;\">\n",
       "      <th></th>\n",
       "      <th>customer_id</th>\n",
       "      <th>device_id</th>\n",
       "      <th>item_id</th>\n",
       "      <th>line_item_id</th>\n",
       "      <th>order_id</th>\n",
       "      <th>event_id</th>\n",
       "      <th>event_timestamp</th>\n",
       "      <th>quantity</th>\n",
       "      <th>currency</th>\n",
       "      <th>checked_out_at</th>\n",
       "      <th>status</th>\n",
       "    </tr>\n",
       "    <tr>\n",
       "      <th>location</th>\n",
       "      <th></th>\n",
       "      <th></th>\n",
       "      <th></th>\n",
       "      <th></th>\n",
       "      <th></th>\n",
       "      <th></th>\n",
       "      <th></th>\n",
       "      <th></th>\n",
       "      <th></th>\n",
       "      <th></th>\n",
       "      <th></th>\n",
       "    </tr>\n",
       "  </thead>\n",
       "  <tbody>\n",
       "    <tr>\n",
       "      <th>Mauritius</th>\n",
       "      <td>f0fccc75-73ae-4d3f-a993-6c22d2baad97</td>\n",
       "      <td>2f11f956-81da-44f6-b906-0266d3d21721</td>\n",
       "      <td>11</td>\n",
       "      <td>9539</td>\n",
       "      <td>28fd9606-e6a8-491b-b538-58215e91d170</td>\n",
       "      <td>44091</td>\n",
       "      <td>2024-03-24 22:44:56.256842</td>\n",
       "      <td>1</td>\n",
       "      <td>GBP</td>\n",
       "      <td>2024-03-30 04:14:12.012414</td>\n",
       "      <td>failed</td>\n",
       "    </tr>\n",
       "    <tr>\n",
       "      <th>Mauritius</th>\n",
       "      <td>f0fccc75-73ae-4d3f-a993-6c22d2baad97</td>\n",
       "      <td>2f11f956-81da-44f6-b906-0266d3d21721</td>\n",
       "      <td>15</td>\n",
       "      <td>9540</td>\n",
       "      <td>28fd9606-e6a8-491b-b538-58215e91d170</td>\n",
       "      <td>44091</td>\n",
       "      <td>2024-03-24 22:44:56.256842</td>\n",
       "      <td>3</td>\n",
       "      <td>GBP</td>\n",
       "      <td>2024-03-30 04:14:12.012414</td>\n",
       "      <td>failed</td>\n",
       "    </tr>\n",
       "    <tr>\n",
       "      <th>Mauritius</th>\n",
       "      <td>f0fccc75-73ae-4d3f-a993-6c22d2baad97</td>\n",
       "      <td>2f11f956-81da-44f6-b906-0266d3d21721</td>\n",
       "      <td>2</td>\n",
       "      <td>9541</td>\n",
       "      <td>28fd9606-e6a8-491b-b538-58215e91d170</td>\n",
       "      <td>44091</td>\n",
       "      <td>2024-03-24 22:44:56.256842</td>\n",
       "      <td>2</td>\n",
       "      <td>GBP</td>\n",
       "      <td>2024-03-30 04:14:12.012414</td>\n",
       "      <td>failed</td>\n",
       "    </tr>\n",
       "    <tr>\n",
       "      <th>Mauritius</th>\n",
       "      <td>f0fccc75-73ae-4d3f-a993-6c22d2baad97</td>\n",
       "      <td>2f11f956-81da-44f6-b906-0266d3d21721</td>\n",
       "      <td>3</td>\n",
       "      <td>9542</td>\n",
       "      <td>28fd9606-e6a8-491b-b538-58215e91d170</td>\n",
       "      <td>44091</td>\n",
       "      <td>2024-03-24 22:44:56.256842</td>\n",
       "      <td>1</td>\n",
       "      <td>GBP</td>\n",
       "      <td>2024-03-30 04:14:12.012414</td>\n",
       "      <td>failed</td>\n",
       "    </tr>\n",
       "    <tr>\n",
       "      <th>Mauritius</th>\n",
       "      <td>f0fccc75-73ae-4d3f-a993-6c22d2baad97</td>\n",
       "      <td>2f11f956-81da-44f6-b906-0266d3d21721</td>\n",
       "      <td>5</td>\n",
       "      <td>9543</td>\n",
       "      <td>28fd9606-e6a8-491b-b538-58215e91d170</td>\n",
       "      <td>44091</td>\n",
       "      <td>2024-03-24 22:44:56.256842</td>\n",
       "      <td>3</td>\n",
       "      <td>GBP</td>\n",
       "      <td>2024-03-30 04:14:12.012414</td>\n",
       "      <td>failed</td>\n",
       "    </tr>\n",
       "  </tbody>\n",
       "</table>\n",
       "</div>"
      ],
      "text/plain": [
       "                                    customer_id  \\\n",
       "location                                          \n",
       "Mauritius  f0fccc75-73ae-4d3f-a993-6c22d2baad97   \n",
       "Mauritius  f0fccc75-73ae-4d3f-a993-6c22d2baad97   \n",
       "Mauritius  f0fccc75-73ae-4d3f-a993-6c22d2baad97   \n",
       "Mauritius  f0fccc75-73ae-4d3f-a993-6c22d2baad97   \n",
       "Mauritius  f0fccc75-73ae-4d3f-a993-6c22d2baad97   \n",
       "\n",
       "                                      device_id  item_id  line_item_id  \\\n",
       "location                                                                 \n",
       "Mauritius  2f11f956-81da-44f6-b906-0266d3d21721       11          9539   \n",
       "Mauritius  2f11f956-81da-44f6-b906-0266d3d21721       15          9540   \n",
       "Mauritius  2f11f956-81da-44f6-b906-0266d3d21721        2          9541   \n",
       "Mauritius  2f11f956-81da-44f6-b906-0266d3d21721        3          9542   \n",
       "Mauritius  2f11f956-81da-44f6-b906-0266d3d21721        5          9543   \n",
       "\n",
       "                                       order_id  event_id  \\\n",
       "location                                                    \n",
       "Mauritius  28fd9606-e6a8-491b-b538-58215e91d170     44091   \n",
       "Mauritius  28fd9606-e6a8-491b-b538-58215e91d170     44091   \n",
       "Mauritius  28fd9606-e6a8-491b-b538-58215e91d170     44091   \n",
       "Mauritius  28fd9606-e6a8-491b-b538-58215e91d170     44091   \n",
       "Mauritius  28fd9606-e6a8-491b-b538-58215e91d170     44091   \n",
       "\n",
       "                     event_timestamp  quantity currency  \\\n",
       "location                                                  \n",
       "Mauritius 2024-03-24 22:44:56.256842         1      GBP   \n",
       "Mauritius 2024-03-24 22:44:56.256842         3      GBP   \n",
       "Mauritius 2024-03-24 22:44:56.256842         2      GBP   \n",
       "Mauritius 2024-03-24 22:44:56.256842         1      GBP   \n",
       "Mauritius 2024-03-24 22:44:56.256842         3      GBP   \n",
       "\n",
       "                      checked_out_at  status  \n",
       "location                                      \n",
       "Mauritius 2024-03-30 04:14:12.012414  failed  \n",
       "Mauritius 2024-03-30 04:14:12.012414  failed  \n",
       "Mauritius 2024-03-30 04:14:12.012414  failed  \n",
       "Mauritius 2024-03-30 04:14:12.012414  failed  \n",
       "Mauritius 2024-03-30 04:14:12.012414  failed  "
      ]
     },
     "execution_count": 110,
     "metadata": {},
     "output_type": "execute_result"
    }
   ],
   "source": [
    "failed.head()"
   ]
  },
  {
   "cell_type": "code",
   "execution_count": 111,
   "id": "1a8dd5d6",
   "metadata": {},
   "outputs": [
    {
     "data": {
      "text/plain": [
       "1341"
      ]
     },
     "execution_count": 111,
     "metadata": {},
     "output_type": "execute_result"
    }
   ],
   "source": [
    "failed.shape[0]"
   ]
  },
  {
   "cell_type": "code",
   "execution_count": 115,
   "id": "22f8d1a2",
   "metadata": {},
   "outputs": [
    {
     "data": {
      "text/plain": [
       "2374"
      ]
     },
     "execution_count": 115,
     "metadata": {},
     "output_type": "execute_result"
    }
   ],
   "source": [
    "success.shape[0]"
   ]
  },
  {
   "cell_type": "code",
   "execution_count": 116,
   "id": "cc46388e",
   "metadata": {},
   "outputs": [
    {
     "data": {
      "text/plain": [
       "699"
      ]
     },
     "execution_count": 116,
     "metadata": {},
     "output_type": "execute_result"
    }
   ],
   "source": [
    "cancelled.shape[0]"
   ]
  },
  {
   "cell_type": "code",
   "execution_count": 114,
   "id": "ce4927f7",
   "metadata": {},
   "outputs": [
    {
     "data": {
      "text/plain": [
       "11"
      ]
     },
     "execution_count": 114,
     "metadata": {},
     "output_type": "execute_result"
    }
   ],
   "source": [
    "failed['customer_id'].nunique()"
   ]
  },
  {
   "cell_type": "code",
   "execution_count": 118,
   "id": "b84e12ba",
   "metadata": {},
   "outputs": [
    {
     "data": {
      "text/plain": [
       "16"
      ]
     },
     "execution_count": 118,
     "metadata": {},
     "output_type": "execute_result"
    }
   ],
   "source": [
    "success['customer_id'].nunique()"
   ]
  },
  {
   "cell_type": "code",
   "execution_count": 119,
   "id": "364c06c1",
   "metadata": {},
   "outputs": [
    {
     "data": {
      "text/plain": [
       "5"
      ]
     },
     "execution_count": 119,
     "metadata": {},
     "output_type": "execute_result"
    }
   ],
   "source": [
    "cancelled['customer_id'].nunique()"
   ]
  },
  {
   "cell_type": "code",
   "execution_count": 113,
   "id": "9dfd0e15",
   "metadata": {},
   "outputs": [
    {
     "data": {
      "text/plain": [
       "array(['f0fccc75-73ae-4d3f-a993-6c22d2baad97',\n",
       "       '39da6e5a-21da-4257-a25b-876f8d934359',\n",
       "       'ac064f60-e766-41a1-ac42-65371c237845',\n",
       "       'c94a9f60-2e57-4b81-8fb9-835d9e53c4df',\n",
       "       'e0cf302e-3057-4051-b2d1-2a11e6e955ff',\n",
       "       '1ad3c72d-4616-48d3-a15a-fb39a558f142',\n",
       "       '7503107d-d323-43a3-ab3e-4afdbe72e18e',\n",
       "       'c0618560-5bcd-428f-8ae0-b2fb895a50b8',\n",
       "       '7c306b8e-06db-4d37-a9d1-56c445cafad0',\n",
       "       '0ef0e648-c195-4bea-9a67-b1248fd73a32',\n",
       "       'd93c9f35-66f2-4746-bcea-72e963685ffc'], dtype=object)"
      ]
     },
     "execution_count": 113,
     "metadata": {},
     "output_type": "execute_result"
    }
   ],
   "source": [
    "failed['customer_id'].unique()"
   ]
  },
  {
   "cell_type": "code",
   "execution_count": 123,
   "id": "4d8342a9",
   "metadata": {},
   "outputs": [
    {
     "data": {
      "text/html": [
       "<div>\n",
       "<style scoped>\n",
       "    .dataframe tbody tr th:only-of-type {\n",
       "        vertical-align: middle;\n",
       "    }\n",
       "\n",
       "    .dataframe tbody tr th {\n",
       "        vertical-align: top;\n",
       "    }\n",
       "\n",
       "    .dataframe thead th {\n",
       "        text-align: right;\n",
       "    }\n",
       "</style>\n",
       "<table border=\"1\" class=\"dataframe\">\n",
       "  <thead>\n",
       "    <tr style=\"text-align: right;\">\n",
       "      <th></th>\n",
       "      <th>customer_id</th>\n",
       "      <th>device_id</th>\n",
       "      <th>item_id</th>\n",
       "      <th>line_item_id</th>\n",
       "      <th>order_id</th>\n",
       "      <th>event_id</th>\n",
       "      <th>event_timestamp</th>\n",
       "      <th>quantity</th>\n",
       "      <th>currency</th>\n",
       "      <th>checked_out_at</th>\n",
       "      <th>status</th>\n",
       "    </tr>\n",
       "    <tr>\n",
       "      <th>location</th>\n",
       "      <th></th>\n",
       "      <th></th>\n",
       "      <th></th>\n",
       "      <th></th>\n",
       "      <th></th>\n",
       "      <th></th>\n",
       "      <th></th>\n",
       "      <th></th>\n",
       "      <th></th>\n",
       "      <th></th>\n",
       "      <th></th>\n",
       "    </tr>\n",
       "  </thead>\n",
       "  <tbody>\n",
       "    <tr>\n",
       "      <th>Mauritius</th>\n",
       "      <td>f0fccc75-73ae-4d3f-a993-6c22d2baad97</td>\n",
       "      <td>2f11f956-81da-44f6-b906-0266d3d21721</td>\n",
       "      <td>11</td>\n",
       "      <td>9539</td>\n",
       "      <td>28fd9606-e6a8-491b-b538-58215e91d170</td>\n",
       "      <td>44091</td>\n",
       "      <td>2024-03-24 22:44:56.256842</td>\n",
       "      <td>1</td>\n",
       "      <td>GBP</td>\n",
       "      <td>2024-03-30 04:14:12.012414</td>\n",
       "      <td>failed</td>\n",
       "    </tr>\n",
       "  </tbody>\n",
       "</table>\n",
       "</div>"
      ],
      "text/plain": [
       "                                    customer_id  \\\n",
       "location                                          \n",
       "Mauritius  f0fccc75-73ae-4d3f-a993-6c22d2baad97   \n",
       "\n",
       "                                      device_id  item_id  line_item_id  \\\n",
       "location                                                                 \n",
       "Mauritius  2f11f956-81da-44f6-b906-0266d3d21721       11          9539   \n",
       "\n",
       "                                       order_id  event_id  \\\n",
       "location                                                    \n",
       "Mauritius  28fd9606-e6a8-491b-b538-58215e91d170     44091   \n",
       "\n",
       "                     event_timestamp  quantity currency  \\\n",
       "location                                                  \n",
       "Mauritius 2024-03-24 22:44:56.256842         1      GBP   \n",
       "\n",
       "                      checked_out_at  status  \n",
       "location                                      \n",
       "Mauritius 2024-03-30 04:14:12.012414  failed  "
      ]
     },
     "execution_count": 123,
     "metadata": {},
     "output_type": "execute_result"
    }
   ],
   "source": [
    "cust_f0fccc75 = failed[failed['customer_id']== 'f0fccc75-73ae-4d3f-a993-6c22d2baad97']\n",
    "cust_f0fccc75.head(1)"
   ]
  },
  {
   "cell_type": "code",
   "execution_count": null,
   "id": "5e3f8650",
   "metadata": {},
   "outputs": [
    {
     "data": {
      "text/plain": [
       "240"
      ]
     },
     "execution_count": 128,
     "metadata": {},
     "output_type": "execute_result"
    }
   ],
   "source": [
    "cust_f0fccc75.shape[0] # This customer attempted 240 failed transactions"
   ]
  },
  {
   "cell_type": "code",
   "execution_count": null,
   "id": "23c16279",
   "metadata": {},
   "outputs": [
    {
     "data": {
      "text/plain": [
       "array(['GBP'], dtype=object)"
      ]
     },
     "execution_count": 130,
     "metadata": {},
     "output_type": "execute_result"
    }
   ],
   "source": [
    "cust_f0fccc75['currency'].unique() # The customer was using GBP"
   ]
  },
  {
   "cell_type": "code",
   "execution_count": null,
   "id": "d6d7123a",
   "metadata": {},
   "outputs": [
    {
     "data": {
      "text/plain": [
       "item_id\n",
       "11    24\n",
       "15    24\n",
       "2     24\n",
       "3     24\n",
       "5     24\n",
       "6     24\n",
       "12    24\n",
       "9     24\n",
       "7     24\n",
       "4     24\n",
       "Name: count, dtype: int64"
      ]
     },
     "execution_count": 132,
     "metadata": {},
     "output_type": "execute_result"
    }
   ],
   "source": [
    "cust_f0fccc75['item_id'].value_counts() "
   ]
  },
  {
   "cell_type": "code",
   "execution_count": 133,
   "id": "e4e08df0",
   "metadata": {},
   "outputs": [
    {
     "data": {
      "text/plain": [
       "event_timestamp\n",
       "2024-03-30 04:03:12.012401    20\n",
       "2024-03-23 23:11:32.513165    10\n",
       "2024-03-24 22:44:56.256842    10\n",
       "2024-03-30 04:03:12.012342    10\n",
       "2024-03-30 04:03:12.012343    10\n",
       "2024-03-30 04:03:12.012344    10\n",
       "2024-03-20 10:21:50.625847    10\n",
       "2024-03-30 04:03:12.012345    10\n",
       "2024-03-30 04:03:12.012390    10\n",
       "2024-03-30 04:03:12.012394    10\n",
       "2024-03-30 04:03:12.012392    10\n",
       "2024-03-30 04:03:12.012395    10\n",
       "2024-03-30 04:03:12.012396    10\n",
       "2024-03-30 04:03:12.012398    10\n",
       "2024-03-30 04:03:12.012399    10\n",
       "2024-03-30 04:03:12.012403    10\n",
       "2024-03-30 04:03:12.012405    10\n",
       "2024-03-30 04:03:12.012406    10\n",
       "2024-03-30 04:03:12.012407    10\n",
       "2024-03-30 04:03:12.012408    10\n",
       "2024-03-30 04:03:12.012409    10\n",
       "2024-03-30 04:03:12.012411    10\n",
       "2024-03-30 04:14:12.012414    10\n",
       "Name: count, dtype: int64"
      ]
     },
     "execution_count": 133,
     "metadata": {},
     "output_type": "execute_result"
    }
   ],
   "source": [
    "cust_f0fccc75['event_timestamp'].value_counts()"
   ]
  },
  {
   "cell_type": "code",
   "execution_count": 140,
   "id": "eb0ec51d",
   "metadata": {},
   "outputs": [
    {
     "data": {
      "text/plain": [
       "event_id\n",
       "44091    10\n",
       "44092    10\n",
       "44093    10\n",
       "44094    10\n",
       "44095    10\n",
       "44096    10\n",
       "44097    10\n",
       "44098    10\n",
       "44099    10\n",
       "44100    10\n",
       "44101    10\n",
       "44102    10\n",
       "44103    10\n",
       "44104    10\n",
       "44105    10\n",
       "44106    10\n",
       "44107    10\n",
       "44108    10\n",
       "44109    10\n",
       "44110    10\n",
       "44111    10\n",
       "44112    10\n",
       "44113    10\n",
       "44114    10\n",
       "Name: count, dtype: int64"
      ]
     },
     "execution_count": 140,
     "metadata": {},
     "output_type": "execute_result"
    }
   ],
   "source": [
    "cust_f0fccc75['event_id'].value_counts()"
   ]
  },
  {
   "cell_type": "code",
   "execution_count": 139,
   "id": "6d75c517",
   "metadata": {},
   "outputs": [
    {
     "data": {
      "text/plain": [
       "order_id                              quantity\n",
       "1cc745a5-e2c7-44da-85f4-c034919babfd  3            6\n",
       "                                      4            6\n",
       "28fd9606-e6a8-491b-b538-58215e91d170  3           72\n",
       "                                      1           48\n",
       "                                      2           48\n",
       "                                      4           48\n",
       "                                      5           24\n",
       "2e0cde86-79af-48cd-a2a4-58999f5f56ae  1           42\n",
       "                                      4           28\n",
       "                                      5           14\n",
       "6ad985ff-8ac3-4289-a2b5-c78791504282  4           64\n",
       "                                      1           48\n",
       "                                      2           32\n",
       "                                      5           16\n",
       "70d80c5c-d967-4b1d-b480-818aa53344a7  4           45\n",
       "                                      5           15\n",
       "9f0e5102-143d-431a-b355-5cd63284f454  4           26\n",
       "                                      2           13\n",
       "                                      5           13\n",
       "a6b1e691-5be2-4544-8b45-7e9654575f82  2           22\n",
       "                                      5           11\n",
       "ab1adacb-7d9f-4130-a00c-4a32120914e0  4           78\n",
       "                                      1           52\n",
       "                                      2           52\n",
       "                                      3           52\n",
       "                                      5           52\n",
       "c0b3663f-b243-4465-bd87-babb30d300e5  2            6\n",
       "ed30c5cf-ada2-4d77-92cd-1783120eac60  4           84\n",
       "                                      1           42\n",
       "                                      2           42\n",
       "                                      3           21\n",
       "                                      5           21\n",
       "f294b167-650a-49ec-8d28-9de32ed61ad0  4           72\n",
       "                                      2           54\n",
       "                                      1           36\n",
       "                                      3           18\n",
       "                                      5           18\n",
       "Name: count, dtype: int64"
      ]
     },
     "execution_count": 139,
     "metadata": {},
     "output_type": "execute_result"
    }
   ],
   "source": [
    "quantitybyorder = failed.groupby('order_id')['quantity'].value_counts()\n",
    "quantitybyorder"
   ]
  },
  {
   "cell_type": "code",
   "execution_count": 120,
   "id": "4fe78ce3",
   "metadata": {},
   "outputs": [
    {
     "data": {
      "text/plain": [
       "array(['149de5ac-faf4-48c8-b467-c5ee157734ca',\n",
       "       '2aa7d76d-ae5d-4ed1-bd9e-4dde72a57fb6',\n",
       "       '2ff87a9b-7d21-4642-a61f-5635486ae0f4',\n",
       "       '3eacb753-33eb-4c80-8637-6db5ed7e29c5',\n",
       "       '39d54b77-a5e2-45de-8977-35ce09f13be3',\n",
       "       'a7e9272a-4512-4f09-ac62-62aff189c6db',\n",
       "       '2a2610a1-2484-472e-b92b-2b0d66005479',\n",
       "       '49de3cc8-4b11-4847-a907-1596f1f25a54',\n",
       "       '48cb0edf-fdf1-4c15-9b1c-dd83dd6ab710',\n",
       "       '5c25df3d-3cb8-425d-a1cf-ed89994615f3',\n",
       "       '060c8412-95f1-4ac0-a920-6068ff18b1a1',\n",
       "       '1e3921b6-a371-48b5-9deb-d479b0b53ce7',\n",
       "       '0a8fe861-7cec-49ef-a6cb-671e3189d476',\n",
       "       '0ddaf849-199f-407c-914a-e2225978df7f',\n",
       "       '9bd32db3-c7e1-4ebb-ab4b-ad2a457777f3',\n",
       "       'e3215453-eadc-4790-8c3c-674bbb37d26f'], dtype=object)"
      ]
     },
     "execution_count": 120,
     "metadata": {},
     "output_type": "execute_result"
    }
   ],
   "source": [
    "success['customer_id'].unique()"
   ]
  },
  {
   "cell_type": "code",
   "execution_count": 121,
   "id": "3025697c",
   "metadata": {},
   "outputs": [
    {
     "data": {
      "text/plain": [
       "array(['4cb79677-9c29-4567-91a4-6305ff3f24bb',\n",
       "       '484a3a72-7afd-4d81-8f56-f066a683cd22',\n",
       "       '2146b604-4a22-4fac-86fe-8fa6a022d885',\n",
       "       'ba4959b9-e8ce-41aa-ade4-ca7823e96dfe',\n",
       "       'ff820342-9b55-46fc-ad8a-714efae63ef5'], dtype=object)"
      ]
     },
     "execution_count": 121,
     "metadata": {},
     "output_type": "execute_result"
    }
   ],
   "source": [
    "cancelled['customer_id'].unique()"
   ]
  }
 ],
 "metadata": {
  "kernelspec": {
   "display_name": "my_venv",
   "language": "python",
   "name": "python3"
  },
  "language_info": {
   "codemirror_mode": {
    "name": "ipython",
    "version": 3
   },
   "file_extension": ".py",
   "mimetype": "text/x-python",
   "name": "python",
   "nbconvert_exporter": "python",
   "pygments_lexer": "ipython3",
   "version": "3.13.8"
  }
 },
 "nbformat": 4,
 "nbformat_minor": 5
}
