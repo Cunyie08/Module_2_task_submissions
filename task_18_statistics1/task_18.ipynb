{
 "cells": [
  {
   "cell_type": "markdown",
   "id": "d3cea693",
   "metadata": {},
   "source": [
    "# **Statistical Analysis for Possums** "
   ]
  },
  {
   "cell_type": "markdown",
   "id": "c735096c",
   "metadata": {},
   "source": [
    "**In this notebook, we will be using statistical tools such as Measure of Center and Measure of spread to analyse the dataset on Possums**\n",
    "\n",
    "- Check the gender of the possums in the dataset\n",
    "- Calculate the mean/median/mode of each possum gender\n",
    "- Check the location each gender was trapped\n",
    "- Check the population of the possums"
   ]
  },
  {
   "cell_type": "code",
   "execution_count": 44,
   "id": "22361b06",
   "metadata": {},
   "outputs": [],
   "source": [
    "# Importing all libraries for the analysis\n",
    "import pandas as pd\n",
    "import numpy as np\n",
    "import matplotlib.pyplot as plt\n",
    "import seaborn as sns"
   ]
  },
  {
   "cell_type": "markdown",
   "id": "068d0276",
   "metadata": {},
   "source": [
    "# **Preliminary Data Analysis**"
   ]
  },
  {
   "cell_type": "code",
   "execution_count": 45,
   "id": "ec1d09f4",
   "metadata": {},
   "outputs": [
    {
     "data": {
      "text/html": [
       "<div>\n",
       "<style scoped>\n",
       "    .dataframe tbody tr th:only-of-type {\n",
       "        vertical-align: middle;\n",
       "    }\n",
       "\n",
       "    .dataframe tbody tr th {\n",
       "        vertical-align: top;\n",
       "    }\n",
       "\n",
       "    .dataframe thead th {\n",
       "        text-align: right;\n",
       "    }\n",
       "</style>\n",
       "<table border=\"1\" class=\"dataframe\">\n",
       "  <thead>\n",
       "    <tr style=\"text-align: right;\">\n",
       "      <th></th>\n",
       "      <th>case</th>\n",
       "      <th>site</th>\n",
       "      <th>Pop</th>\n",
       "      <th>sex</th>\n",
       "      <th>age</th>\n",
       "      <th>hdlngth</th>\n",
       "      <th>skullw</th>\n",
       "      <th>totlngth</th>\n",
       "      <th>taill</th>\n",
       "      <th>footlgth</th>\n",
       "      <th>earconch</th>\n",
       "      <th>eye</th>\n",
       "      <th>chest</th>\n",
       "      <th>belly</th>\n",
       "    </tr>\n",
       "  </thead>\n",
       "  <tbody>\n",
       "    <tr>\n",
       "      <th>0</th>\n",
       "      <td>1</td>\n",
       "      <td>1</td>\n",
       "      <td>Vic</td>\n",
       "      <td>m</td>\n",
       "      <td>8.0</td>\n",
       "      <td>94.1</td>\n",
       "      <td>60.4</td>\n",
       "      <td>89.0</td>\n",
       "      <td>36.0</td>\n",
       "      <td>74.5</td>\n",
       "      <td>54.5</td>\n",
       "      <td>15.2</td>\n",
       "      <td>28.0</td>\n",
       "      <td>36.0</td>\n",
       "    </tr>\n",
       "    <tr>\n",
       "      <th>1</th>\n",
       "      <td>2</td>\n",
       "      <td>1</td>\n",
       "      <td>Vic</td>\n",
       "      <td>f</td>\n",
       "      <td>6.0</td>\n",
       "      <td>92.5</td>\n",
       "      <td>57.6</td>\n",
       "      <td>91.5</td>\n",
       "      <td>36.5</td>\n",
       "      <td>72.5</td>\n",
       "      <td>51.2</td>\n",
       "      <td>16.0</td>\n",
       "      <td>28.5</td>\n",
       "      <td>33.0</td>\n",
       "    </tr>\n",
       "    <tr>\n",
       "      <th>2</th>\n",
       "      <td>3</td>\n",
       "      <td>1</td>\n",
       "      <td>Vic</td>\n",
       "      <td>f</td>\n",
       "      <td>6.0</td>\n",
       "      <td>94.0</td>\n",
       "      <td>60.0</td>\n",
       "      <td>95.5</td>\n",
       "      <td>39.0</td>\n",
       "      <td>75.4</td>\n",
       "      <td>51.9</td>\n",
       "      <td>15.5</td>\n",
       "      <td>30.0</td>\n",
       "      <td>34.0</td>\n",
       "    </tr>\n",
       "    <tr>\n",
       "      <th>3</th>\n",
       "      <td>4</td>\n",
       "      <td>1</td>\n",
       "      <td>Vic</td>\n",
       "      <td>f</td>\n",
       "      <td>6.0</td>\n",
       "      <td>93.2</td>\n",
       "      <td>57.1</td>\n",
       "      <td>92.0</td>\n",
       "      <td>38.0</td>\n",
       "      <td>76.1</td>\n",
       "      <td>52.2</td>\n",
       "      <td>15.2</td>\n",
       "      <td>28.0</td>\n",
       "      <td>34.0</td>\n",
       "    </tr>\n",
       "    <tr>\n",
       "      <th>4</th>\n",
       "      <td>5</td>\n",
       "      <td>1</td>\n",
       "      <td>Vic</td>\n",
       "      <td>f</td>\n",
       "      <td>2.0</td>\n",
       "      <td>91.5</td>\n",
       "      <td>56.3</td>\n",
       "      <td>85.5</td>\n",
       "      <td>36.0</td>\n",
       "      <td>71.0</td>\n",
       "      <td>53.2</td>\n",
       "      <td>15.1</td>\n",
       "      <td>28.5</td>\n",
       "      <td>33.0</td>\n",
       "    </tr>\n",
       "  </tbody>\n",
       "</table>\n",
       "</div>"
      ],
      "text/plain": [
       "   case  site  Pop sex  age  hdlngth  skullw  totlngth  taill  footlgth  \\\n",
       "0     1     1  Vic   m  8.0     94.1    60.4      89.0   36.0      74.5   \n",
       "1     2     1  Vic   f  6.0     92.5    57.6      91.5   36.5      72.5   \n",
       "2     3     1  Vic   f  6.0     94.0    60.0      95.5   39.0      75.4   \n",
       "3     4     1  Vic   f  6.0     93.2    57.1      92.0   38.0      76.1   \n",
       "4     5     1  Vic   f  2.0     91.5    56.3      85.5   36.0      71.0   \n",
       "\n",
       "   earconch   eye  chest  belly  \n",
       "0      54.5  15.2   28.0   36.0  \n",
       "1      51.2  16.0   28.5   33.0  \n",
       "2      51.9  15.5   30.0   34.0  \n",
       "3      52.2  15.2   28.0   34.0  \n",
       "4      53.2  15.1   28.5   33.0  "
      ]
     },
     "execution_count": 45,
     "metadata": {},
     "output_type": "execute_result"
    }
   ],
   "source": [
    "# Loading our dataset\n",
    "data = pd.read_csv(\"possum.csv\")\n",
    "data.head()"
   ]
  },
  {
   "cell_type": "code",
   "execution_count": 46,
   "id": "77f8a53c",
   "metadata": {},
   "outputs": [
    {
     "data": {
      "text/plain": [
       "case          int64\n",
       "site          int64\n",
       "Pop          object\n",
       "sex          object\n",
       "age         float64\n",
       "hdlngth     float64\n",
       "skullw      float64\n",
       "totlngth    float64\n",
       "taill       float64\n",
       "footlgth    float64\n",
       "earconch    float64\n",
       "eye         float64\n",
       "chest       float64\n",
       "belly       float64\n",
       "dtype: object"
      ]
     },
     "execution_count": 46,
     "metadata": {},
     "output_type": "execute_result"
    }
   ],
   "source": [
    "# Checking the data type for the columns\n",
    "data.dtypes"
   ]
  },
  {
   "cell_type": "markdown",
   "id": "5e7a7dcc",
   "metadata": {},
   "source": [
    "# **Data Cleaning**"
   ]
  },
  {
   "cell_type": "code",
   "execution_count": 47,
   "id": "71bd2f7d",
   "metadata": {},
   "outputs": [
    {
     "data": {
      "text/plain": [
       "case        0\n",
       "site        0\n",
       "Pop         0\n",
       "sex         0\n",
       "age         2\n",
       "hdlngth     0\n",
       "skullw      0\n",
       "totlngth    0\n",
       "taill       0\n",
       "footlgth    1\n",
       "earconch    0\n",
       "eye         0\n",
       "chest       0\n",
       "belly       0\n",
       "dtype: int64"
      ]
     },
     "execution_count": 47,
     "metadata": {},
     "output_type": "execute_result"
    }
   ],
   "source": [
    "# Checking the data for missing values\n",
    "data.isna().sum()\n"
   ]
  },
  {
   "cell_type": "code",
   "execution_count": 48,
   "id": "ef4a7c33",
   "metadata": {},
   "outputs": [],
   "source": [
    "# Removing the columns with missing values\n",
    "data2 = data.dropna()\n"
   ]
  },
  {
   "cell_type": "code",
   "execution_count": 49,
   "id": "a68ea480",
   "metadata": {},
   "outputs": [
    {
     "data": {
      "text/html": [
       "<div>\n",
       "<style scoped>\n",
       "    .dataframe tbody tr th:only-of-type {\n",
       "        vertical-align: middle;\n",
       "    }\n",
       "\n",
       "    .dataframe tbody tr th {\n",
       "        vertical-align: top;\n",
       "    }\n",
       "\n",
       "    .dataframe thead th {\n",
       "        text-align: right;\n",
       "    }\n",
       "</style>\n",
       "<table border=\"1\" class=\"dataframe\">\n",
       "  <thead>\n",
       "    <tr style=\"text-align: right;\">\n",
       "      <th></th>\n",
       "      <th>case</th>\n",
       "      <th>site</th>\n",
       "      <th>Pop</th>\n",
       "      <th>sex</th>\n",
       "      <th>age</th>\n",
       "      <th>hdlngth</th>\n",
       "      <th>skullw</th>\n",
       "      <th>totlngth</th>\n",
       "      <th>taill</th>\n",
       "      <th>footlgth</th>\n",
       "      <th>earconch</th>\n",
       "      <th>eye</th>\n",
       "      <th>chest</th>\n",
       "      <th>belly</th>\n",
       "    </tr>\n",
       "  </thead>\n",
       "  <tbody>\n",
       "    <tr>\n",
       "      <th>0</th>\n",
       "      <td>1</td>\n",
       "      <td>1</td>\n",
       "      <td>Vic</td>\n",
       "      <td>m</td>\n",
       "      <td>8.0</td>\n",
       "      <td>94.1</td>\n",
       "      <td>60.4</td>\n",
       "      <td>89.0</td>\n",
       "      <td>36.0</td>\n",
       "      <td>74.5</td>\n",
       "      <td>54.5</td>\n",
       "      <td>15.2</td>\n",
       "      <td>28.0</td>\n",
       "      <td>36.0</td>\n",
       "    </tr>\n",
       "    <tr>\n",
       "      <th>1</th>\n",
       "      <td>2</td>\n",
       "      <td>1</td>\n",
       "      <td>Vic</td>\n",
       "      <td>f</td>\n",
       "      <td>6.0</td>\n",
       "      <td>92.5</td>\n",
       "      <td>57.6</td>\n",
       "      <td>91.5</td>\n",
       "      <td>36.5</td>\n",
       "      <td>72.5</td>\n",
       "      <td>51.2</td>\n",
       "      <td>16.0</td>\n",
       "      <td>28.5</td>\n",
       "      <td>33.0</td>\n",
       "    </tr>\n",
       "    <tr>\n",
       "      <th>2</th>\n",
       "      <td>3</td>\n",
       "      <td>1</td>\n",
       "      <td>Vic</td>\n",
       "      <td>f</td>\n",
       "      <td>6.0</td>\n",
       "      <td>94.0</td>\n",
       "      <td>60.0</td>\n",
       "      <td>95.5</td>\n",
       "      <td>39.0</td>\n",
       "      <td>75.4</td>\n",
       "      <td>51.9</td>\n",
       "      <td>15.5</td>\n",
       "      <td>30.0</td>\n",
       "      <td>34.0</td>\n",
       "    </tr>\n",
       "    <tr>\n",
       "      <th>3</th>\n",
       "      <td>4</td>\n",
       "      <td>1</td>\n",
       "      <td>Vic</td>\n",
       "      <td>f</td>\n",
       "      <td>6.0</td>\n",
       "      <td>93.2</td>\n",
       "      <td>57.1</td>\n",
       "      <td>92.0</td>\n",
       "      <td>38.0</td>\n",
       "      <td>76.1</td>\n",
       "      <td>52.2</td>\n",
       "      <td>15.2</td>\n",
       "      <td>28.0</td>\n",
       "      <td>34.0</td>\n",
       "    </tr>\n",
       "    <tr>\n",
       "      <th>4</th>\n",
       "      <td>5</td>\n",
       "      <td>1</td>\n",
       "      <td>Vic</td>\n",
       "      <td>f</td>\n",
       "      <td>2.0</td>\n",
       "      <td>91.5</td>\n",
       "      <td>56.3</td>\n",
       "      <td>85.5</td>\n",
       "      <td>36.0</td>\n",
       "      <td>71.0</td>\n",
       "      <td>53.2</td>\n",
       "      <td>15.1</td>\n",
       "      <td>28.5</td>\n",
       "      <td>33.0</td>\n",
       "    </tr>\n",
       "    <tr>\n",
       "      <th>...</th>\n",
       "      <td>...</td>\n",
       "      <td>...</td>\n",
       "      <td>...</td>\n",
       "      <td>...</td>\n",
       "      <td>...</td>\n",
       "      <td>...</td>\n",
       "      <td>...</td>\n",
       "      <td>...</td>\n",
       "      <td>...</td>\n",
       "      <td>...</td>\n",
       "      <td>...</td>\n",
       "      <td>...</td>\n",
       "      <td>...</td>\n",
       "      <td>...</td>\n",
       "    </tr>\n",
       "    <tr>\n",
       "      <th>99</th>\n",
       "      <td>100</td>\n",
       "      <td>7</td>\n",
       "      <td>other</td>\n",
       "      <td>m</td>\n",
       "      <td>1.0</td>\n",
       "      <td>89.5</td>\n",
       "      <td>56.0</td>\n",
       "      <td>81.5</td>\n",
       "      <td>36.5</td>\n",
       "      <td>66.0</td>\n",
       "      <td>46.8</td>\n",
       "      <td>14.8</td>\n",
       "      <td>23.0</td>\n",
       "      <td>27.0</td>\n",
       "    </tr>\n",
       "    <tr>\n",
       "      <th>100</th>\n",
       "      <td>101</td>\n",
       "      <td>7</td>\n",
       "      <td>other</td>\n",
       "      <td>m</td>\n",
       "      <td>1.0</td>\n",
       "      <td>88.6</td>\n",
       "      <td>54.7</td>\n",
       "      <td>82.5</td>\n",
       "      <td>39.0</td>\n",
       "      <td>64.4</td>\n",
       "      <td>48.0</td>\n",
       "      <td>14.0</td>\n",
       "      <td>25.0</td>\n",
       "      <td>33.0</td>\n",
       "    </tr>\n",
       "    <tr>\n",
       "      <th>101</th>\n",
       "      <td>102</td>\n",
       "      <td>7</td>\n",
       "      <td>other</td>\n",
       "      <td>f</td>\n",
       "      <td>6.0</td>\n",
       "      <td>92.4</td>\n",
       "      <td>55.0</td>\n",
       "      <td>89.0</td>\n",
       "      <td>38.0</td>\n",
       "      <td>63.5</td>\n",
       "      <td>45.4</td>\n",
       "      <td>13.0</td>\n",
       "      <td>25.0</td>\n",
       "      <td>30.0</td>\n",
       "    </tr>\n",
       "    <tr>\n",
       "      <th>102</th>\n",
       "      <td>103</td>\n",
       "      <td>7</td>\n",
       "      <td>other</td>\n",
       "      <td>m</td>\n",
       "      <td>4.0</td>\n",
       "      <td>91.5</td>\n",
       "      <td>55.2</td>\n",
       "      <td>82.5</td>\n",
       "      <td>36.5</td>\n",
       "      <td>62.9</td>\n",
       "      <td>45.9</td>\n",
       "      <td>15.4</td>\n",
       "      <td>25.0</td>\n",
       "      <td>29.0</td>\n",
       "    </tr>\n",
       "    <tr>\n",
       "      <th>103</th>\n",
       "      <td>104</td>\n",
       "      <td>7</td>\n",
       "      <td>other</td>\n",
       "      <td>f</td>\n",
       "      <td>3.0</td>\n",
       "      <td>93.6</td>\n",
       "      <td>59.9</td>\n",
       "      <td>89.0</td>\n",
       "      <td>40.0</td>\n",
       "      <td>67.6</td>\n",
       "      <td>46.0</td>\n",
       "      <td>14.8</td>\n",
       "      <td>28.5</td>\n",
       "      <td>33.5</td>\n",
       "    </tr>\n",
       "  </tbody>\n",
       "</table>\n",
       "<p>101 rows × 14 columns</p>\n",
       "</div>"
      ],
      "text/plain": [
       "     case  site    Pop sex  age  hdlngth  skullw  totlngth  taill  footlgth  \\\n",
       "0       1     1    Vic   m  8.0     94.1    60.4      89.0   36.0      74.5   \n",
       "1       2     1    Vic   f  6.0     92.5    57.6      91.5   36.5      72.5   \n",
       "2       3     1    Vic   f  6.0     94.0    60.0      95.5   39.0      75.4   \n",
       "3       4     1    Vic   f  6.0     93.2    57.1      92.0   38.0      76.1   \n",
       "4       5     1    Vic   f  2.0     91.5    56.3      85.5   36.0      71.0   \n",
       "..    ...   ...    ...  ..  ...      ...     ...       ...    ...       ...   \n",
       "99    100     7  other   m  1.0     89.5    56.0      81.5   36.5      66.0   \n",
       "100   101     7  other   m  1.0     88.6    54.7      82.5   39.0      64.4   \n",
       "101   102     7  other   f  6.0     92.4    55.0      89.0   38.0      63.5   \n",
       "102   103     7  other   m  4.0     91.5    55.2      82.5   36.5      62.9   \n",
       "103   104     7  other   f  3.0     93.6    59.9      89.0   40.0      67.6   \n",
       "\n",
       "     earconch   eye  chest  belly  \n",
       "0        54.5  15.2   28.0   36.0  \n",
       "1        51.2  16.0   28.5   33.0  \n",
       "2        51.9  15.5   30.0   34.0  \n",
       "3        52.2  15.2   28.0   34.0  \n",
       "4        53.2  15.1   28.5   33.0  \n",
       "..        ...   ...    ...    ...  \n",
       "99       46.8  14.8   23.0   27.0  \n",
       "100      48.0  14.0   25.0   33.0  \n",
       "101      45.4  13.0   25.0   30.0  \n",
       "102      45.9  15.4   25.0   29.0  \n",
       "103      46.0  14.8   28.5   33.5  \n",
       "\n",
       "[101 rows x 14 columns]"
      ]
     },
     "execution_count": 49,
     "metadata": {},
     "output_type": "execute_result"
    }
   ],
   "source": [
    "# Checking for duplicate data\n",
    "data.duplicated().sum\n",
    "data2"
   ]
  },
  {
   "cell_type": "code",
   "execution_count": 50,
   "id": "88b6c426",
   "metadata": {},
   "outputs": [
    {
     "data": {
      "text/html": [
       "<div>\n",
       "<style scoped>\n",
       "    .dataframe tbody tr th:only-of-type {\n",
       "        vertical-align: middle;\n",
       "    }\n",
       "\n",
       "    .dataframe tbody tr th {\n",
       "        vertical-align: top;\n",
       "    }\n",
       "\n",
       "    .dataframe thead th {\n",
       "        text-align: right;\n",
       "    }\n",
       "</style>\n",
       "<table border=\"1\" class=\"dataframe\">\n",
       "  <thead>\n",
       "    <tr style=\"text-align: right;\">\n",
       "      <th></th>\n",
       "      <th>site</th>\n",
       "      <th>Pop</th>\n",
       "      <th>sex</th>\n",
       "      <th>age</th>\n",
       "      <th>hdlngth</th>\n",
       "      <th>skullw</th>\n",
       "      <th>totlngth</th>\n",
       "      <th>taill</th>\n",
       "      <th>footlgth</th>\n",
       "      <th>earconch</th>\n",
       "      <th>eye</th>\n",
       "      <th>chest</th>\n",
       "      <th>belly</th>\n",
       "    </tr>\n",
       "    <tr>\n",
       "      <th>case</th>\n",
       "      <th></th>\n",
       "      <th></th>\n",
       "      <th></th>\n",
       "      <th></th>\n",
       "      <th></th>\n",
       "      <th></th>\n",
       "      <th></th>\n",
       "      <th></th>\n",
       "      <th></th>\n",
       "      <th></th>\n",
       "      <th></th>\n",
       "      <th></th>\n",
       "      <th></th>\n",
       "    </tr>\n",
       "  </thead>\n",
       "  <tbody>\n",
       "    <tr>\n",
       "      <th>1</th>\n",
       "      <td>1</td>\n",
       "      <td>Vic</td>\n",
       "      <td>m</td>\n",
       "      <td>8.0</td>\n",
       "      <td>94.1</td>\n",
       "      <td>60.4</td>\n",
       "      <td>89.0</td>\n",
       "      <td>36.0</td>\n",
       "      <td>74.5</td>\n",
       "      <td>54.5</td>\n",
       "      <td>15.2</td>\n",
       "      <td>28.0</td>\n",
       "      <td>36.0</td>\n",
       "    </tr>\n",
       "    <tr>\n",
       "      <th>2</th>\n",
       "      <td>1</td>\n",
       "      <td>Vic</td>\n",
       "      <td>f</td>\n",
       "      <td>6.0</td>\n",
       "      <td>92.5</td>\n",
       "      <td>57.6</td>\n",
       "      <td>91.5</td>\n",
       "      <td>36.5</td>\n",
       "      <td>72.5</td>\n",
       "      <td>51.2</td>\n",
       "      <td>16.0</td>\n",
       "      <td>28.5</td>\n",
       "      <td>33.0</td>\n",
       "    </tr>\n",
       "    <tr>\n",
       "      <th>3</th>\n",
       "      <td>1</td>\n",
       "      <td>Vic</td>\n",
       "      <td>f</td>\n",
       "      <td>6.0</td>\n",
       "      <td>94.0</td>\n",
       "      <td>60.0</td>\n",
       "      <td>95.5</td>\n",
       "      <td>39.0</td>\n",
       "      <td>75.4</td>\n",
       "      <td>51.9</td>\n",
       "      <td>15.5</td>\n",
       "      <td>30.0</td>\n",
       "      <td>34.0</td>\n",
       "    </tr>\n",
       "    <tr>\n",
       "      <th>4</th>\n",
       "      <td>1</td>\n",
       "      <td>Vic</td>\n",
       "      <td>f</td>\n",
       "      <td>6.0</td>\n",
       "      <td>93.2</td>\n",
       "      <td>57.1</td>\n",
       "      <td>92.0</td>\n",
       "      <td>38.0</td>\n",
       "      <td>76.1</td>\n",
       "      <td>52.2</td>\n",
       "      <td>15.2</td>\n",
       "      <td>28.0</td>\n",
       "      <td>34.0</td>\n",
       "    </tr>\n",
       "    <tr>\n",
       "      <th>5</th>\n",
       "      <td>1</td>\n",
       "      <td>Vic</td>\n",
       "      <td>f</td>\n",
       "      <td>2.0</td>\n",
       "      <td>91.5</td>\n",
       "      <td>56.3</td>\n",
       "      <td>85.5</td>\n",
       "      <td>36.0</td>\n",
       "      <td>71.0</td>\n",
       "      <td>53.2</td>\n",
       "      <td>15.1</td>\n",
       "      <td>28.5</td>\n",
       "      <td>33.0</td>\n",
       "    </tr>\n",
       "  </tbody>\n",
       "</table>\n",
       "</div>"
      ],
      "text/plain": [
       "      site  Pop sex  age  hdlngth  skullw  totlngth  taill  footlgth  \\\n",
       "case                                                                   \n",
       "1        1  Vic   m  8.0     94.1    60.4      89.0   36.0      74.5   \n",
       "2        1  Vic   f  6.0     92.5    57.6      91.5   36.5      72.5   \n",
       "3        1  Vic   f  6.0     94.0    60.0      95.5   39.0      75.4   \n",
       "4        1  Vic   f  6.0     93.2    57.1      92.0   38.0      76.1   \n",
       "5        1  Vic   f  2.0     91.5    56.3      85.5   36.0      71.0   \n",
       "\n",
       "      earconch   eye  chest  belly  \n",
       "case                                \n",
       "1         54.5  15.2   28.0   36.0  \n",
       "2         51.2  16.0   28.5   33.0  \n",
       "3         51.9  15.5   30.0   34.0  \n",
       "4         52.2  15.2   28.0   34.0  \n",
       "5         53.2  15.1   28.5   33.0  "
      ]
     },
     "execution_count": 50,
     "metadata": {},
     "output_type": "execute_result"
    }
   ],
   "source": [
    "# Setting the index of the dataset using column \"case\"\n",
    "data2.set_index(\"case\", inplace=True)\n",
    "data2.head()"
   ]
  },
  {
   "cell_type": "code",
   "execution_count": 51,
   "id": "99a3e6bc",
   "metadata": {},
   "outputs": [
    {
     "name": "stdout",
     "output_type": "stream",
     "text": [
      "The dataset consists of 2 types of gender; ['m' 'f']\n"
     ]
    }
   ],
   "source": [
    "# Checking the genders in the dataset\n",
    "gender_type = data2['sex'].unique()\n",
    "no_of_gender = data2['sex'].nunique()\n",
    "print(f\"The dataset consists of {no_of_gender} types of gender; {gender_type}\")\n"
   ]
  },
  {
   "cell_type": "code",
   "execution_count": 52,
   "id": "f18c07ff",
   "metadata": {},
   "outputs": [
    {
     "name": "stdout",
     "output_type": "stream",
     "text": [
      "The total number of possums by sex:\n",
      "sex\n",
      "m    59\n",
      "f    42\n",
      "Name: count, dtype: int64\n"
     ]
    }
   ],
   "source": [
    "# Checking the total number of the possum gender in the dataset\n",
    "total_possums = data2['sex'].value_counts()\n",
    "print(f\"The total number of possums by sex:\\n{total_possums}\")"
   ]
  },
  {
   "cell_type": "code",
   "execution_count": 53,
   "id": "2f26e222",
   "metadata": {},
   "outputs": [
    {
     "name": "stdout",
     "output_type": "stream",
     "text": [
      "The possums were trapped in the seven sites listed below:\n",
      "site\n",
      "4     7\n",
      "3     7\n",
      "2    10\n",
      "5    13\n",
      "6    13\n",
      "7    18\n",
      "1    33\n",
      "Name: count, dtype: int64\n"
     ]
    }
   ],
   "source": [
    "# Checking the site the possums were trapped\n",
    "trapped_site_possums = data2['site'].value_counts(ascending=True)\n",
    "print(f\"The possums were trapped in the seven sites listed below:\\n{trapped_site_possums}\")"
   ]
  },
  {
   "cell_type": "code",
   "execution_count": 54,
   "id": "891850e1",
   "metadata": {},
   "outputs": [
    {
     "name": "stdout",
     "output_type": "stream",
     "text": [
      "The trapped possums were found in two regions Pop\n",
      "Vic      43\n",
      "other    58\n",
      "Name: count, dtype: int64\n"
     ]
    }
   ],
   "source": [
    "# Checking the population of the possums\n",
    "pop_possums = data2['Pop'].value_counts(ascending=True)\n",
    "print(f\"The trapped possums were found in two regions {pop_possums}\")"
   ]
  },
  {
   "cell_type": "markdown",
   "id": "c857b36f",
   "metadata": {},
   "source": [
    "# **Descriptive Data Analysis**"
   ]
  },
  {
   "cell_type": "code",
   "execution_count": 55,
   "id": "efa5e98f",
   "metadata": {},
   "outputs": [
    {
     "data": {
      "text/html": [
       "<div>\n",
       "<style scoped>\n",
       "    .dataframe tbody tr th:only-of-type {\n",
       "        vertical-align: middle;\n",
       "    }\n",
       "\n",
       "    .dataframe tbody tr th {\n",
       "        vertical-align: top;\n",
       "    }\n",
       "\n",
       "    .dataframe thead th {\n",
       "        text-align: right;\n",
       "    }\n",
       "</style>\n",
       "<table border=\"1\" class=\"dataframe\">\n",
       "  <thead>\n",
       "    <tr style=\"text-align: right;\">\n",
       "      <th></th>\n",
       "      <th>site</th>\n",
       "      <th>Pop</th>\n",
       "      <th>sex</th>\n",
       "      <th>age</th>\n",
       "      <th>hdlngth</th>\n",
       "      <th>skullw</th>\n",
       "      <th>totlngth</th>\n",
       "      <th>taill</th>\n",
       "      <th>footlgth</th>\n",
       "      <th>earconch</th>\n",
       "      <th>eye</th>\n",
       "      <th>chest</th>\n",
       "      <th>belly</th>\n",
       "    </tr>\n",
       "  </thead>\n",
       "  <tbody>\n",
       "    <tr>\n",
       "      <th>count</th>\n",
       "      <td>101.000000</td>\n",
       "      <td>101</td>\n",
       "      <td>101</td>\n",
       "      <td>101.000000</td>\n",
       "      <td>101.000000</td>\n",
       "      <td>101.000000</td>\n",
       "      <td>101.000000</td>\n",
       "      <td>101.000000</td>\n",
       "      <td>101.000000</td>\n",
       "      <td>101.000000</td>\n",
       "      <td>101.000000</td>\n",
       "      <td>101.000000</td>\n",
       "      <td>101.000000</td>\n",
       "    </tr>\n",
       "    <tr>\n",
       "      <th>unique</th>\n",
       "      <td>NaN</td>\n",
       "      <td>2</td>\n",
       "      <td>2</td>\n",
       "      <td>NaN</td>\n",
       "      <td>NaN</td>\n",
       "      <td>NaN</td>\n",
       "      <td>NaN</td>\n",
       "      <td>NaN</td>\n",
       "      <td>NaN</td>\n",
       "      <td>NaN</td>\n",
       "      <td>NaN</td>\n",
       "      <td>NaN</td>\n",
       "      <td>NaN</td>\n",
       "    </tr>\n",
       "    <tr>\n",
       "      <th>top</th>\n",
       "      <td>NaN</td>\n",
       "      <td>other</td>\n",
       "      <td>m</td>\n",
       "      <td>NaN</td>\n",
       "      <td>NaN</td>\n",
       "      <td>NaN</td>\n",
       "      <td>NaN</td>\n",
       "      <td>NaN</td>\n",
       "      <td>NaN</td>\n",
       "      <td>NaN</td>\n",
       "      <td>NaN</td>\n",
       "      <td>NaN</td>\n",
       "      <td>NaN</td>\n",
       "    </tr>\n",
       "    <tr>\n",
       "      <th>freq</th>\n",
       "      <td>NaN</td>\n",
       "      <td>58</td>\n",
       "      <td>59</td>\n",
       "      <td>NaN</td>\n",
       "      <td>NaN</td>\n",
       "      <td>NaN</td>\n",
       "      <td>NaN</td>\n",
       "      <td>NaN</td>\n",
       "      <td>NaN</td>\n",
       "      <td>NaN</td>\n",
       "      <td>NaN</td>\n",
       "      <td>NaN</td>\n",
       "      <td>NaN</td>\n",
       "    </tr>\n",
       "    <tr>\n",
       "      <th>mean</th>\n",
       "      <td>3.673267</td>\n",
       "      <td>NaN</td>\n",
       "      <td>NaN</td>\n",
       "      <td>3.821782</td>\n",
       "      <td>92.730693</td>\n",
       "      <td>56.960396</td>\n",
       "      <td>87.269307</td>\n",
       "      <td>37.049505</td>\n",
       "      <td>68.398020</td>\n",
       "      <td>48.133663</td>\n",
       "      <td>15.050495</td>\n",
       "      <td>27.064356</td>\n",
       "      <td>32.638614</td>\n",
       "    </tr>\n",
       "    <tr>\n",
       "      <th>std</th>\n",
       "      <td>2.366892</td>\n",
       "      <td>NaN</td>\n",
       "      <td>NaN</td>\n",
       "      <td>1.915182</td>\n",
       "      <td>3.518714</td>\n",
       "      <td>3.102679</td>\n",
       "      <td>4.196802</td>\n",
       "      <td>1.971681</td>\n",
       "      <td>4.413502</td>\n",
       "      <td>4.060352</td>\n",
       "      <td>1.058643</td>\n",
       "      <td>2.020722</td>\n",
       "      <td>2.727745</td>\n",
       "    </tr>\n",
       "    <tr>\n",
       "      <th>min</th>\n",
       "      <td>1.000000</td>\n",
       "      <td>NaN</td>\n",
       "      <td>NaN</td>\n",
       "      <td>1.000000</td>\n",
       "      <td>82.500000</td>\n",
       "      <td>50.000000</td>\n",
       "      <td>75.000000</td>\n",
       "      <td>32.000000</td>\n",
       "      <td>60.300000</td>\n",
       "      <td>41.300000</td>\n",
       "      <td>12.800000</td>\n",
       "      <td>22.000000</td>\n",
       "      <td>25.000000</td>\n",
       "    </tr>\n",
       "    <tr>\n",
       "      <th>25%</th>\n",
       "      <td>1.000000</td>\n",
       "      <td>NaN</td>\n",
       "      <td>NaN</td>\n",
       "      <td>2.000000</td>\n",
       "      <td>90.700000</td>\n",
       "      <td>55.000000</td>\n",
       "      <td>84.500000</td>\n",
       "      <td>36.000000</td>\n",
       "      <td>64.500000</td>\n",
       "      <td>44.800000</td>\n",
       "      <td>14.400000</td>\n",
       "      <td>25.500000</td>\n",
       "      <td>31.000000</td>\n",
       "    </tr>\n",
       "    <tr>\n",
       "      <th>50%</th>\n",
       "      <td>4.000000</td>\n",
       "      <td>NaN</td>\n",
       "      <td>NaN</td>\n",
       "      <td>3.000000</td>\n",
       "      <td>92.900000</td>\n",
       "      <td>56.400000</td>\n",
       "      <td>88.000000</td>\n",
       "      <td>37.000000</td>\n",
       "      <td>67.900000</td>\n",
       "      <td>46.800000</td>\n",
       "      <td>14.900000</td>\n",
       "      <td>27.000000</td>\n",
       "      <td>32.500000</td>\n",
       "    </tr>\n",
       "    <tr>\n",
       "      <th>75%</th>\n",
       "      <td>6.000000</td>\n",
       "      <td>NaN</td>\n",
       "      <td>NaN</td>\n",
       "      <td>5.000000</td>\n",
       "      <td>94.800000</td>\n",
       "      <td>58.100000</td>\n",
       "      <td>90.000000</td>\n",
       "      <td>38.000000</td>\n",
       "      <td>72.500000</td>\n",
       "      <td>52.000000</td>\n",
       "      <td>15.700000</td>\n",
       "      <td>28.000000</td>\n",
       "      <td>34.000000</td>\n",
       "    </tr>\n",
       "    <tr>\n",
       "      <th>max</th>\n",
       "      <td>7.000000</td>\n",
       "      <td>NaN</td>\n",
       "      <td>NaN</td>\n",
       "      <td>9.000000</td>\n",
       "      <td>103.100000</td>\n",
       "      <td>68.600000</td>\n",
       "      <td>96.500000</td>\n",
       "      <td>43.000000</td>\n",
       "      <td>77.900000</td>\n",
       "      <td>56.200000</td>\n",
       "      <td>17.800000</td>\n",
       "      <td>32.000000</td>\n",
       "      <td>40.000000</td>\n",
       "    </tr>\n",
       "  </tbody>\n",
       "</table>\n",
       "</div>"
      ],
      "text/plain": [
       "              site    Pop  sex         age     hdlngth      skullw  \\\n",
       "count   101.000000    101  101  101.000000  101.000000  101.000000   \n",
       "unique         NaN      2    2         NaN         NaN         NaN   \n",
       "top            NaN  other    m         NaN         NaN         NaN   \n",
       "freq           NaN     58   59         NaN         NaN         NaN   \n",
       "mean      3.673267    NaN  NaN    3.821782   92.730693   56.960396   \n",
       "std       2.366892    NaN  NaN    1.915182    3.518714    3.102679   \n",
       "min       1.000000    NaN  NaN    1.000000   82.500000   50.000000   \n",
       "25%       1.000000    NaN  NaN    2.000000   90.700000   55.000000   \n",
       "50%       4.000000    NaN  NaN    3.000000   92.900000   56.400000   \n",
       "75%       6.000000    NaN  NaN    5.000000   94.800000   58.100000   \n",
       "max       7.000000    NaN  NaN    9.000000  103.100000   68.600000   \n",
       "\n",
       "          totlngth       taill    footlgth    earconch         eye  \\\n",
       "count   101.000000  101.000000  101.000000  101.000000  101.000000   \n",
       "unique         NaN         NaN         NaN         NaN         NaN   \n",
       "top            NaN         NaN         NaN         NaN         NaN   \n",
       "freq           NaN         NaN         NaN         NaN         NaN   \n",
       "mean     87.269307   37.049505   68.398020   48.133663   15.050495   \n",
       "std       4.196802    1.971681    4.413502    4.060352    1.058643   \n",
       "min      75.000000   32.000000   60.300000   41.300000   12.800000   \n",
       "25%      84.500000   36.000000   64.500000   44.800000   14.400000   \n",
       "50%      88.000000   37.000000   67.900000   46.800000   14.900000   \n",
       "75%      90.000000   38.000000   72.500000   52.000000   15.700000   \n",
       "max      96.500000   43.000000   77.900000   56.200000   17.800000   \n",
       "\n",
       "             chest       belly  \n",
       "count   101.000000  101.000000  \n",
       "unique         NaN         NaN  \n",
       "top            NaN         NaN  \n",
       "freq           NaN         NaN  \n",
       "mean     27.064356   32.638614  \n",
       "std       2.020722    2.727745  \n",
       "min      22.000000   25.000000  \n",
       "25%      25.500000   31.000000  \n",
       "50%      27.000000   32.500000  \n",
       "75%      28.000000   34.000000  \n",
       "max      32.000000   40.000000  "
      ]
     },
     "execution_count": 55,
     "metadata": {},
     "output_type": "execute_result"
    }
   ],
   "source": [
    "# Checking the statistical analysis\n",
    "data2.describe(include='all')"
   ]
  },
  {
   "cell_type": "code",
   "execution_count": 56,
   "id": "4f82ba7c",
   "metadata": {},
   "outputs": [
    {
     "data": {
      "text/html": [
       "<div>\n",
       "<style scoped>\n",
       "    .dataframe tbody tr th:only-of-type {\n",
       "        vertical-align: middle;\n",
       "    }\n",
       "\n",
       "    .dataframe tbody tr th {\n",
       "        vertical-align: top;\n",
       "    }\n",
       "\n",
       "    .dataframe thead th {\n",
       "        text-align: right;\n",
       "    }\n",
       "</style>\n",
       "<table border=\"1\" class=\"dataframe\">\n",
       "  <thead>\n",
       "    <tr style=\"text-align: right;\">\n",
       "      <th></th>\n",
       "      <th>site</th>\n",
       "      <th>Pop</th>\n",
       "      <th>sex</th>\n",
       "      <th>age</th>\n",
       "      <th>hdlngth</th>\n",
       "      <th>skullw</th>\n",
       "      <th>totlngth</th>\n",
       "      <th>taill</th>\n",
       "      <th>footlgth</th>\n",
       "      <th>earconch</th>\n",
       "      <th>eye</th>\n",
       "      <th>chest</th>\n",
       "      <th>belly</th>\n",
       "    </tr>\n",
       "    <tr>\n",
       "      <th>case</th>\n",
       "      <th></th>\n",
       "      <th></th>\n",
       "      <th></th>\n",
       "      <th></th>\n",
       "      <th></th>\n",
       "      <th></th>\n",
       "      <th></th>\n",
       "      <th></th>\n",
       "      <th></th>\n",
       "      <th></th>\n",
       "      <th></th>\n",
       "      <th></th>\n",
       "      <th></th>\n",
       "    </tr>\n",
       "  </thead>\n",
       "  <tbody>\n",
       "    <tr>\n",
       "      <th>2</th>\n",
       "      <td>1</td>\n",
       "      <td>Vic</td>\n",
       "      <td>f</td>\n",
       "      <td>6.0</td>\n",
       "      <td>92.5</td>\n",
       "      <td>57.6</td>\n",
       "      <td>91.5</td>\n",
       "      <td>36.5</td>\n",
       "      <td>72.5</td>\n",
       "      <td>51.2</td>\n",
       "      <td>16.0</td>\n",
       "      <td>28.5</td>\n",
       "      <td>33.0</td>\n",
       "    </tr>\n",
       "    <tr>\n",
       "      <th>3</th>\n",
       "      <td>1</td>\n",
       "      <td>Vic</td>\n",
       "      <td>f</td>\n",
       "      <td>6.0</td>\n",
       "      <td>94.0</td>\n",
       "      <td>60.0</td>\n",
       "      <td>95.5</td>\n",
       "      <td>39.0</td>\n",
       "      <td>75.4</td>\n",
       "      <td>51.9</td>\n",
       "      <td>15.5</td>\n",
       "      <td>30.0</td>\n",
       "      <td>34.0</td>\n",
       "    </tr>\n",
       "    <tr>\n",
       "      <th>4</th>\n",
       "      <td>1</td>\n",
       "      <td>Vic</td>\n",
       "      <td>f</td>\n",
       "      <td>6.0</td>\n",
       "      <td>93.2</td>\n",
       "      <td>57.1</td>\n",
       "      <td>92.0</td>\n",
       "      <td>38.0</td>\n",
       "      <td>76.1</td>\n",
       "      <td>52.2</td>\n",
       "      <td>15.2</td>\n",
       "      <td>28.0</td>\n",
       "      <td>34.0</td>\n",
       "    </tr>\n",
       "    <tr>\n",
       "      <th>5</th>\n",
       "      <td>1</td>\n",
       "      <td>Vic</td>\n",
       "      <td>f</td>\n",
       "      <td>2.0</td>\n",
       "      <td>91.5</td>\n",
       "      <td>56.3</td>\n",
       "      <td>85.5</td>\n",
       "      <td>36.0</td>\n",
       "      <td>71.0</td>\n",
       "      <td>53.2</td>\n",
       "      <td>15.1</td>\n",
       "      <td>28.5</td>\n",
       "      <td>33.0</td>\n",
       "    </tr>\n",
       "    <tr>\n",
       "      <th>6</th>\n",
       "      <td>1</td>\n",
       "      <td>Vic</td>\n",
       "      <td>f</td>\n",
       "      <td>1.0</td>\n",
       "      <td>93.1</td>\n",
       "      <td>54.8</td>\n",
       "      <td>90.5</td>\n",
       "      <td>35.5</td>\n",
       "      <td>73.2</td>\n",
       "      <td>53.6</td>\n",
       "      <td>14.2</td>\n",
       "      <td>30.0</td>\n",
       "      <td>32.0</td>\n",
       "    </tr>\n",
       "  </tbody>\n",
       "</table>\n",
       "</div>"
      ],
      "text/plain": [
       "      site  Pop sex  age  hdlngth  skullw  totlngth  taill  footlgth  \\\n",
       "case                                                                   \n",
       "2        1  Vic   f  6.0     92.5    57.6      91.5   36.5      72.5   \n",
       "3        1  Vic   f  6.0     94.0    60.0      95.5   39.0      75.4   \n",
       "4        1  Vic   f  6.0     93.2    57.1      92.0   38.0      76.1   \n",
       "5        1  Vic   f  2.0     91.5    56.3      85.5   36.0      71.0   \n",
       "6        1  Vic   f  1.0     93.1    54.8      90.5   35.5      73.2   \n",
       "\n",
       "      earconch   eye  chest  belly  \n",
       "case                                \n",
       "2         51.2  16.0   28.5   33.0  \n",
       "3         51.9  15.5   30.0   34.0  \n",
       "4         52.2  15.2   28.0   34.0  \n",
       "5         53.2  15.1   28.5   33.0  \n",
       "6         53.6  14.2   30.0   32.0  "
      ]
     },
     "execution_count": 56,
     "metadata": {},
     "output_type": "execute_result"
    }
   ],
   "source": [
    "# Let's print the female possums in the dataset\n",
    "get_female = data2[data2['sex'] == 'f']\n",
    "get_female.head()"
   ]
  },
  {
   "cell_type": "code",
   "execution_count": 57,
   "id": "6d1f64a7",
   "metadata": {},
   "outputs": [
    {
     "name": "stdout",
     "output_type": "stream",
     "text": [
      "The total number of female possums is 42\n",
      "The average age for the female possum is 3.9523809523809526\n"
     ]
    }
   ],
   "source": [
    "# Calculating the total number of female possums \n",
    "total_female_possums = get_female.value_counts().sum()\n",
    "print(f\"The total number of female possums is {total_female_possums}\")\n",
    "\n",
    "# Calculating the average age for the female possums using mean\n",
    "female_possums_mean = get_female['age']\n",
    "print(f\"The average age for the female possum is {np.mean(female_possums_mean)}\")\n",
    "\n"
   ]
  },
  {
   "cell_type": "code",
   "execution_count": 58,
   "id": "58c6b966",
   "metadata": {},
   "outputs": [
    {
     "name": "stdout",
     "output_type": "stream",
     "text": [
      "The median value for the age of a female possum is 3.5\n"
     ]
    }
   ],
   "source": [
    "# Calculating the median for the female possums\n",
    "female_possums_median = get_female['age']\n",
    "print(f\"The median value for the age of a female possum is {np.median(female_possums_median)}\")"
   ]
  },
  {
   "cell_type": "code",
   "execution_count": 59,
   "id": "0c35a6d0",
   "metadata": {},
   "outputs": [
    {
     "name": "stdout",
     "output_type": "stream",
     "text": [
      "The most frequent age of female possums is:0    3.0\n",
      "Name: age, dtype: float64\n"
     ]
    }
   ],
   "source": [
    "# Calculate the most frequent age in the dataset for female possums\n",
    "possums_mode = get_female['age'].mode()\n",
    "print(f\"The most frequent age of female possums is:{possums_mode}\")"
   ]
  },
  {
   "cell_type": "code",
   "execution_count": 60,
   "id": "a9e7c5b5",
   "metadata": {},
   "outputs": [
    {
     "data": {
      "text/html": [
       "<div>\n",
       "<style scoped>\n",
       "    .dataframe tbody tr th:only-of-type {\n",
       "        vertical-align: middle;\n",
       "    }\n",
       "\n",
       "    .dataframe tbody tr th {\n",
       "        vertical-align: top;\n",
       "    }\n",
       "\n",
       "    .dataframe thead th {\n",
       "        text-align: right;\n",
       "    }\n",
       "</style>\n",
       "<table border=\"1\" class=\"dataframe\">\n",
       "  <thead>\n",
       "    <tr style=\"text-align: right;\">\n",
       "      <th></th>\n",
       "      <th>site</th>\n",
       "      <th>Pop</th>\n",
       "      <th>sex</th>\n",
       "      <th>age</th>\n",
       "      <th>hdlngth</th>\n",
       "      <th>skullw</th>\n",
       "      <th>totlngth</th>\n",
       "      <th>taill</th>\n",
       "      <th>footlgth</th>\n",
       "      <th>earconch</th>\n",
       "      <th>eye</th>\n",
       "      <th>chest</th>\n",
       "      <th>belly</th>\n",
       "    </tr>\n",
       "    <tr>\n",
       "      <th>case</th>\n",
       "      <th></th>\n",
       "      <th></th>\n",
       "      <th></th>\n",
       "      <th></th>\n",
       "      <th></th>\n",
       "      <th></th>\n",
       "      <th></th>\n",
       "      <th></th>\n",
       "      <th></th>\n",
       "      <th></th>\n",
       "      <th></th>\n",
       "      <th></th>\n",
       "      <th></th>\n",
       "    </tr>\n",
       "  </thead>\n",
       "  <tbody>\n",
       "    <tr>\n",
       "      <th>1</th>\n",
       "      <td>1</td>\n",
       "      <td>Vic</td>\n",
       "      <td>m</td>\n",
       "      <td>8.0</td>\n",
       "      <td>94.1</td>\n",
       "      <td>60.4</td>\n",
       "      <td>89.0</td>\n",
       "      <td>36.0</td>\n",
       "      <td>74.5</td>\n",
       "      <td>54.5</td>\n",
       "      <td>15.2</td>\n",
       "      <td>28.0</td>\n",
       "      <td>36.0</td>\n",
       "    </tr>\n",
       "    <tr>\n",
       "      <th>7</th>\n",
       "      <td>1</td>\n",
       "      <td>Vic</td>\n",
       "      <td>m</td>\n",
       "      <td>2.0</td>\n",
       "      <td>95.3</td>\n",
       "      <td>58.2</td>\n",
       "      <td>89.5</td>\n",
       "      <td>36.0</td>\n",
       "      <td>71.5</td>\n",
       "      <td>52.0</td>\n",
       "      <td>14.2</td>\n",
       "      <td>30.0</td>\n",
       "      <td>34.5</td>\n",
       "    </tr>\n",
       "    <tr>\n",
       "      <th>13</th>\n",
       "      <td>1</td>\n",
       "      <td>Vic</td>\n",
       "      <td>m</td>\n",
       "      <td>5.0</td>\n",
       "      <td>95.1</td>\n",
       "      <td>59.9</td>\n",
       "      <td>89.5</td>\n",
       "      <td>36.0</td>\n",
       "      <td>71.0</td>\n",
       "      <td>49.8</td>\n",
       "      <td>15.8</td>\n",
       "      <td>27.0</td>\n",
       "      <td>32.0</td>\n",
       "    </tr>\n",
       "    <tr>\n",
       "      <th>14</th>\n",
       "      <td>1</td>\n",
       "      <td>Vic</td>\n",
       "      <td>m</td>\n",
       "      <td>3.0</td>\n",
       "      <td>95.4</td>\n",
       "      <td>57.6</td>\n",
       "      <td>91.5</td>\n",
       "      <td>36.0</td>\n",
       "      <td>74.3</td>\n",
       "      <td>53.7</td>\n",
       "      <td>15.1</td>\n",
       "      <td>28.0</td>\n",
       "      <td>31.5</td>\n",
       "    </tr>\n",
       "    <tr>\n",
       "      <th>15</th>\n",
       "      <td>1</td>\n",
       "      <td>Vic</td>\n",
       "      <td>m</td>\n",
       "      <td>5.0</td>\n",
       "      <td>92.9</td>\n",
       "      <td>57.6</td>\n",
       "      <td>85.5</td>\n",
       "      <td>34.0</td>\n",
       "      <td>69.7</td>\n",
       "      <td>51.8</td>\n",
       "      <td>15.7</td>\n",
       "      <td>28.0</td>\n",
       "      <td>35.0</td>\n",
       "    </tr>\n",
       "  </tbody>\n",
       "</table>\n",
       "</div>"
      ],
      "text/plain": [
       "      site  Pop sex  age  hdlngth  skullw  totlngth  taill  footlgth  \\\n",
       "case                                                                   \n",
       "1        1  Vic   m  8.0     94.1    60.4      89.0   36.0      74.5   \n",
       "7        1  Vic   m  2.0     95.3    58.2      89.5   36.0      71.5   \n",
       "13       1  Vic   m  5.0     95.1    59.9      89.5   36.0      71.0   \n",
       "14       1  Vic   m  3.0     95.4    57.6      91.5   36.0      74.3   \n",
       "15       1  Vic   m  5.0     92.9    57.6      85.5   34.0      69.7   \n",
       "\n",
       "      earconch   eye  chest  belly  \n",
       "case                                \n",
       "1         54.5  15.2   28.0   36.0  \n",
       "7         52.0  14.2   30.0   34.5  \n",
       "13        49.8  15.8   27.0   32.0  \n",
       "14        53.7  15.1   28.0   31.5  \n",
       "15        51.8  15.7   28.0   35.0  "
      ]
     },
     "execution_count": 60,
     "metadata": {},
     "output_type": "execute_result"
    }
   ],
   "source": [
    "# Let's print the male possums in the dataset\n",
    "get_male = data2[data2['sex'] == 'm']\n",
    "get_male.head()"
   ]
  },
  {
   "cell_type": "code",
   "execution_count": 61,
   "id": "d01e9359",
   "metadata": {},
   "outputs": [
    {
     "name": "stdout",
     "output_type": "stream",
     "text": [
      "The total number of male possums is 59\n",
      "The average age for the male possum is 3.7288135593220337\n"
     ]
    }
   ],
   "source": [
    "# Calculating the total number of female possums \n",
    "total_male_possums = get_male.value_counts().sum()\n",
    "print(f\"The total number of male possums is {total_male_possums}\")\n",
    "\n",
    "# Calculating the average age for the male possums using mean\n",
    "male_possums_mean = get_male['age']\n",
    "print(f\"The average age for the male possum is {np.mean(male_possums_mean)}\")\n",
    "\n"
   ]
  },
  {
   "cell_type": "code",
   "execution_count": 62,
   "id": "386ec0ca",
   "metadata": {},
   "outputs": [
    {
     "name": "stdout",
     "output_type": "stream",
     "text": [
      "The median value for the age of a male possum is 3.0\n"
     ]
    }
   ],
   "source": [
    "# Calculating the median for the female possums\n",
    "male_possums_median = get_male['age']\n",
    "print(f\"The median value for the age of a male possum is {np.median(male_possums_median)}\")"
   ]
  },
  {
   "cell_type": "code",
   "execution_count": 63,
   "id": "967e279e",
   "metadata": {},
   "outputs": [
    {
     "name": "stdout",
     "output_type": "stream",
     "text": [
      "The most frequent age of the male possums:0    3.0\n",
      "Name: age, dtype: float64\n"
     ]
    }
   ],
   "source": [
    "# Calculate the most frequent age in the dataset for male and female possums\n",
    "possums_mode = get_male['age'].mode()\n",
    "print(f\"The most frequent age of the male possums:{possums_mode}\")"
   ]
  },
  {
   "cell_type": "markdown",
   "id": "deba39f4",
   "metadata": {},
   "source": [
    "`Data Visualization for the male & female possums`"
   ]
  },
  {
   "cell_type": "code",
   "execution_count": 64,
   "id": "6d73bbeb",
   "metadata": {},
   "outputs": [
    {
     "data": {
      "text/plain": [
       "sex\n",
       "f    42\n",
       "m    59\n",
       "Name: count, dtype: int64"
      ]
     },
     "execution_count": 64,
     "metadata": {},
     "output_type": "execute_result"
    }
   ],
   "source": [
    "# Grouping the value of the male vs the female possums\n",
    "total_sex = data2.groupby('sex')['sex'].value_counts(ascending=True)\n",
    "total_sex"
   ]
  },
  {
   "cell_type": "code",
   "execution_count": 65,
   "id": "a4adc682",
   "metadata": {},
   "outputs": [
    {
     "data": {
      "image/png": "[encoded data removed]",
      "text/plain": [
       "<Figure size 640x480 with 1 Axes>"
      ]
     },
     "metadata": {},
     "output_type": "display_data"
    }
   ],
   "source": [
    "# Plotting the chart for the total gender using pie chart in pandas\n",
    "\n",
    "labels = ['Female', 'Male']\n",
    "plt.pie(total_sex, labels=labels, autopct='%1.1f%%')\n",
    "plt.legend(title='Gender', loc='lower right', fontsize=8)\n",
    "plt.title('Male vs Female Possums')\n",
    "plt.show()\n"
   ]
  },
  {
   "cell_type": "markdown",
   "id": "e43733a7",
   "metadata": {},
   "source": [
    "**Findings using gender**\n",
    "\n",
    "- The female possums make up 41.6% (42 out of 104 possums) in the dataset.\n",
    "- The male make up 58.4% (59 out of 104 possums)in the dataset. "
   ]
  },
  {
   "cell_type": "markdown",
   "id": "f773268e",
   "metadata": {},
   "source": [
    "`Data Visualization for the Sexes(male & female) by age`"
   ]
  },
  {
   "cell_type": "code",
   "execution_count": 66,
   "id": "fedcb39d",
   "metadata": {},
   "outputs": [
    {
     "data": {
      "text/plain": [
       "sex  age\n",
       "f    7.0     1\n",
       "     9.0     2\n",
       "     1.0     3\n",
       "     5.0     5\n",
       "     4.0     6\n",
       "     2.0     7\n",
       "     6.0     7\n",
       "     3.0    11\n",
       "Name: count, dtype: int64"
      ]
     },
     "execution_count": 66,
     "metadata": {},
     "output_type": "execute_result"
    }
   ],
   "source": [
    "# Getting the value of the sex by age for the female possums\n",
    "total_female = get_female.groupby('sex')['age'].value_counts(ascending=True)\n",
    "total_female"
   ]
  },
  {
   "cell_type": "code",
   "execution_count": 67,
   "id": "fd5d6007",
   "metadata": {},
   "outputs": [
    {
     "data": {
      "text/plain": [
       "<Axes: title={'center': 'Female Possums by age'}, xlabel='sex,age', ylabel='frequency'>"
      ]
     },
     "execution_count": 67,
     "metadata": {},
     "output_type": "execute_result"
    },
    {
     "data": {
      "image/png": "[encoded data removed]",
      "text/plain": [
       "<Figure size 640x480 with 1 Axes>"
      ]
     },
     "metadata": {},
     "output_type": "display_data"
    }
   ],
   "source": [
    "# Data visualization of the total female possums by age\n",
    "total_female.plot(kind='bar', ylabel='frequency', title='Female Possums by age', color='pink')"
   ]
  },
  {
   "cell_type": "code",
   "execution_count": 68,
   "id": "e5b6f186",
   "metadata": {},
   "outputs": [
    {
     "data": {
      "text/plain": [
       "sex  age\n",
       "m    8.0     1\n",
       "     6.0     5\n",
       "     7.0     6\n",
       "     1.0     7\n",
       "     5.0     7\n",
       "     4.0     8\n",
       "     2.0     9\n",
       "     3.0    16\n",
       "Name: count, dtype: int64"
      ]
     },
     "execution_count": 68,
     "metadata": {},
     "output_type": "execute_result"
    }
   ],
   "source": [
    "# Getting the value of the sex by age for the male possums\n",
    "total_male = get_male.groupby('sex')['age'].value_counts(ascending=True)\n",
    "total_male"
   ]
  },
  {
   "cell_type": "code",
   "execution_count": 69,
   "id": "d5b805d4",
   "metadata": {},
   "outputs": [
    {
     "data": {
      "text/plain": [
       "<Axes: title={'center': 'Male Possums by age'}, xlabel='sex,age', ylabel='frequency'>"
      ]
     },
     "execution_count": 69,
     "metadata": {},
     "output_type": "execute_result"
    },
    {
     "data": {
      "image/png": "[encoded data removed]",
      "text/plain": [
       "<Figure size 640x480 with 1 Axes>"
      ]
     },
     "metadata": {},
     "output_type": "display_data"
    }
   ],
   "source": [
    "# Data visualization of the total male possums by age\n",
    "total_male.plot(kind='bar', ylabel='frequency', title='Male Possums by age', color='black')"
   ]
  },
  {
   "cell_type": "markdown",
   "id": "2744b9c7",
   "metadata": {},
   "source": [
    "**Findings using the sexes vs age**\n",
    "- There are 11 female possums and 16 male possums, aged 3.\n",
    "- The oldest male possum are aged 8 and the oldest female possums are aged 9.\n",
    "- The possums without age have been removed as they do not alter our dataset.\n"
   ]
  },
  {
   "cell_type": "markdown",
   "id": "d08afa87",
   "metadata": {},
   "source": [
    "`Data Visualization of the possums trapped site by gender`"
   ]
  },
  {
   "cell_type": "code",
   "execution_count": 70,
   "id": "94c6b383",
   "metadata": {},
   "outputs": [
    {
     "data": {
      "text/plain": [
       "sex  site\n",
       "f    4        2\n",
       "     3        3\n",
       "     2        4\n",
       "     6        4\n",
       "     7        4\n",
       "     5        6\n",
       "     1       19\n",
       "Name: count, dtype: int64"
      ]
     },
     "execution_count": 70,
     "metadata": {},
     "output_type": "execute_result"
    }
   ],
   "source": [
    "# Grouping the female possums by the trapped sites they were found\n",
    "total_trapped_female = get_female.groupby('sex')['site'].value_counts(ascending=True)\n",
    "total_trapped_female"
   ]
  },
  {
   "cell_type": "code",
   "execution_count": 71,
   "id": "be3fdcba",
   "metadata": {},
   "outputs": [
    {
     "data": {
      "text/plain": [
       "sex  site\n",
       "m    3        4\n",
       "     4        5\n",
       "     2        6\n",
       "     5        7\n",
       "     6        9\n",
       "     1       14\n",
       "     7       14\n",
       "Name: count, dtype: int64"
      ]
     },
     "execution_count": 71,
     "metadata": {},
     "output_type": "execute_result"
    }
   ],
   "source": [
    "# Grouping the male possums by the trapped sites they were found\n",
    "total_trapped_male = get_male.groupby('sex')['site'].value_counts(ascending=True)\n",
    "total_trapped_male"
   ]
  },
  {
   "cell_type": "code",
   "execution_count": 72,
   "id": "76543e49",
   "metadata": {},
   "outputs": [
    {
     "data": {
      "image/png": "[encoded data removed]",
      "text/plain": [
       "<Figure size 640x480 with 1 Axes>"
      ]
     },
     "metadata": {},
     "output_type": "display_data"
    }
   ],
   "source": [
    "# Data visualization of the total female possums by the site they were trapped\n",
    "labels = total_trapped_female\n",
    "plt.pie(total_trapped_female, labels=labels, autopct='%1.1f%%')\n",
    "plt.legend(title='Site vs possums', loc='lower left', fontsize=4)\n",
    "plt.title('Trapped female possums by site')\n",
    "plt.show()\n"
   ]
  },
  {
   "cell_type": "code",
   "execution_count": 73,
   "id": "b691c9bd",
   "metadata": {},
   "outputs": [
    {
     "data": {
      "image/png": "[encoded data removed]",
      "text/plain": [
       "<Figure size 640x480 with 1 Axes>"
      ]
     },
     "metadata": {},
     "output_type": "display_data"
    }
   ],
   "source": [
    "# Data visualization of the total male possums by the site they were trapped\n",
    "labels = total_trapped_male\n",
    "plt.pie(total_trapped_male, labels=labels, autopct='%1.1f%%')\n",
    "plt.legend(title='Site vs Possums', loc='lower left', fontsize=4)\n",
    "plt.title('Trapped male possums by site')\n",
    "plt.show()\n"
   ]
  },
  {
   "cell_type": "markdown",
   "id": "8dbf88db",
   "metadata": {},
   "source": [
    "**Findings using the gender vs the trapped locations**\n",
    "- 47.4% of the male possums were found in site 1 & 7.\n",
    "- 45.2% of the female possums were found in site 1.\n"
   ]
  },
  {
   "cell_type": "markdown",
   "id": "6e9f2e27",
   "metadata": {},
   "source": [
    "**Calculating the measure of Center using the features of the possum by gender**"
   ]
  },
  {
   "cell_type": "code",
   "execution_count": 74,
   "id": "43f481da",
   "metadata": {},
   "outputs": [
    {
     "name": "stdout",
     "output_type": "stream",
     "text": [
      "The average length of the female possum head is: 92.23809523809524\n",
      "The average width of the female possum skull is: 56.57857142857142\n",
      "The average height of the female possum is: 88.02380952380952\n",
      "The average length of the female possum tail is: 37.11904761904762\n",
      "The average length of the female possum foot is: 69.11190476190475\n",
      "The average length of the female possum ear conch is: 48.773809523809526\n",
      "The average size of the female possum eye is: 14.785714285714286\n",
      "The average length of the female possum chest is: 27.345238095238095\n",
      "The average length of the female possum belly is: 32.94047619047619\n"
     ]
    }
   ],
   "source": [
    "# Calculating the mean of each features of a female possum\n",
    "female_features_mean = get_female.mean(axis=0, numeric_only=True)\n",
    "female_features_mean\n",
    "print(f\"The average length of the female possum head is: {female_features_mean['hdlngth']}\")\n",
    "print(f\"The average width of the female possum skull is: {female_features_mean['skullw']}\")\n",
    "print(f\"The average height of the female possum is: {female_features_mean['totlngth']}\")\n",
    "print(f\"The average length of the female possum tail is: {female_features_mean['taill']}\")\n",
    "print(f\"The average length of the female possum foot is: {female_features_mean['footlgth']}\")\n",
    "print(f\"The average length of the female possum ear conch is: {female_features_mean['earconch']}\")\n",
    "print(f\"The average size of the female possum eye is: {female_features_mean['eye']}\")\n",
    "print(f\"The average length of the female possum chest is: {female_features_mean['chest']}\")\n",
    "print(f\"The average length of the female possum belly is: {female_features_mean['belly']}\")"
   ]
  },
  {
   "cell_type": "code",
   "execution_count": 75,
   "id": "b390f2af",
   "metadata": {},
   "outputs": [
    {
     "name": "stdout",
     "output_type": "stream",
     "text": [
      "The median of the female possum head is: 92.5\n",
      "The median of the female possum skull width is: 56.349999999999994\n",
      "The median height of the female possum is: 88.75\n",
      "The median length of the female possum tail is: 37.75\n",
      "The median length of the female possum foot is: 70.44999999999999\n",
      "The median length of the female possum ear conch is: 50.8\n",
      "The median size of the female possum eye is: 14.75\n",
      "The median length of the female possum chest is: 28.0\n",
      "The median length of the female possum belly is: 33.0\n"
     ]
    }
   ],
   "source": [
    "# Calculating the median of each features of a female possum\n",
    "female_features_median = get_female.median(axis=0, numeric_only=True)   \n",
    "print(f\"The median of the female possum head is: {female_features_median['hdlngth']}\")\n",
    "print(f\"The median of the female possum skull width is: {female_features_median['skullw']}\")\n",
    "print(f\"The median height of the female possum is: {female_features_median['totlngth']}\")\n",
    "print(f\"The median length of the female possum tail is: {female_features_median['taill']}\")\n",
    "print(f\"The median length of the female possum foot is: {female_features_median['footlgth']}\")\n",
    "print(f\"The median length of the female possum ear conch is: {female_features_median['earconch']}\")\n",
    "print(f\"The median size of the female possum eye is: {female_features_median['eye']}\")\n",
    "print(f\"The median length of the female possum chest is: {female_features_median['chest']}\")\n",
    "print(f\"The median length of the female possum belly is: {female_features_median['belly']}\")"
   ]
  },
  {
   "cell_type": "code",
   "execution_count": 76,
   "id": "14a30bd4",
   "metadata": {},
   "outputs": [
    {
     "name": "stdout",
     "output_type": "stream",
     "text": [
      "The mode of the female possum head is: 90.0\n",
      "The mode of the female possum skull width is: 56.3\n",
      "The mode height of the female possum is: 89.0\n",
      "The mode length of the female possum tail is: 38.0\n",
      "The mode length of the female possum foot is: 72.8\n",
      "The mode length of the female possum ear conch is: 46.0\n",
      "The mode size of the female possum eye is: 14.0\n",
      "The mode length of the female possum chest is: 28.0\n",
      "The mode length of the female possum belly is: 34.0\n"
     ]
    }
   ],
   "source": [
    "# Calculating the mode of each feature of a female possum\n",
    "female_features_mode = get_female.mode().iloc[0]\n",
    "print(f\"The mode of the female possum head is: {female_features_mode['hdlngth']}\")\n",
    "print(f\"The mode of the female possum skull width is: {female_features_mode['skullw']}\")\n",
    "print(f\"The mode height of the female possum is: {female_features_mode['totlngth']}\")\n",
    "print(f\"The mode length of the female possum tail is: {female_features_mode['taill']}\")\n",
    "print(f\"The mode length of the female possum foot is: {female_features_mode['footlgth']}\")\n",
    "print(f\"The mode length of the female possum ear conch is: {female_features_mode['earconch']}\")\n",
    "print(f\"The mode size of the female possum eye is: {female_features_mode['eye']}\")\n",
    "print(f\"The mode length of the female possum chest is: {female_features_mode['chest']}\")\n",
    "print(f\"The mode length of the female possum belly is: {female_features_mode['belly']}\")"
   ]
  },
  {
   "cell_type": "code",
   "execution_count": 77,
   "id": "d10f6df5",
   "metadata": {},
   "outputs": [
    {
     "name": "stdout",
     "output_type": "stream",
     "text": [
      "The average length of the male possum head is: 93.0813559322034\n",
      "The average width of the male possum skull is: 57.2322033898305\n",
      "The average height of the male possum is: 86.7322033898305\n",
      "The average length of the male possum tail is: 37.0\n",
      "The average length of the male possum foot is: 67.88983050847457\n",
      "The average length of the male possum ear conch is: 47.67796610169491\n",
      "The average size of the male possum eye is: 15.238983050847455\n",
      "The average length of the male possum chest is: 26.864406779661017\n",
      "The average length of the male possum belly is: 32.42372881355932\n"
     ]
    }
   ],
   "source": [
    "# Calculating the mean of each features of a male possum\n",
    "male_features_mean = get_male.mean(axis=0, numeric_only=True)\n",
    "# Calculating the mean of each features of a female possum\n",
    "male_features_mean = get_male.mean(axis=0, numeric_only=True)\n",
    "print(f\"The average length of the male possum head is: {male_features_mean['hdlngth']}\")\n",
    "print(f\"The average width of the male possum skull is: {male_features_mean['skullw']}\")\n",
    "print(f\"The average height of the male possum is: {male_features_mean['totlngth']}\")\n",
    "print(f\"The average length of the male possum tail is: {male_features_mean['taill']}\")\n",
    "print(f\"The average length of the male possum foot is: {male_features_mean['footlgth']}\")\n",
    "print(f\"The average length of the male possum ear conch is: {male_features_mean['earconch']}\")\n",
    "print(f\"The average size of the male possum eye is: {male_features_mean['eye']}\")\n",
    "print(f\"The average length of the male possum chest is: {male_features_mean['chest']}\")\n",
    "print(f\"The average length of the male possum belly is: {male_features_mean['belly']}\")"
   ]
  },
  {
   "cell_type": "code",
   "execution_count": 78,
   "id": "56aacfa6",
   "metadata": {},
   "outputs": [
    {
     "name": "stdout",
     "output_type": "stream",
     "text": [
      "The median of the male possum head is: 93.3\n",
      "The median of the male possum skull width is: 56.6\n",
      "The median height of the male possum is: 86.0\n",
      "The median length of the male possum tail is: 36.5\n",
      "The median length of the male possum foot is: 66.5\n",
      "The median length of the male possum ear conch is: 46.2\n",
      "The median size of the male possum eye is: 15.0\n",
      "The median length of the male possum chest is: 27.0\n",
      "The median length of the male possum belly is: 32.0\n"
     ]
    }
   ],
   "source": [
    "# Calculating the median of each features of a male possum\n",
    "male_features_median = get_male.median(axis=0, numeric_only=True)   \n",
    "print(f\"The median of the male possum head is: {male_features_median['hdlngth']}\")\n",
    "print(f\"The median of the male possum skull width is: {male_features_median['skullw']}\")\n",
    "print(f\"The median height of the male possum is: {male_features_median['totlngth']}\")\n",
    "print(f\"The median length of the male possum tail is: {male_features_median['taill']}\")\n",
    "print(f\"The median length of the male possum foot is: {male_features_median['footlgth']}\")\n",
    "print(f\"The median length of the male possum ear conch is: {male_features_median['earconch']}\")\n",
    "print(f\"The median size of the male possum eye is: {male_features_median['eye']}\")\n",
    "print(f\"The median length of the male possum chest is: {male_features_median['chest']}\")\n",
    "print(f\"The median length of the male possum belly is: {male_features_median['belly']}\")"
   ]
  },
  {
   "cell_type": "code",
   "execution_count": 79,
   "id": "734d0600",
   "metadata": {},
   "outputs": [
    {
     "name": "stdout",
     "output_type": "stream",
     "text": [
      "The mode of the male possum head is: 89.5\n",
      "The mode of the male possum skull width is: 56.0\n",
      "The mode height of the male possum is: 85.0\n",
      "The mode length of the male possum tail is: 38.0\n",
      "The mode length of the male possum foot is: 65.6\n",
      "The mode length of the male possum ear conch is: 44.9\n",
      "The mode size of the male possum eye is: 15.0\n",
      "The mode length of the male possum chest is: 27.0\n",
      "The mode length of the male possum belly is: 32.0\n"
     ]
    }
   ],
   "source": [
    "# Calculating the mode of each feature of a male possum\n",
    "male_features_mode = get_male.mode().iloc[0]\n",
    "print(f\"The mode of the male possum head is: {male_features_mode['hdlngth']}\")\n",
    "print(f\"The mode of the male possum skull width is: {male_features_mode['skullw']}\")\n",
    "print(f\"The mode height of the male possum is: {male_features_mode['totlngth']}\")\n",
    "print(f\"The mode length of the male possum tail is: {male_features_mode['taill']}\")\n",
    "print(f\"The mode length of the male possum foot is: {male_features_mode['footlgth']}\")\n",
    "print(f\"The mode length of the male possum ear conch is: {male_features_mode['earconch']}\")\n",
    "print(f\"The mode size of the male possum eye is: {male_features_mode['eye']}\")\n",
    "print(f\"The mode length of the male possum chest is: {male_features_mode['chest']}\")\n",
    "print(f\"The mode length of the male possum belly is: {male_features_mode['belly']}\")"
   ]
  },
  {
   "cell_type": "code",
   "execution_count": 80,
   "id": "02d4aaea",
   "metadata": {},
   "outputs": [
    {
     "data": {
      "text/plain": [
       "site         3.673267\n",
       "age          3.821782\n",
       "hdlngth     92.730693\n",
       "skullw      56.960396\n",
       "totlngth    87.269307\n",
       "taill       37.049505\n",
       "footlgth    68.398020\n",
       "earconch    48.133663\n",
       "eye         15.050495\n",
       "chest       27.064356\n",
       "belly       32.638614\n",
       "dtype: float64"
      ]
     },
     "execution_count": 80,
     "metadata": {},
     "output_type": "execute_result"
    }
   ],
   "source": [
    "# Calculating the mean of each features of a female possum\n",
    "all_possum_features_mean = data2.mean(axis=0, numeric_only=True)\n",
    "all_possum_features_mean"
   ]
  },
  {
   "cell_type": "code",
   "execution_count": 81,
   "id": "84595dbf",
   "metadata": {},
   "outputs": [
    {
     "data": {
      "text/plain": [
       "site         4.0\n",
       "age          3.0\n",
       "hdlngth     92.9\n",
       "skullw      56.4\n",
       "totlngth    88.0\n",
       "taill       37.0\n",
       "footlgth    67.9\n",
       "earconch    46.8\n",
       "eye         14.9\n",
       "chest       27.0\n",
       "belly       32.5\n",
       "dtype: float64"
      ]
     },
     "execution_count": 81,
     "metadata": {},
     "output_type": "execute_result"
    }
   ],
   "source": [
    "# Calculating the mean of each features of a female possum\n",
    "all_possum_features_median = data2.median(axis=0, numeric_only=True)\n",
    "all_possum_features_median"
   ]
  },
  {
   "cell_type": "code",
   "execution_count": 85,
   "id": "ed51dac3",
   "metadata": {},
   "outputs": [
    {
     "data": {
      "text/plain": [
       "site          1.0\n",
       "Pop         other\n",
       "sex             m\n",
       "age           3.0\n",
       "hdlngth      93.3\n",
       "skullw       57.6\n",
       "totlngth     89.0\n",
       "taill        38.0\n",
       "footlgth     73.2\n",
       "earconch     44.9\n",
       "eye          14.5\n",
       "chest        28.0\n",
       "belly        32.0\n",
       "Name: 0, dtype: object"
      ]
     },
     "execution_count": 85,
     "metadata": {},
     "output_type": "execute_result"
    }
   ],
   "source": [
    "# Calculating the mean of each features of a female possum\n",
    "all_possum_features_mode = data2.mode().iloc[0]\n",
    "all_possum_features_mode"
   ]
  },
  {
   "cell_type": "code",
   "execution_count": 86,
   "id": "5ae1cf7d",
   "metadata": {},
   "outputs": [
    {
     "data": {
      "image/png": "[encoded data removed]",
      "text/plain": [
       "<Figure size 1000x600 with 1 Axes>"
      ]
     },
     "metadata": {},
     "output_type": "display_data"
    }
   ],
   "source": [
    "# Plotting the total length of the male against the female\n",
    "\n",
    "# Plot histogram with KDE\n",
    "plt.figure(figsize=(10,6))\n",
    "sns.histplot(data, bins=30, kde=True, color=\"purple\")\n",
    "\n",
    "# Add vertical lines\n",
    "plt.axvline(all_possum_features_mean['totlngth'], color='green', linestyle='--', linewidth=2, label=f'Mean = {all_possum_features_mean}')\n",
    "plt.axvline(all_possum_features_median['totlngth'], color='grey', linestyle='-', linewidth=2, label=f'Median = {all_possum_features_median}')\n",
    "plt.axvline(all_possum_features_mode['totlngth'], color='red', linestyle=':', linewidth=2, label=f'Mode = {all_possum_features_mode}')\n",
    "\n",
    "# Add title and skewness\n",
    "plt.title(f\"Total length of the Possums\", fontsize=14)\n",
    "plt.xlabel(\"Length\")\n",
    "plt.ylabel(\"Frequency\")\n",
    "plt.show()\n"
   ]
  },
  {
   "cell_type": "markdown",
   "id": "b5eaaf56",
   "metadata": {},
   "source": [
    "# **Measure of Spread**"
   ]
  },
  {
   "cell_type": "code",
   "execution_count": null,
   "id": "46ba2e10",
   "metadata": {},
   "outputs": [],
   "source": [
    "data2.describe()"
   ]
  },
  {
   "cell_type": "code",
   "execution_count": null,
   "id": "b8054e06",
   "metadata": {},
   "outputs": [],
   "source": [
    "# Calculating the variance of the female possums \n",
    "female_var = get_female['age'].var()\n",
    "female_var"
   ]
  },
  {
   "cell_type": "code",
   "execution_count": null,
   "id": "6a0b3ecb",
   "metadata": {},
   "outputs": [],
   "source": [
    "# Calculating the youngest female possums in the dataset\n",
    "min_age_female = get_female['age'].min()\n",
    "min_age_female"
   ]
  },
  {
   "cell_type": "code",
   "execution_count": null,
   "id": "43930a0e",
   "metadata": {},
   "outputs": [],
   "source": [
    "# Calculating the oldest female possums in the dataset\n",
    "max_age_female = get_female['age'].max()\n",
    "max_age_female"
   ]
  },
  {
   "cell_type": "code",
   "execution_count": null,
   "id": "4e142cee",
   "metadata": {},
   "outputs": [],
   "source": [
    "# Calculating the youngest male possums in the dataset\n",
    "min_age_male = get_male['age'].min()\n",
    "min_age_male"
   ]
  },
  {
   "cell_type": "code",
   "execution_count": null,
   "id": "35e2b155",
   "metadata": {},
   "outputs": [],
   "source": [
    "# Calculating the oldest male possums in the dataset\n",
    "max_age_male = get_male['age'].max()\n",
    "max_age_male"
   ]
  },
  {
   "cell_type": "code",
   "execution_count": null,
   "id": "e621d0b6",
   "metadata": {},
   "outputs": [],
   "source": [
    "# Calculating the age range of the female possums\n",
    "age_range_female = max_age_female - min_age_female\n",
    "print(f\"The age range of the female possums in the dataset is {age_range_female}\")"
   ]
  },
  {
   "cell_type": "code",
   "execution_count": null,
   "id": "83fd1458",
   "metadata": {},
   "outputs": [],
   "source": [
    "# Calculating the age range of the female possums\n",
    "age_range_male = max_age_male - min_age_male\n",
    "print(f\"The age range of the female possums in the dataset is {age_range_male}\")"
   ]
  },
  {
   "cell_type": "markdown",
   "id": "a0d3e054",
   "metadata": {},
   "source": [
    "**Findings using Range for the Age**\n",
    "- Using range gives a quick sense of the spread but cannot be used t determine the distribution of the dataset."
   ]
  },
  {
   "cell_type": "code",
   "execution_count": null,
   "id": "ba021873",
   "metadata": {},
   "outputs": [],
   "source": []
  }
 ],
 "metadata": {
  "kernelspec": {
   "display_name": "venv",
   "language": "python",
   "name": "python3"
  },
  "language_info": {
   "codemirror_mode": {
    "name": "ipython",
    "version": 3
   },
   "file_extension": ".py",
   "mimetype": "text/x-python",
   "name": "python",
   "nbconvert_exporter": "python",
   "pygments_lexer": "ipython3",
   "version": "3.13.7"
  }
 },
 "nbformat": 4,
 "nbformat_minor": 5
}
