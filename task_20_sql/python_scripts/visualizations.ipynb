{
 "cells": [
  {
   "cell_type": "markdown",
   "id": "b36a3af2",
   "metadata": {},
   "source": [
    "## Part 6: Data Visualization"
   ]
  },
  {
   "cell_type": "markdown",
   "id": "872f5716",
   "metadata": {},
   "source": [
    "**Create meaningful visualizations for the following:**"
   ]
  },
  {
   "cell_type": "markdown",
   "id": "6afec361",
   "metadata": {
    "vscode": {
     "languageId": "plaintext"
    }
   },
   "source": [
    "**V1. Bar chart showing the top 10 authors by number of books written**"
   ]
  },
  {
   "cell_type": "code",
   "execution_count": 1,
   "id": "d4f8a156",
   "metadata": {},
   "outputs": [
    {
     "data": {
      "text/html": [
       "<div>\n",
       "<style scoped>\n",
       "    .dataframe tbody tr th:only-of-type {\n",
       "        vertical-align: middle;\n",
       "    }\n",
       "\n",
       "    .dataframe tbody tr th {\n",
       "        vertical-align: top;\n",
       "    }\n",
       "\n",
       "    .dataframe thead th {\n",
       "        text-align: right;\n",
       "    }\n",
       "</style>\n",
       "<table border=\"1\" class=\"dataframe\">\n",
       "  <thead>\n",
       "    <tr style=\"text-align: right;\">\n",
       "      <th></th>\n",
       "      <th>order_id</th>\n",
       "      <th>order_date</th>\n",
       "      <th>book_id</th>\n",
       "      <th>cost</th>\n",
       "      <th>quantity</th>\n",
       "      <th>supply_date</th>\n",
       "      <th>fulfillment_status</th>\n",
       "      <th>supplier_name</th>\n",
       "    </tr>\n",
       "  </thead>\n",
       "  <tbody>\n",
       "    <tr>\n",
       "      <th>0</th>\n",
       "      <td>1</td>\n",
       "      <td>2024-01-10</td>\n",
       "      <td>1</td>\n",
       "      <td>12.99</td>\n",
       "      <td>5</td>\n",
       "      <td>2024-01-18</td>\n",
       "      <td>fulfilled</td>\n",
       "      <td>Baker &amp; Taylor</td>\n",
       "    </tr>\n",
       "    <tr>\n",
       "      <th>1</th>\n",
       "      <td>2</td>\n",
       "      <td>2024-01-15</td>\n",
       "      <td>22</td>\n",
       "      <td>15.95</td>\n",
       "      <td>8</td>\n",
       "      <td>2024-01-25</td>\n",
       "      <td>fulfilled</td>\n",
       "      <td>Ingram Book Group</td>\n",
       "    </tr>\n",
       "    <tr>\n",
       "      <th>2</th>\n",
       "      <td>3</td>\n",
       "      <td>2024-02-05</td>\n",
       "      <td>30</td>\n",
       "      <td>8.99</td>\n",
       "      <td>10</td>\n",
       "      <td>2024-02-15</td>\n",
       "      <td>fulfilled</td>\n",
       "      <td>Scholastic</td>\n",
       "    </tr>\n",
       "    <tr>\n",
       "      <th>3</th>\n",
       "      <td>4</td>\n",
       "      <td>2024-02-12</td>\n",
       "      <td>7</td>\n",
       "      <td>14.50</td>\n",
       "      <td>6</td>\n",
       "      <td>2024-02-22</td>\n",
       "      <td>fulfilled</td>\n",
       "      <td>Random House</td>\n",
       "    </tr>\n",
       "    <tr>\n",
       "      <th>4</th>\n",
       "      <td>5</td>\n",
       "      <td>2024-02-20</td>\n",
       "      <td>19</td>\n",
       "      <td>13.75</td>\n",
       "      <td>4</td>\n",
       "      <td>2024-03-02</td>\n",
       "      <td>fulfilled</td>\n",
       "      <td>HarperCollins</td>\n",
       "    </tr>\n",
       "  </tbody>\n",
       "</table>\n",
       "</div>"
      ],
      "text/plain": [
       "   order_id  order_date  book_id   cost  quantity supply_date  \\\n",
       "0         1  2024-01-10        1  12.99         5  2024-01-18   \n",
       "1         2  2024-01-15       22  15.95         8  2024-01-25   \n",
       "2         3  2024-02-05       30   8.99        10  2024-02-15   \n",
       "3         4  2024-02-12        7  14.50         6  2024-02-22   \n",
       "4         5  2024-02-20       19  13.75         4  2024-03-02   \n",
       "\n",
       "  fulfillment_status      supplier_name  \n",
       "0          fulfilled     Baker & Taylor  \n",
       "1          fulfilled  Ingram Book Group  \n",
       "2          fulfilled         Scholastic  \n",
       "3          fulfilled       Random House  \n",
       "4          fulfilled      HarperCollins  "
      ]
     },
     "execution_count": 1,
     "metadata": {},
     "output_type": "execute_result"
    }
   ],
   "source": [
    "# import all necessary libraries\n",
    "\n",
    "import pandas as pd\n",
    "import matplotlib.pyplot as plt\n",
    "from sqlalchemy import create_engine\n",
    "\n",
    "# \n",
    "USER ='postgres'\n",
    "PASSWORD = 'kanyisola'\n",
    "HOST = 'localhost'\n",
    "PORT = '5432'\n",
    "DB = 'library_db'\n",
    "\n",
    "# Create database connection\n",
    "engine = create_engine(f'postgresql://{USER}:{PASSWORD}@{HOST}:{PORT}/{DB}')\n",
    "\n",
    "# Load all the database\n",
    "books = pd.read_sql(\"SELECT * FROM Books\", engine)\n",
    "authors = pd.read_sql(\"SELECT * FROM Authors\", engine)\n",
    "book_orders = pd.read_sql(\"SELECT * FROM BookOrders\", engine)\n",
    "borrow_history = pd.read_sql(\"SELECT * FROM Borrowedhistory\", engine)\n",
    "members = pd.read_sql(\"SELECT * FROM Members\", engine)\n",
    "library_staff = pd.read_sql(\"SELECT * FROM LibraryStaff\", engine)\n",
    "departments = pd.read_sql(\"SELECT * FROM Departments\", engine)\n",
    "\n",
    "# Display the book_orders\n",
    "book_orders.head(5)"
   ]
  },
  {
   "cell_type": "code",
   "execution_count": 2,
   "id": "00bda4c5",
   "metadata": {},
   "outputs": [
    {
     "data": {
      "text/plain": [
       "author_name\n",
       "Isaac Asimov         500\n",
       "Agatha Christie       85\n",
       "Stephen King          64\n",
       "Philip K. Dick        44\n",
       "Terry Pratchett       41\n",
       "Neil Gaiman           35\n",
       "Arthur C. Clarke      33\n",
       "Paulo Coelho          30\n",
       "Brandon Sanderson     28\n",
       "Ray Bradbury          27\n",
       "Name: number_of_books_written, dtype: int64"
      ]
     },
     "execution_count": 2,
     "metadata": {},
     "output_type": "execute_result"
    }
   ],
   "source": [
    "# Top ten authors by the number of books written\n",
    "author_by_books = authors.groupby('author_name')['number_of_books_written'].sum().sort_values(ascending=False).head(10)\n",
    "author_by_books"
   ]
  },
  {
   "cell_type": "code",
   "execution_count": 3,
   "id": "d1e417cf",
   "metadata": {},
   "outputs": [
    {
     "data": {
      "text/plain": [
       "<Axes: title={'center': 'Top 10 authors by the number of books written'}, xlabel='Authors', ylabel='Number_of_books_written'>"
      ]
     },
     "execution_count": 3,
     "metadata": {},
     "output_type": "execute_result"
    },
    {
     "data": {
      "image/png": "[encoded data removed]",
      "text/plain": [
       "<Figure size 640x480 with 1 Axes>"
      ]
     },
     "metadata": {},
     "output_type": "display_data"
    }
   ],
   "source": [
    "# Plotting the top 10 authors by number of books written\n",
    "author_by_books.plot(kind='bar', xlabel='Authors', ylabel='Number_of_books_written', title='Top 10 authors by the number of books written', color='purple')"
   ]
  },
  {
   "cell_type": "markdown",
   "id": "c17f5e1e",
   "metadata": {},
   "source": [
    "**V2. Pie chart displaying the distribution of members by membership type**"
   ]
  },
  {
   "cell_type": "code",
   "execution_count": 4,
   "id": "c6627724",
   "metadata": {},
   "outputs": [
    {
     "data": {
      "text/plain": [
       "Index(['membership_id', 'member_name', 'gender', 'email_address',\n",
       "       'phone_number', 'age', 'type_of_membership', 'date_of_membership',\n",
       "       'status', 'address'],\n",
       "      dtype='object')"
      ]
     },
     "execution_count": 4,
     "metadata": {},
     "output_type": "execute_result"
    }
   ],
   "source": [
    "# Display members columns\n",
    "members.columns"
   ]
  },
  {
   "cell_type": "code",
   "execution_count": 5,
   "id": "6bc7252e",
   "metadata": {},
   "outputs": [
    {
     "data": {
      "text/plain": [
       "type_of_membership\n",
       "student     12\n",
       "premium     23\n",
       "standard    40\n",
       "Name: count, dtype: int64"
      ]
     },
     "execution_count": 5,
     "metadata": {},
     "output_type": "execute_result"
    }
   ],
   "source": [
    "# Checking the type of membership\n",
    "membership_type = members['type_of_membership'].value_counts().sort_values(ascending=True)\n",
    "membership_type"
   ]
  },
  {
   "cell_type": "code",
   "execution_count": 6,
   "id": "7b88e47d",
   "metadata": {},
   "outputs": [
    {
     "data": {
      "image/png": "[encoded data removed]",
      "text/plain": [
       "<Figure size 640x480 with 1 Axes>"
      ]
     },
     "metadata": {},
     "output_type": "display_data"
    }
   ],
   "source": [
    "# Plotting the distribution of members by their membership type\n",
    "plt.pie(membership_type.values, labels=membership_type.index, autopct='%1.2f%%')\n",
    "plt.title('Distribution of members by membership type')\n",
    "plt.show()"
   ]
  },
  {
   "cell_type": "markdown",
   "id": "eb0bea4c",
   "metadata": {},
   "source": [
    "**V3. Line graph showing monthly borrowing trends over time**"
   ]
  },
  {
   "cell_type": "code",
   "execution_count": 7,
   "id": "5e55c4c5",
   "metadata": {},
   "outputs": [
    {
     "data": {
      "text/html": [
       "<div>\n",
       "<style scoped>\n",
       "    .dataframe tbody tr th:only-of-type {\n",
       "        vertical-align: middle;\n",
       "    }\n",
       "\n",
       "    .dataframe tbody tr th {\n",
       "        vertical-align: top;\n",
       "    }\n",
       "\n",
       "    .dataframe thead th {\n",
       "        text-align: right;\n",
       "    }\n",
       "</style>\n",
       "<table border=\"1\" class=\"dataframe\">\n",
       "  <thead>\n",
       "    <tr style=\"text-align: right;\">\n",
       "      <th></th>\n",
       "      <th>book_id</th>\n",
       "      <th>title</th>\n",
       "      <th>authors_id</th>\n",
       "      <th>genre</th>\n",
       "      <th>date_of_publication</th>\n",
       "      <th>publisher</th>\n",
       "      <th>isbn</th>\n",
       "      <th>language</th>\n",
       "      <th>available_copies</th>\n",
       "      <th>age_rating</th>\n",
       "      <th>borrowed_id</th>\n",
       "      <th>membership_id</th>\n",
       "      <th>borrow_date</th>\n",
       "      <th>return_date</th>\n",
       "    </tr>\n",
       "  </thead>\n",
       "  <tbody>\n",
       "    <tr>\n",
       "      <th>0</th>\n",
       "      <td>1</td>\n",
       "      <td>The Handmaid's Tale</td>\n",
       "      <td>1</td>\n",
       "      <td>Dystopian Fiction</td>\n",
       "      <td>1985-08-01</td>\n",
       "      <td>McClelland &amp; Stewart</td>\n",
       "      <td>9780771008795</td>\n",
       "      <td>English</td>\n",
       "      <td>3</td>\n",
       "      <td>16+</td>\n",
       "      <td>1</td>\n",
       "      <td>1</td>\n",
       "      <td>2024-01-15</td>\n",
       "      <td>2024-02-05</td>\n",
       "    </tr>\n",
       "    <tr>\n",
       "      <th>1</th>\n",
       "      <td>1</td>\n",
       "      <td>The Handmaid's Tale</td>\n",
       "      <td>1</td>\n",
       "      <td>Dystopian Fiction</td>\n",
       "      <td>1985-08-01</td>\n",
       "      <td>McClelland &amp; Stewart</td>\n",
       "      <td>9780771008795</td>\n",
       "      <td>English</td>\n",
       "      <td>3</td>\n",
       "      <td>16+</td>\n",
       "      <td>55</td>\n",
       "      <td>50</td>\n",
       "      <td>2024-03-22</td>\n",
       "      <td>None</td>\n",
       "    </tr>\n",
       "  </tbody>\n",
       "</table>\n",
       "</div>"
      ],
      "text/plain": [
       "   book_id                title  authors_id              genre  \\\n",
       "0        1  The Handmaid's Tale           1  Dystopian Fiction   \n",
       "1        1  The Handmaid's Tale           1  Dystopian Fiction   \n",
       "\n",
       "  date_of_publication             publisher           isbn language  \\\n",
       "0          1985-08-01  McClelland & Stewart  9780771008795  English   \n",
       "1          1985-08-01  McClelland & Stewart  9780771008795  English   \n",
       "\n",
       "   available_copies age_rating  borrowed_id  membership_id borrow_date  \\\n",
       "0                 3        16+            1              1  2024-01-15   \n",
       "1                 3        16+           55             50  2024-03-22   \n",
       "\n",
       "  return_date  \n",
       "0  2024-02-05  \n",
       "1        None  "
      ]
     },
     "execution_count": 7,
     "metadata": {},
     "output_type": "execute_result"
    }
   ],
   "source": [
    "# Merge the borrow_history and books by the primary key\n",
    "books_borrowed = pd.merge(books, borrow_history, on='book_id', how='inner')\n",
    "books_borrowed.head(2)"
   ]
  },
  {
   "cell_type": "code",
   "execution_count": 8,
   "id": "efa6b466",
   "metadata": {},
   "outputs": [],
   "source": [
    "# convert the borrow_date to datetime format\n",
    "books_borrowed['borrow_date'] = pd.to_datetime(books_borrowed['borrow_date'])\n",
    "\n",
    "# Extract the year and month from the date\n",
    "books_borrowed['borrow_year'] = books_borrowed['borrow_date'].dt.year\n",
    "books_borrowed['borrow_month'] = books_borrowed['borrow_date'].dt.month_name()"
   ]
  },
  {
   "cell_type": "code",
   "execution_count": 9,
   "id": "f96b0490",
   "metadata": {},
   "outputs": [
    {
     "data": {
      "text/html": [
       "<div>\n",
       "<style scoped>\n",
       "    .dataframe tbody tr th:only-of-type {\n",
       "        vertical-align: middle;\n",
       "    }\n",
       "\n",
       "    .dataframe tbody tr th {\n",
       "        vertical-align: top;\n",
       "    }\n",
       "\n",
       "    .dataframe thead th {\n",
       "        text-align: right;\n",
       "    }\n",
       "</style>\n",
       "<table border=\"1\" class=\"dataframe\">\n",
       "  <thead>\n",
       "    <tr style=\"text-align: right;\">\n",
       "      <th></th>\n",
       "      <th>borrow_year</th>\n",
       "      <th>borrow_month</th>\n",
       "      <th>total_borrowed_books</th>\n",
       "    </tr>\n",
       "  </thead>\n",
       "  <tbody>\n",
       "    <tr>\n",
       "      <th>1</th>\n",
       "      <td>2024</td>\n",
       "      <td>January</td>\n",
       "      <td>32</td>\n",
       "    </tr>\n",
       "    <tr>\n",
       "      <th>0</th>\n",
       "      <td>2024</td>\n",
       "      <td>February</td>\n",
       "      <td>58</td>\n",
       "    </tr>\n",
       "    <tr>\n",
       "      <th>2</th>\n",
       "      <td>2024</td>\n",
       "      <td>March</td>\n",
       "      <td>60</td>\n",
       "    </tr>\n",
       "  </tbody>\n",
       "</table>\n",
       "</div>"
      ],
      "text/plain": [
       "   borrow_year borrow_month  total_borrowed_books\n",
       "1         2024      January                    32\n",
       "0         2024     February                    58\n",
       "2         2024        March                    60"
      ]
     },
     "execution_count": 9,
     "metadata": {},
     "output_type": "execute_result"
    }
   ],
   "source": [
    "# Monthly borrowing trends for the past year (count of books borrowed per month).\n",
    "borrowed_books_trend = books_borrowed.groupby(['borrow_year', 'borrow_month']).size().reset_index(name='total_borrowed_books').sort_values(by='total_borrowed_books', ascending=True)\n",
    "borrowed_books_trend"
   ]
  },
  {
   "cell_type": "code",
   "execution_count": 10,
   "id": "c7879d89",
   "metadata": {},
   "outputs": [
    {
     "data": {
      "image/png": "[encoded data removed]",
      "text/plain": [
       "<Figure size 640x480 with 1 Axes>"
      ]
     },
     "metadata": {},
     "output_type": "display_data"
    }
   ],
   "source": [
    "# Plotting the monthly borrowing trends over time using barchart in pandas\n",
    "plt.plot(borrowed_books_trend['borrow_month'], borrowed_books_trend['total_borrowed_books'], color='darkred')\n",
    "plt.xlabel('Borrow_year')\n",
    "plt.ylabel('Total_borrowed_books')\n",
    "plt.title('Monthly Borrowing trends over time')\n",
    "plt.xticks(rotation=90)\n",
    "plt.grid(axis='y', linestyle='--', alpha=0.5)\n",
    "plt.show()"
   ]
  },
  {
   "cell_type": "markdown",
   "id": "bdab0530",
   "metadata": {},
   "source": [
    "**V4. Horizontal bar chart of book genres by total available copies**"
   ]
  },
  {
   "cell_type": "code",
   "execution_count": 11,
   "id": "dbc55dfb",
   "metadata": {},
   "outputs": [
    {
     "data": {
      "text/plain": [
       "Index(['book_id', 'title', 'authors_id', 'genre', 'date_of_publication',\n",
       "       'publisher', 'isbn', 'language', 'available_copies', 'age_rating'],\n",
       "      dtype='object')"
      ]
     },
     "execution_count": 11,
     "metadata": {},
     "output_type": "execute_result"
    }
   ],
   "source": [
    "# Print the columns in books\n",
    "books.columns"
   ]
  },
  {
   "cell_type": "code",
   "execution_count": 12,
   "id": "52abd32e",
   "metadata": {},
   "outputs": [
    {
     "data": {
      "text/html": [
       "<div>\n",
       "<style scoped>\n",
       "    .dataframe tbody tr th:only-of-type {\n",
       "        vertical-align: middle;\n",
       "    }\n",
       "\n",
       "    .dataframe tbody tr th {\n",
       "        vertical-align: top;\n",
       "    }\n",
       "\n",
       "    .dataframe thead th {\n",
       "        text-align: right;\n",
       "    }\n",
       "</style>\n",
       "<table border=\"1\" class=\"dataframe\">\n",
       "  <thead>\n",
       "    <tr style=\"text-align: right;\">\n",
       "      <th></th>\n",
       "      <th>genre</th>\n",
       "      <th>total_available_copies</th>\n",
       "    </tr>\n",
       "  </thead>\n",
       "  <tbody>\n",
       "    <tr>\n",
       "      <th>2</th>\n",
       "      <td>Essay</td>\n",
       "      <td>1</td>\n",
       "    </tr>\n",
       "    <tr>\n",
       "      <th>0</th>\n",
       "      <td>Children's Literature</td>\n",
       "      <td>2</td>\n",
       "    </tr>\n",
       "    <tr>\n",
       "      <th>5</th>\n",
       "      <td>Historical Mystery</td>\n",
       "      <td>2</td>\n",
       "    </tr>\n",
       "    <tr>\n",
       "      <th>13</th>\n",
       "      <td>Post-apocalyptic</td>\n",
       "      <td>2</td>\n",
       "    </tr>\n",
       "    <tr>\n",
       "      <th>18</th>\n",
       "      <td>Travel</td>\n",
       "      <td>3</td>\n",
       "    </tr>\n",
       "    <tr>\n",
       "      <th>17</th>\n",
       "      <td>Short Stories</td>\n",
       "      <td>3</td>\n",
       "    </tr>\n",
       "    <tr>\n",
       "      <th>15</th>\n",
       "      <td>Science</td>\n",
       "      <td>5</td>\n",
       "    </tr>\n",
       "    <tr>\n",
       "      <th>14</th>\n",
       "      <td>Romance</td>\n",
       "      <td>6</td>\n",
       "    </tr>\n",
       "    <tr>\n",
       "      <th>1</th>\n",
       "      <td>Dystopian Fiction</td>\n",
       "      <td>6</td>\n",
       "    </tr>\n",
       "    <tr>\n",
       "      <th>8</th>\n",
       "      <td>Magical Realism</td>\n",
       "      <td>7</td>\n",
       "    </tr>\n",
       "    <tr>\n",
       "      <th>16</th>\n",
       "      <td>Science Fiction</td>\n",
       "      <td>9</td>\n",
       "    </tr>\n",
       "    <tr>\n",
       "      <th>12</th>\n",
       "      <td>Philosophical Fiction</td>\n",
       "      <td>10</td>\n",
       "    </tr>\n",
       "    <tr>\n",
       "      <th>6</th>\n",
       "      <td>Horror</td>\n",
       "      <td>10</td>\n",
       "    </tr>\n",
       "    <tr>\n",
       "      <th>4</th>\n",
       "      <td>Historical Fiction</td>\n",
       "      <td>14</td>\n",
       "    </tr>\n",
       "    <tr>\n",
       "      <th>10</th>\n",
       "      <td>Mystery</td>\n",
       "      <td>14</td>\n",
       "    </tr>\n",
       "    <tr>\n",
       "      <th>9</th>\n",
       "      <td>Memoir</td>\n",
       "      <td>19</td>\n",
       "    </tr>\n",
       "    <tr>\n",
       "      <th>11</th>\n",
       "      <td>Non-fiction</td>\n",
       "      <td>23</td>\n",
       "    </tr>\n",
       "    <tr>\n",
       "      <th>3</th>\n",
       "      <td>Fantasy</td>\n",
       "      <td>43</td>\n",
       "    </tr>\n",
       "    <tr>\n",
       "      <th>7</th>\n",
       "      <td>Literary Fiction</td>\n",
       "      <td>67</td>\n",
       "    </tr>\n",
       "  </tbody>\n",
       "</table>\n",
       "</div>"
      ],
      "text/plain": [
       "                    genre  total_available_copies\n",
       "2                   Essay                       1\n",
       "0   Children's Literature                       2\n",
       "5      Historical Mystery                       2\n",
       "13       Post-apocalyptic                       2\n",
       "18                 Travel                       3\n",
       "17          Short Stories                       3\n",
       "15                Science                       5\n",
       "14                Romance                       6\n",
       "1       Dystopian Fiction                       6\n",
       "8         Magical Realism                       7\n",
       "16        Science Fiction                       9\n",
       "12  Philosophical Fiction                      10\n",
       "6                  Horror                      10\n",
       "4      Historical Fiction                      14\n",
       "10                Mystery                      14\n",
       "9                  Memoir                      19\n",
       "11            Non-fiction                      23\n",
       "3                 Fantasy                      43\n",
       "7        Literary Fiction                      67"
      ]
     },
     "execution_count": 12,
     "metadata": {},
     "output_type": "execute_result"
    }
   ],
   "source": [
    "# Showing the average no of available copies by genre\n",
    "total_available_copies = books.groupby('genre')['available_copies'].sum().reset_index(name='total_available_copies').sort_values(by='total_available_copies', ascending=True)\n",
    "total_available_copies"
   ]
  },
  {
   "cell_type": "code",
   "execution_count": 13,
   "id": "b4721149",
   "metadata": {},
   "outputs": [
    {
     "data": {
      "image/png": "[encoded data removed]",
      "text/plain": [
       "<Figure size 1000x700 with 1 Axes>"
      ]
     },
     "metadata": {},
     "output_type": "display_data"
    }
   ],
   "source": [
    "# Plotting the chart for the Total available copies by genre using matplotlib\n",
    "plt.figure(figsize=(10,7))\n",
    "plt.barh(total_available_copies['genre'], total_available_copies['total_available_copies'].values)\n",
    "plt.xlabel('Genre')\n",
    "plt.ylabel('Total available copies')\n",
    "plt.title('Total available copies by genre')\n",
    "plt.xticks(rotation = 0)\n",
    "plt.show()"
   ]
  },
  {
   "cell_type": "markdown",
   "id": "26ed72ad",
   "metadata": {},
   "source": [
    "**V5. Heatmap or stacked bar chart showing book orders by fulfillment status and supplier**"
   ]
  },
  {
   "cell_type": "code",
   "execution_count": 14,
   "id": "8975b7e4",
   "metadata": {},
   "outputs": [
    {
     "data": {
      "text/plain": [
       "Index(['order_id', 'order_date', 'book_id', 'cost', 'quantity', 'supply_date',\n",
       "       'fulfillment_status', 'supplier_name'],\n",
       "      dtype='object')"
      ]
     },
     "execution_count": 14,
     "metadata": {},
     "output_type": "execute_result"
    }
   ],
   "source": [
    "# Display the columns in book_orders\n",
    "book_orders.columns"
   ]
  },
  {
   "cell_type": "code",
   "execution_count": 15,
   "id": "63a72797",
   "metadata": {},
   "outputs": [
    {
     "data": {
      "text/html": [
       "<div>\n",
       "<style scoped>\n",
       "    .dataframe tbody tr th:only-of-type {\n",
       "        vertical-align: middle;\n",
       "    }\n",
       "\n",
       "    .dataframe tbody tr th {\n",
       "        vertical-align: top;\n",
       "    }\n",
       "\n",
       "    .dataframe thead th {\n",
       "        text-align: right;\n",
       "    }\n",
       "</style>\n",
       "<table border=\"1\" class=\"dataframe\">\n",
       "  <thead>\n",
       "    <tr style=\"text-align: right;\">\n",
       "      <th></th>\n",
       "      <th>order_id</th>\n",
       "      <th>order_date</th>\n",
       "      <th>book_id</th>\n",
       "      <th>cost</th>\n",
       "      <th>quantity</th>\n",
       "      <th>supply_date</th>\n",
       "      <th>fulfillment_status</th>\n",
       "      <th>supplier_name</th>\n",
       "    </tr>\n",
       "  </thead>\n",
       "  <tbody>\n",
       "    <tr>\n",
       "      <th>0</th>\n",
       "      <td>1</td>\n",
       "      <td>2024-01-10</td>\n",
       "      <td>1</td>\n",
       "      <td>12.99</td>\n",
       "      <td>5</td>\n",
       "      <td>2024-01-18</td>\n",
       "      <td>fulfilled</td>\n",
       "      <td>Baker &amp; Taylor</td>\n",
       "    </tr>\n",
       "    <tr>\n",
       "      <th>1</th>\n",
       "      <td>2</td>\n",
       "      <td>2024-01-15</td>\n",
       "      <td>22</td>\n",
       "      <td>15.95</td>\n",
       "      <td>8</td>\n",
       "      <td>2024-01-25</td>\n",
       "      <td>fulfilled</td>\n",
       "      <td>Ingram Book Group</td>\n",
       "    </tr>\n",
       "  </tbody>\n",
       "</table>\n",
       "</div>"
      ],
      "text/plain": [
       "   order_id  order_date  book_id   cost  quantity supply_date  \\\n",
       "0         1  2024-01-10        1  12.99         5  2024-01-18   \n",
       "1         2  2024-01-15       22  15.95         8  2024-01-25   \n",
       "\n",
       "  fulfillment_status      supplier_name  \n",
       "0          fulfilled     Baker & Taylor  \n",
       "1          fulfilled  Ingram Book Group  "
      ]
     },
     "execution_count": 15,
     "metadata": {},
     "output_type": "execute_result"
    }
   ],
   "source": [
    "book_orders.head(2)"
   ]
  },
  {
   "cell_type": "code",
   "execution_count": null,
   "id": "3272f1c7",
   "metadata": {},
   "outputs": [
    {
     "data": {
      "text/plain": [
       "supplier_name\n",
       "Agatha Christie Ltd    1\n",
       "Algonquin Books        1\n",
       "Baker & Taylor         1\n",
       "Bantam Spectra         1\n",
       "Bobbs-Merrill          1\n",
       "Name: fulfillment_status, dtype: int64"
      ]
     },
     "execution_count": 24,
     "metadata": {},
     "output_type": "execute_result"
    }
   ],
   "source": [
    "book_orders_status = book_orders.groupby('supplier_name')['fulfillment_status'].size().sort_values(ascending=)\n",
    "book_orders_status.head()"
   ]
  },
  {
   "cell_type": "code",
   "execution_count": null,
   "id": "23c50dc6",
   "metadata": {},
   "outputs": [],
   "source": []
  },
  {
   "cell_type": "code",
   "execution_count": 17,
   "id": "af86355c",
   "metadata": {},
   "outputs": [
    {
     "ename": "NameError",
     "evalue": "name 'sns' is not defined",
     "output_type": "error",
     "traceback": [
      "\u001b[31m---------------------------------------------------------------------------\u001b[39m",
      "\u001b[31mNameError\u001b[39m                                 Traceback (most recent call last)",
      "\u001b[36mCell\u001b[39m\u001b[36m \u001b[39m\u001b[32mIn[17]\u001b[39m\u001b[32m, line 3\u001b[39m\n\u001b[32m      1\u001b[39m \u001b[38;5;66;03m# Plot the correlation matrix as a heatmap\u001b[39;00m\n\u001b[32m      2\u001b[39m plt.figure(figsize=(\u001b[32m12\u001b[39m, \u001b[32m8\u001b[39m))\n\u001b[32m----> \u001b[39m\u001b[32m3\u001b[39m \u001b[43msns\u001b[49m.heatmap(corr_matrix, annot=\u001b[38;5;28;01mTrue\u001b[39;00m, cmap=\u001b[33m'\u001b[39m\u001b[33mcoolwarm\u001b[39m\u001b[33m'\u001b[39m)\n\u001b[32m      4\u001b[39m plt.title(\u001b[33m'\u001b[39m\u001b[33mCorrelation Matrix of Numerical Variables\u001b[39m\u001b[33m'\u001b[39m)\n\u001b[32m      5\u001b[39m plt.show()\n",
      "\u001b[31mNameError\u001b[39m: name 'sns' is not defined"
     ]
    },
    {
     "data": {
      "text/plain": [
       "<Figure size 1200x800 with 0 Axes>"
      ]
     },
     "metadata": {},
     "output_type": "display_data"
    }
   ],
   "source": [
    "# Plot the correlation matrix as a heatmap\n",
    "plt.figure(figsize=(12, 8))\n",
    "sns.heatmap(corr_matrix, annot=True, cmap='coolwarm')\n",
    "plt.title('Correlation Matrix of Numerical Variables')\n",
    "plt.show()"
   ]
  }
 ],
 "metadata": {
  "kernelspec": {
   "display_name": "my_venv",
   "language": "python",
   "name": "python3"
  },
  "language_info": {
   "codemirror_mode": {
    "name": "ipython",
    "version": 3
   },
   "file_extension": ".py",
   "mimetype": "text/x-python",
   "name": "python",
   "nbconvert_exporter": "python",
   "pygments_lexer": "ipython3",
   "version": "3.13.8"
  }
 },
 "nbformat": 4,
 "nbformat_minor": 5
}
