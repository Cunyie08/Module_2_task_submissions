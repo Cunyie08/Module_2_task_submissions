{
 "cells": [
  {
   "cell_type": "markdown",
   "id": "c7a42bbc",
   "metadata": {},
   "source": [
    "### **Task 13 Submission**"
   ]
  },
  {
   "cell_type": "markdown",
   "id": "596aa9f8",
   "metadata": {},
   "source": [
    "**Question 1**\n",
    "- Create a 6x6 NumPy array with random integers between 1 and 50.\n",
    "- Display the array."
   ]
  },
  {
   "cell_type": "code",
   "execution_count": 10,
   "id": "1a7692f6",
   "metadata": {},
   "outputs": [
    {
     "name": "stdout",
     "output_type": "stream",
     "text": [
      "The 6 x 6 array:\n",
      " [[13 31 24 32 32 27]\n",
      " [ 4 48 49 46 24  8]\n",
      " [23 12 42 49 43 16]\n",
      " [31 37 39 36 43  1]\n",
      " [19 48 46 28  6 37]\n",
      " [37 33 22  9 42 27]]\n",
      "The 6x6 using default range:\n",
      " [[ 3 21 39 33 15 31]\n",
      " [13 14 14  4 25  3]\n",
      " [49  4 17 14  7 19]\n",
      " [29 27 50 32 39  1]\n",
      " [ 2 48 19 37 41 14]\n",
      " [ 2 42 19 35 26 17]]\n"
     ]
    }
   ],
   "source": [
    "# 6 by 6 array array with random int between (1,50)\n",
    "\n",
    "import numpy as np\n",
    "\n",
    "\n",
    "array = np.random.randint(1,51, [6,6])\n",
    "print(\"The 6 x 6 array:\\n\", array)\n",
    "\n",
    "# Alternative using default range\n",
    "rng = np.random.default_rng()\n",
    "array_6 = rng.integers(1,51, size=(6,6))\n",
    "print(\"The 6x6 using default range:\\n\", array_6)"
   ]
  },
  {
   "cell_type": "markdown",
   "id": "8146afe1",
   "metadata": {},
   "source": [
    "**Question 2**\n",
    "\n",
    "Extract the following from the array you created in \n",
    "- The first two rows.\n",
    "- The last three columns. \n",
    "- All even numbers in the array."
   ]
  },
  {
   "cell_type": "code",
   "execution_count": 11,
   "id": "aea19a33",
   "metadata": {},
   "outputs": [
    {
     "name": "stdout",
     "output_type": "stream",
     "text": [
      "First two rows are:\n",
      " [[ 3 21 39 33 15 31]\n",
      " [13 14 14  4 25  3]]\n",
      "Last three columns are:\n",
      " [[33 15 31]\n",
      " [ 4 25  3]\n",
      " [14  7 19]\n",
      " [32 39  1]\n",
      " [37 41 14]\n",
      " [35 26 17]]\n",
      "The even numbers are:\n",
      " [14 14  4  4 14 50 32  2 48 14  2 42 26]\n"
     ]
    }
   ],
   "source": [
    "# Extarcting the first two rows\n",
    "\n",
    "arrays = np.array(array_6)\n",
    "print(\"First two rows are:\\n\", arrays[0:2])\n",
    "\n",
    "# Extracting the last three columns\n",
    "arrays = np.array(array_6)\n",
    "print(\"Last three columns are:\\n\", arrays[:, 3:])\n",
    "\n",
    "# Extracting the even numbers from the array\n",
    "arrays = np.array(array_6)\n",
    "even_nums = arrays[arrays%2==0]\n",
    "print(\"The even numbers are:\\n\", even_nums)"
   ]
  },
  {
   "cell_type": "markdown",
   "id": "66f23cb5",
   "metadata": {},
   "source": [
    "**Question 3**"
   ]
  },
  {
   "cell_type": "markdown",
   "id": "f160da84",
   "metadata": {},
   "source": [
    "Perform the following array transformations: \n",
    "- Reshape the array into a 3D (3, 2, 6) array. \n",
    "- Flatten the reshaped array back to 1D."
   ]
  },
  {
   "cell_type": "code",
   "execution_count": 12,
   "id": "17990d6f",
   "metadata": {},
   "outputs": [
    {
     "name": "stdout",
     "output_type": "stream",
     "text": [
      "Reshaped array (3by2by6):\n",
      " [[[ 3 21 39 33 15 31]\n",
      "  [13 14 14  4 25  3]]\n",
      "\n",
      " [[49  4 17 14  7 19]\n",
      "  [29 27 50 32 39  1]]\n",
      "\n",
      " [[ 2 48 19 37 41 14]\n",
      "  [ 2 42 19 35 26 17]]]\n",
      "Flatten array (1D):\n",
      " [ 3 21 39 33 15 31 13 14 14  4 25  3 49  4 17 14  7 19 29 27 50 32 39  1\n",
      "  2 48 19 37 41 14  2 42 19 35 26 17]\n"
     ]
    }
   ],
   "source": [
    "# Reshaping the array above into 3D\n",
    "reshaped_3D = arrays.reshape(3, 2, 6)\n",
    "print(\"Reshaped array (3by2by6):\\n\", reshaped_3D)\n",
    "\n",
    "# Flattening the reshaped array to 1D\n",
    "\n",
    "flattened = arrays.flatten()\n",
    "print(\"Flatten array (1D):\\n\", flattened)\n"
   ]
  },
  {
   "cell_type": "markdown",
   "id": "26c34181",
   "metadata": {},
   "source": [
    "**Question 4**\n",
    "\n",
    "- Generate a 4x4 identity matrix and \n",
    "- Replace the diagonal with numbers from 10 to 40, with a step of 10."
   ]
  },
  {
   "cell_type": "code",
   "execution_count": 13,
   "id": "5d737361",
   "metadata": {},
   "outputs": [
    {
     "name": "stdout",
     "output_type": "stream",
     "text": [
      "Identity matrix:\n",
      " [[1. 0. 0. 0.]\n",
      " [0. 1. 0. 0.]\n",
      " [0. 0. 1. 0.]\n",
      " [0. 0. 0. 1.]]\n",
      "The replaced numbers are:\n",
      " [10 20 30]\n",
      "The replaced numbers are:\n",
      " None\n"
     ]
    }
   ],
   "source": [
    "# Generate a 4x4 identity matrix\n",
    "identity = np.eye(4)\n",
    "print(\"Identity matrix:\\n\", identity)\n",
    "\n",
    "diagonal_no = np.arange(10, 40, 10)\n",
    "diag = np.fill_diagonal(identity, diagonal_no)\n",
    "print(\"The replaced numbers are:\\n\", diagonal_no)\n",
    "print(\"The replaced numbers are:\\n\", diag)"
   ]
  },
  {
   "cell_type": "markdown",
   "id": "2df82dcc",
   "metadata": {},
   "source": [
    "**Question 5**\n",
    "\n",
    "Perform matrix multiplication between: \n",
    "- A 3x4 matrix of random integers (1-10) and A 4x3 matrix of random integers (1-10)\n"
   ]
  },
  {
   "cell_type": "code",
   "execution_count": 22,
   "id": "91ea7c17",
   "metadata": {},
   "outputs": [
    {
     "name": "stdout",
     "output_type": "stream",
     "text": [
      "Matrix 1:\n",
      " [[ 3  4  6  8]\n",
      " [10  6  4  6]\n",
      " [ 4  6  4  2]]\n",
      "Matrix 2:\n",
      " [[7 7 1]\n",
      " [2 2 2]\n",
      " [1 6 9]\n",
      " [5 5 2]]\n",
      "Matrix1 x Matrix2 (3x3):\n",
      " [[ 75 105  81]\n",
      " [116 136  70]\n",
      " [ 54  74  56]]\n"
     ]
    }
   ],
   "source": [
    "# Generate 3x4 random integers\n",
    "\n",
    "matrix1 = np.random.randint(1,11, [3, 4])\n",
    "matrix2 = np.random.randint(1,11, [4, 3])\n",
    "\n",
    "print(\"Matrix 1:\\n\", matrix1)\n",
    "print(\"Matrix 2:\\n\", matrix2)\n",
    "\n",
    "\n",
    "# Number of columns in matrix 1 is equal to the number of rows in matrix 2\n",
    "print(\"Matrix1 x Matrix2 (3x3):\\n\", np.dot(matrix1, matrix2))\n"
   ]
  },
  {
   "cell_type": "markdown",
   "id": "1aca94ca",
   "metadata": {},
   "source": [
    "**Question 6**\n",
    "\n",
    "Create a function that takes a 2D NumPy array as input and returns a new array where: \n",
    "\n",
    "- All even numbers are squared. \n",
    "- All odd numbers are replaced by -1."
   ]
  },
  {
   "cell_type": "code",
   "execution_count": 25,
   "id": "58da3753",
   "metadata": {},
   "outputs": [
    {
     "name": "stdout",
     "output_type": "stream",
     "text": [
      "---Operations on 2D NumPy---\n",
      "Array input\n",
      " [[ 0 -1]\n",
      " [ 4 -1]]\n"
     ]
    }
   ],
   "source": [
    "# Generate a function\n",
    "\n",
    "def array_input():\n",
    "    # Display output message\n",
    "    print(\"---Operations on 2D NumPy---\")\n",
    "\n",
    "    # collect input\n",
    "    arr_rows = np.array(int(input(\"Please enter the number of rows: \")))\n",
    "    arr_cols = np.array(int(input(\"Please enter the number ofcolums: \")))\n",
    "\n",
    "    # range the numbers and reshape the columns and rows\n",
    "    array = np.arange(arr_rows*arr_cols).reshape(arr_rows, arr_cols)\n",
    "\n",
    "    new_array = np.where(array % 2 == 0, array**2, -1)\n",
    "    return new_array\n",
    "\n",
    "print(\"Array input\\n\",array_input())\n"
   ]
  }
 ],
 "metadata": {
  "kernelspec": {
   "display_name": "my_venv",
   "language": "python",
   "name": "python3"
  },
  "language_info": {
   "codemirror_mode": {
    "name": "ipython",
    "version": 3
   },
   "file_extension": ".py",
   "mimetype": "text/x-python",
   "name": "python",
   "nbconvert_exporter": "python",
   "pygments_lexer": "ipython3",
   "version": "3.13.7"
  }
 },
 "nbformat": 4,
 "nbformat_minor": 5
}
