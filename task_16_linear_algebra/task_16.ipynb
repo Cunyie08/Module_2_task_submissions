{
 "cells": [
  {
   "cell_type": "markdown",
   "id": "2332308f",
   "metadata": {},
   "source": [
    "**Linear Algebra**"
   ]
  },
  {
   "cell_type": "markdown",
   "id": "f2fcdbb6",
   "metadata": {},
   "source": [
    "**Given the following matrices:**\n",
    "\n",
    "``` \n",
    "Let:    A = 2  -1           B =  1   4  \n",
    "            0   3               -2   5\n",
    "\n",
    "            scalars - (c = 2, d = 3)\n",
    "```"
   ]
  },
  {
   "cell_type": "markdown",
   "id": "c13904a1",
   "metadata": {},
   "source": [
    "**Question A**\n",
    "\n",
    "Compute the following:\n",
    "\n",
    "- c(A)\n",
    "- d(B)\n",
    "- (c+d)A"
   ]
  },
  {
   "cell_type": "code",
   "execution_count": 2,
   "id": "8b60a796",
   "metadata": {},
   "outputs": [
    {
     "name": "stdout",
     "output_type": "stream",
     "text": [
      "Result cA:\n",
      "  [[ 4 -2]\n",
      " [ 0  6]]\n",
      "\n",
      "Result dB:\n",
      " [[ 3 12]\n",
      " [-6 15]]\n",
      "\n",
      "Result (c+d)A:\n",
      " [[10 -5]\n",
      " [ 0 15]]\n"
     ]
    }
   ],
   "source": [
    "# Import libraries\n",
    "import numpy as np\n",
    "\n",
    "# Scalar Multiplication\n",
    "c = 2\n",
    "d = 3\n",
    "\n",
    "A = np.array([[2 , -1], [0 , 3]])\n",
    "B = np.array([[1 , 4], [-2 , 5]])\n",
    "\n",
    "scalar_multiplication_cA = c * A\n",
    "scalar_multiplication_dB = d * B\n",
    "print(f\"Result cA:\\n  {scalar_multiplication_cA}\\n\")\n",
    "print(f\"Result dB:\\n {scalar_multiplication_dB}\\n\")\n",
    "\n",
    "# Scalar Addition\n",
    "scalar_addition = (c+d) * A\n",
    "print(\"Result (c+d)A:\\n\", scalar_addition)"
   ]
  },
  {
   "cell_type": "markdown",
   "id": "78269c8b",
   "metadata": {},
   "source": [
    "**Question B**\n",
    "\n",
    "Using the results gotten, verify the scalar Multiplication Properties:\n",
    "\n",
    "```\n",
    "Let:    A = 2  -1           B =  1   4  \n",
    "            0   3               -2   5\n",
    "\n",
    "            scalars - (c = 2, d = 3)\n",
    "```"
   ]
  },
  {
   "cell_type": "code",
   "execution_count": 3,
   "id": "4de3b80a",
   "metadata": {},
   "outputs": [
    {
     "name": "stdout",
     "output_type": "stream",
     "text": [
      "The result (c.d)A:\n",
      "[[12 -6]\n",
      " [ 0 18]]\n",
      "\n",
      "The result c(dA):\n",
      "[[12 -6]\n",
      " [ 0 18]]\n",
      "\n",
      "Associatiativity of scalar multiplication is True\n"
     ]
    }
   ],
   "source": [
    "# Properties of Scalar Mulitiplication\n",
    "\n",
    "# Associativity\n",
    "\n",
    "associativity1 = (c * d) * A\n",
    "associativity2 = c * (d * A)\n",
    "\n",
    "print(f\"The result (c.d)A:\\n{associativity1}\\n\")\n",
    "print(f\"The result c(dA):\\n{associativity2}\\n\")\n",
    "print(f\"Associatiativity of scalar multiplication is {np.array_equal(associativity1,associativity2)}\")\n"
   ]
  },
  {
   "cell_type": "code",
   "execution_count": 4,
   "id": "a8b3074d",
   "metadata": {},
   "outputs": [
    {
     "name": "stdout",
     "output_type": "stream",
     "text": [
      "The result c( A + B):\n",
      "[[ 6  6]\n",
      " [-4 16]]\n",
      "\n",
      "The result (c * A) + (c * B):\n",
      "[[ 6  6]\n",
      " [-4 16]]\n",
      "\n",
      "Distributivity over scalar multiplication is True\n"
     ]
    }
   ],
   "source": [
    "# Distributivity over scalar multiplication\n",
    "\n",
    "scm_distributivity1 = c * ( A + B)\n",
    "scm_distributivity2 = (c * A) + (c * B)\n",
    "\n",
    "print(f\"The result c( A + B):\\n{scm_distributivity1}\\n\")\n",
    "print(f\"The result (c * A) + (c * B):\\n{scm_distributivity2}\\n\")\n",
    "print(f\"Distributivity over scalar multiplication is {np.array_equal(scm_distributivity1,scm_distributivity2)}\")\n"
   ]
  },
  {
   "cell_type": "code",
   "execution_count": 5,
   "id": "fab4e18e",
   "metadata": {},
   "outputs": [
    {
     "name": "stdout",
     "output_type": "stream",
     "text": [
      "The result (c + d) * A:\n",
      "[[10 -5]\n",
      " [ 0 15]]\n",
      "\n",
      "The result (c * A) + (d * A):\n",
      "[[10 -5]\n",
      " [ 0 15]]\n",
      "\n",
      "Distributivity over scalar Addition is True\n"
     ]
    }
   ],
   "source": [
    "# Distributivity over scalar addition\n",
    "\n",
    "sca_distributivity1 = (c + d) * A\n",
    "sca_distributivity2 = (c * A) + (d * A)\n",
    "\n",
    "print(f\"The result (c + d) * A:\\n{sca_distributivity1}\\n\")\n",
    "print(f\"The result (c * A) + (d * A):\\n{sca_distributivity2}\\n\")\n",
    "print(f\"Distributivity over scalar Addition is {np.array_equal(sca_distributivity1,sca_distributivity2)}\")\n"
   ]
  },
  {
   "cell_type": "markdown",
   "id": "d8c950c5",
   "metadata": {},
   "source": [
    "**Question C**\n",
    "\n",
    "Find the transpose of both matrices:\n",
    "```\n",
    "Let:    A = 2  -1           B =  1   4  \n",
    "            0   3               -2   5\n",
    "```"
   ]
  },
  {
   "cell_type": "code",
   "execution_count": 6,
   "id": "6a5a37bb",
   "metadata": {},
   "outputs": [
    {
     "name": "stdout",
     "output_type": "stream",
     "text": [
      " The transpose of matrix A is:\n",
      "[[ 2  0]\n",
      " [-1  3]]\n",
      " The transpose of matrix A is:\n",
      "[[ 1 -2]\n",
      " [ 4  5]]\n"
     ]
    }
   ],
   "source": [
    "# Finding the transpose of both matrices\n",
    "A = np.array([[2 , -1], [0 , 3]])\n",
    "B = np.array([[1 , 4], [-2 , 5]])\n",
    "\n",
    "print(f\" The transpose of matrix A is:\\n{A.transpose()}\")\n",
    "print(f\" The transpose of matrix A is:\\n{B.transpose()}\")"
   ]
  },
  {
   "cell_type": "markdown",
   "id": "bad6ab39",
   "metadata": {},
   "source": [
    "**Question D**\n",
    "\n",
    "Check if (A) and (B) are invertible by computing their determinant. \n",
    "\n",
    "-> if they are invertible: find A^-1 and B^-1:\n",
    "        \n",
    "```\n",
    "        Let:    A = 2  -1           B =  1   4  \n",
    "                    0   3               -2   5\n",
    "```"
   ]
  },
  {
   "cell_type": "code",
   "execution_count": 7,
   "id": "f0eb1211",
   "metadata": {},
   "outputs": [
    {
     "name": "stdout",
     "output_type": "stream",
     "text": [
      "The determinant of A is equal to 6.0, conditon (A^-1 != 0): True\n",
      "The determinant of B is equal to 13.0, conditon (B^-1 != 0): True\n"
     ]
    }
   ],
   "source": [
    "# Finding the determinant of A and B\n",
    "det_A = np.linalg.det(A)\n",
    "det_B = np.linalg.det(B)\n",
    "\n",
    "print(f\"The determinant of A is equal to {det_A}, conditon (A^-1 != 0): {det_A != 0}\")\n",
    "print(f\"The determinant of B is equal to {det_B}, conditon (B^-1 != 0): {det_B != 0}\")"
   ]
  },
  {
   "cell_type": "code",
   "execution_count": 8,
   "id": "13d12ac6",
   "metadata": {},
   "outputs": [
    {
     "name": "stdout",
     "output_type": "stream",
     "text": [
      "The inverse of A is equal to\n",
      "[[0.5        0.16666667]\n",
      " [0.         0.33333333]]\n",
      "The inverse of A is equal to\n",
      "[[ 0.38461538 -0.30769231]\n",
      " [ 0.15384615  0.07692308]]\n"
     ]
    }
   ],
   "source": [
    "# Finding the inverse of A and B\n",
    "inv_A = np.linalg.inv(A)\n",
    "inv_B = np.linalg.inv(B)\n",
    "\n",
    "print(f\"The inverse of A is equal to\\n{inv_A}\")\n",
    "print(f\"The inverse of A is equal to\\n{inv_B}\")"
   ]
  }
 ],
 "metadata": {
  "kernelspec": {
   "display_name": "my_venv",
   "language": "python",
   "name": "python3"
  },
  "language_info": {
   "codemirror_mode": {
    "name": "ipython",
    "version": 3
   },
   "file_extension": ".py",
   "mimetype": "text/x-python",
   "name": "python",
   "nbconvert_exporter": "python",
   "pygments_lexer": "ipython3",
   "version": "3.13.7"
  }
 },
 "nbformat": 4,
 "nbformat_minor": 5
}
