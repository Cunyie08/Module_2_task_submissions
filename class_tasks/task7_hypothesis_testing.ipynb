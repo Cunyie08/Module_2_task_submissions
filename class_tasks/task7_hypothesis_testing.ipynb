{
 "cells": [
  {
   "cell_type": "markdown",
   "id": "449fdebc",
   "metadata": {},
   "source": [
    "# **Types of Hypothsis testing**"
   ]
  },
  {
   "cell_type": "markdown",
   "id": "d0b6a541",
   "metadata": {},
   "source": [
    "# Chi-Square Test #\n",
    "\n",
    "Pearson’s chi-square (Χ2) tests, often referred to simply as chi-square tests, are among the most common nonparametric tests. Nonparametric tests are used for data that don’t follow the assumptions of parametric tests, especially the assumption of a normal distribution.\n",
    "\n",
    "If you want to test a hypothesis about the distribution of a categorical variable you’ll need to use a chi-square test or another nonparametric test. Categorical variables can be nominal or ordinal and represent groupings such as species or nationalities. Because they can only have a few specific values, they can’t have a normal distribution.\n",
    "\n",
    "**The chi-square formula**\n",
    "Both of Pearson’s chi-square tests use the same formula to calculate the test statistic, chi-square (Χ2):\n",
    "\n",
    "  \\begin{equation*} X^2=\\sum{\\frac{(O-E)^2}{E}} \\end{equation*}\n",
    "\n",
    "Where:\n",
    "\n",
    "Χ2 is the chi-square test statistic\n",
    "\n",
    "Σ is the summation operator (it means “take the sum of”)\n",
    "\n",
    "O is the observed frequency\n",
    "\n",
    "E is the expected frequency\n",
    "\n",
    "The larger the difference between the observations and the expectations (O − E in the equation), the bigger the chi-square will be. To decide whether the difference is big enough to be statistically significant, you compare the chi-square value to a critical value.\n",
    "\n",
    "A Pearson’s chi-square test can be used for your data if all of the following are true:\n",
    "\n",
    "- You want to test a hypothesis about one or more categorical variables. If one or more of your variables is quantitative, you should use a different statistical test. Alternatively, you could convert the quantitative variable into a categorical variable by separating the observations into intervals.\n",
    "- The sample was randomly selected from the population.\n",
    "- There are a minimum of five observations expected in each group or combination of groups.\n",
    "\n",
    "\n",
    "`Types of chi-square tests`\n",
    "\n",
    "The two types of Pearson’s chi-square tests are:\n",
    "\n",
    "- Chi-square goodness of fit test\n",
    "- Chi-square test of independence\n",
    "\n",
    "Mathematically, these are actually the same test used for different purposes.\n",
    "\n",
    "`Chi-square goodness of fit test`\n",
    "\n",
    "You can use a chi-square goodness of fit test when you have one categorical variable. It allows you to test whether the frequency distribution of the categorical variable is significantly different from your expectations. Often, but not always, the expectation is that the categories will have equal proportions.\n",
    "\n",
    "`Expectation of equal proportions`\n",
    "\n",
    "- Null hypothesis (H0): The bird species visit the bird feeder in equal proportions.\n",
    "\n",
    "- Alternative hypothesis (HA): The bird species visit the bird feeder in different proportions.\n",
    "\n",
    "`Expectation of different proportions`\n",
    "\n",
    "- Null hypothesis (H0): The bird species visit the bird feeder in the same proportions as the average over the past five years.\n",
    "\n",
    "- Alternative hypothesis (HA): The bird species visit the bird feeder in different proportions from the average over the past five years.\n",
    "\n",
    "`Chi-square test of independence`\n",
    "\n",
    "You can use a chi-square test of independence when you have two categorical variables. It allows you to test whether the two variables are related to each other. If two variables are independent (unrelated), the probability of belonging to a certain group of one variable isn’t affected by the other variable.\n",
    "\n",
    "`Example: Chi-square test of independence`\n",
    "\n",
    "Null hypothesis (H0): The proportion of people who are left-handed is the same for Americans and Canadians.\n",
    "\n",
    "Alternative hypothesis (HA): The proportion of people who are left-handed differs between nationalities."
   ]
  },
  {
   "cell_type": "markdown",
   "id": "24fe115b",
   "metadata": {},
   "source": [
    "#"
   ]
  }
 ],
 "metadata": {
  "language_info": {
   "name": "python"
  }
 },
 "nbformat": 4,
 "nbformat_minor": 5
}
