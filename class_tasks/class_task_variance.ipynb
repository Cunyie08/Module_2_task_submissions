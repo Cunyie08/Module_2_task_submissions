{
 "cells": [
  {
   "cell_type": "markdown",
   "id": "5eab4409",
   "metadata": {},
   "source": [
    "# **Variance** #"
   ]
  },
  {
   "cell_type": "markdown",
   "id": "c7fbd68e",
   "metadata": {},
   "source": [
    "**Calculate the variance of the data points given these numbers below:**\n",
    "\n",
    "Numbers = ([4, 8, 6, 5, 3])\n",
    "\n",
    "- Variance: (σ²) = Σ(xᵢ - μ)² / n`\n",
    "            \n",
    "            xᵢ = values\n",
    "            μ = Mean of values\n",
    "            n = number of values\n",
    "\n",
    "    Mean (μ) = 4 + 8 + 6 + 5 + 3 / 5\n",
    "             = 5.2\n",
    "    \n",
    "    Σ(xᵢ - μ)²  = (4 - 5.2)² + (8 - 5.2)² + (6 - 5.2)² + (5 - 5.2)² + (3 - 5.2)²\n",
    "                = 14.8 \n",
    "    \n",
    "    (σ²)    = 14.8 / 5\n",
    "            = 2.96"
   ]
  }
 ],
 "metadata": {
  "language_info": {
   "name": "python"
  }
 },
 "nbformat": 4,
 "nbformat_minor": 5
}
