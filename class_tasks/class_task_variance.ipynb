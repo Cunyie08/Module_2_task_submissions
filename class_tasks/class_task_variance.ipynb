{
 "cells": [
  {
   "cell_type": "markdown",
   "id": "5eab4409",
   "metadata": {},
   "source": [
    "# **Variance** #"
   ]
  },
  {
   "cell_type": "markdown",
   "id": "c7fbd68e",
   "metadata": {},
   "source": [
    "**Calculate the variance of the data points given these numbers below:**\n",
    "\n",
    "Numbers = ([4, 8, 6, 5, 3])\n",
    "\n",
    "- Variance: (σ²) = Σ(xᵢ - μ)² / n`\n",
    "            \n",
    "            xᵢ = values\n",
    "            μ = Mean of values\n",
    "            n = number of values\n",
    "\n",
    "    Mean (μ) = 4 + 8 + 6 + 5 + 3 / 5\n",
    "             = 5.2\n",
    "    \n",
    "    Σ(xᵢ - μ)²  = (4 - 5.2)² + (8 - 5.2)² + (6 - 5.2)² + (5 - 5.2)² + (3 - 5.2)²\n",
    "                = 14.8 \n",
    "    \n",
    "    (σ²)    = 14.8 / 5\n",
    "            = 2.96"
   ]
  },
  {
   "cell_type": "markdown",
   "id": "112fd94c",
   "metadata": {},
   "source": [
    "Task1– Mean, Median & Mode\n",
    "1: Class Test Scores\n",
    "The following are the Mathematics test scores (out of 20) for a class of 15 students:\n",
    " 5, 8, 10, 12, 12, 12, 13, 14, 14, 15, 16, 18, 18, 20, 20\n",
    "Find the mean, median, and mode of the scores.\n",
    "\n",
    "\n",
    "If the lowest score (5) was wrongly recorded and should have been 10, how would the mean change? Would the median or mode change? Explain.\n",
    "\n",
    "\n",
    "2: Daily Commute Times\n",
    "A group of 9 students reported the time (in minutes) it takes them to get to school each day:\n",
    " 15, 20, 20, 25, 25, 30, 60, 65, 120\n",
    "Find the mean, median, and mode of the data.\n",
    "\n",
    "\n",
    "Which measure (mean, median, or mode) do you think best represents the “typical” time it takes students to get to school? Why?\n",
    " (Hint: Think about the effect of the student who takes 120 minutes.)\n",
    "\n",
    "\n",
    "3: Shoe Sizes\n",
    "The shoe sizes of students in a class are:\n",
    " 38, 39, 38, 40, 41, 42, 39, 39, 40, 38, 37, 39, 40, 41, 42\n",
    "Find the mode of the data.\n",
    "\n",
    "\n",
    "If a shoe company wants to donate free shoes, which size should they produce most of? Why?\n",
    "\n",
    "\n",
    "What if they only want to produce one size that would fit the \"average\" student? Should they use mean, median, or mode? Defend your answer.\n"
   ]
  }
 ],
 "metadata": {
  "language_info": {
   "name": "python"
  }
 },
 "nbformat": 4,
 "nbformat_minor": 5
}
