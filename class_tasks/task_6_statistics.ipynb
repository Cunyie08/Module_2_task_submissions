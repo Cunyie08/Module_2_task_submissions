{
 "cells": [
  {
   "cell_type": "markdown",
   "id": "fa220e57",
   "metadata": {},
   "source": [
    "# **Class Task 6** # "
   ]
  },
  {
   "cell_type": "markdown",
   "id": "02c1c050",
   "metadata": {},
   "source": [
    "# **Question 1: Class Test Scores** # \n",
    "\n",
    "The following are the Mathematics test scores (out of 20) for a class of 15 students:\n",
    "\n",
    "5, 8, 10, 12, 12, 12, 13, 14, 14, 15, 16, 18, 18, 20, 20\n",
    "\n",
    "- Find the mean, median, and mode of the scores.\n",
    "- If the lowest score (5) was wrongly recorded and should have been 10, how would the mean change? \n",
    "- Also, Would the median or mode change? Explain.\n"
   ]
  },
  {
   "cell_type": "markdown",
   "id": "80719aa3",
   "metadata": {},
   "source": [
    "**1A. Solution**\n",
    "\n",
    "- Finding the Mean:\n",
    "\n",
    "        Mean (μ) = (sum of scores) / (number of scores)\n",
    "\n",
    "                 =  (5 + 8 + 10 + 12 + 12 + 12 + 13 + 14 + 14 + 15 + 16 + 18 + 18 + 20 + 20) / 15\n",
    "\n",
    "                 = 207 / 15\n",
    "                 \n",
    "                 = 13.8\n",
    "        The mean of scores is 13.8"
   ]
  },
  {
   "cell_type": "markdown",
   "id": "70f0b754",
   "metadata": {},
   "source": [
    "- Finding the Median:\n",
    "\n",
    "        Step 1: arrange the numbers in ascending order\n",
    "\n",
    "                (5, 8, 10, 12, 12, 12, 13, 14, 14, 15, 16, 18, 18, 20, 20)\n",
    "\n",
    "        Step 2: Find the value in the middle\n",
    "\n",
    "                i.e. 14\n",
    "        \n",
    "        Median = 14\n",
    "\n",
    "        The Median of the scores is 14\n"
   ]
  },
  {
   "cell_type": "markdown",
   "id": "76a5a89b",
   "metadata": {},
   "source": [
    "- Finding the Mode:\n",
    "        Check for values that appear frequently: \n",
    "\n",
    "                (5, 8, 10, 12, 12, 12, 13, 14, 14, 15, 16, 18, 18, 20, 20)\n",
    "\n",
    "        Number of times each value appeared (respectively):\n",
    "        \n",
    "                (1, 1, 1, 3, 1, 2, 1, 1, 2, 2)\n",
    "                \n",
    "        Mode : 12 (It appeared most frequently in the data set)\n",
    "\n",
    "        The mode of the scores is 12 (unimodal)"
   ]
  },
  {
   "cell_type": "markdown",
   "id": "93bf8425",
   "metadata": {},
   "source": [
    "**1B. If the lowest score (5) was wrongly recorded and should have been 10, how would the mean change?**\n",
    "\n",
    "The new value of x1 = 10\n",
    "\n",
    "old_scores = (5, 8, 10, 12, 12, 12, 13, 14, 14, 15, 16, 18, 18, 20, 20)\n",
    "\n",
    "new_scores = (10, 8, 10, 12, 12, 12, 13, 14, 14, 15, 16, 18, 18, 20, 20)\n",
    "\n",
    "- New_Mean (μ) = (sum of scores) / (number of scores)\n",
    "\n",
    "                 =  (10 + 8 + 10 + 12 + 12 + 12 + 13 + 14 + 14 + 15 + 16 + 18 + 18 + 20 + 20) / 15\n",
    "\n",
    "                 = 212 / 15\n",
    "\n",
    "                 = 14.13\n",
    "\n",
    "    The new mean for the test scores is 14.13. Changing the value of the lowest score changes the value of the mean as it is sentive to extreme values (low or high)\n",
    "\n",
    "- New_median \n",
    "\n",
    "        Step 1: Change the first value to 10 and arrange the numbers in ascending order\n",
    "\n",
    "           order -  (10, 8, 10, 12, 12, 12, 13, 14, 14, 15, 16, 18, 18, 20, 20)\n",
    "\n",
    "           new_order -  (8, 10, 10, 12, 12, 12, 13, 14, 14, 15, 16, 18, 18, 20, 20)\n",
    "\n",
    "\n",
    "        Step 2: Find the value in the middle\n",
    "\n",
    "                i.e. 14\n",
    "        \n",
    "        Median = 14\n",
    "\n",
    "     The middle number of the dataset after changing a value and re-arranging the order didn't change as the total number of values in the dataset remains 15. Median of the new scores is still 14. Median is not sensitive to extreme values.\n",
    "\n",
    "\n",
    "- New_mode:\n",
    "        Check for values that appear frequently: \n",
    "\n",
    "        new_scores : (8, 10, 10, 12, 12, 12, 13, 14, 14, 15, 16, 18, 18, 20, 20)\n",
    "\n",
    "        Number of times each value appeared (respectively): (1, 2, 3, 1, 2, 1, 1, 2, 2)\n",
    "                \n",
    "        Mode : 12 (It appeared most frequently in the dataset)\n",
    "\n",
    "        The mode of the new scores doesn't change, it is unimodal, as 12 remains the highest number of the most frequent value in the dataset. Mode is not sensitive to extreme values.\n"
   ]
  },
  {
   "cell_type": "markdown",
   "id": "807cabfd",
   "metadata": {},
   "source": [
    "# **Question 2: Daily Commute Times** #\n",
    "\n",
    "A group of 9 students reported the time (in minutes) it takes them to get to school each day:\n",
    "\n",
    " 15, 20, 20, 25, 25, 30, 60, 65, 120\n",
    " \n",
    "- Find the mean, median, and mode of the data.\n",
    "- Which measure (mean, median, or mode) do you think best represents the “typical” time it takes students to get to school? Why?\n",
    "(Hint: Think about the effect of the student who takes 120 minutes.)"
   ]
  },
  {
   "cell_type": "markdown",
   "id": "2046b6a3",
   "metadata": {},
   "source": [
    "**2A. Solution**\n",
    "\n",
    "- Finding the Mean:\n",
    "\n",
    "minutes : 15, 20, 20, 25, 25, 30, 60, 65, 120\n",
    "no of students : 9\n",
    "\n",
    "        Mean (μ) = (sum of minutes) / (number of students)\n",
    "\n",
    "                 =  (15 + 20 + 20 + 25 + 25 + 30 + 60 + 65 + 120 ) / 9\n",
    "\n",
    "                 = 380 / 9\n",
    "                 = 42.22\n",
    "        The mean is 42.22"
   ]
  },
  {
   "cell_type": "markdown",
   "id": "0df1693f",
   "metadata": {},
   "source": [
    "- Finding the Median:\n",
    "\n",
    "minutes : 15, 20, 20, 25, 25, 30, 60, 65, 120\n",
    "\n",
    "        Step 1: arrange the numbers in ascending order\n",
    "\n",
    "                (15, 20, 20, 25, 25, 30, 60, 65, 120)\n",
    "\n",
    "        Step 2: Find the value in the middle\n",
    "\n",
    "                i.e. 25\n",
    "        \n",
    "        Median = 25\n",
    "\n",
    "        The Median is 25"
   ]
  },
  {
   "cell_type": "markdown",
   "id": "b29db18c",
   "metadata": {},
   "source": [
    "- Finding the Mode:\n",
    "\n",
    "        Check for values that appear frequently: \n",
    "\n",
    "        minutes : 15, 20, 20, 25, 25, 30, 60, 65, 120\n",
    "\n",
    "        Number of times each value appeared (respectively):\n",
    "        \n",
    "                (1, 2, 2, 1, 1, 1, 1)\n",
    "                \n",
    "        Mode : 20 and 25 (Bi-modal - two modes that appear frequently in the dataset)\n"
   ]
  },
  {
   "cell_type": "markdown",
   "id": "73a4b7fa",
   "metadata": {},
   "source": [
    "**2B. Solution**\n",
    "- Which measure (mean, median, or mode) do you think best represents the “typical” time it takes students to get to school? Why?\n",
    "(Hint: Think about the effect of the student who takes 120 minutes.)\n",
    "\n",
    "Response: The median best represents the the typical time it takes a student to get to school as 50% of the data is less than or equal to the median"
   ]
  },
  {
   "cell_type": "markdown",
   "id": "1016f234",
   "metadata": {},
   "source": [
    "# **Question 3: Shoe Sizes** # \n",
    "The shoe sizes of students in a class are:\n",
    "\n",
    " 38, 39, 38, 40, 41, 42, 39, 39, 40, 38, 37, 39, 40, 41, 42\n",
    "\n",
    "- Find the mode of the data.\n",
    "- If a shoe company wants to donate free shoes, which size should they produce most of? Why?\n",
    "- What if they only want to produce one size that would fit the \"average\" student? Should they use mean, median, or mode? Defend your answer."
   ]
  },
  {
   "cell_type": "markdown",
   "id": "6c27d680",
   "metadata": {},
   "source": [
    "**3A. Solution**\n",
    "- Finding the Mode:\n",
    "\n",
    "        Check for values that appear frequently: \n",
    "\n",
    "        student_sizes :  38, 39, 38, 40, 41, 42, 39, 39, 40, 38, 37, 39, 40, 41, 4\n",
    "        \n",
    "        Arrange the values in ascending order: \n",
    "\n",
    "        Student_sizes_order:  37, 38, 38, 38, 39, 39, 39, 39, 40, 40, 40, 41, 41, 42, 42\n",
    "\n",
    "        Number of times each size appeared (respectively):\n",
    "        \n",
    "                (1, 3, 4, 3, 2, 2)\n",
    "                \n",
    "        Mode : size 39  (uni-modal, size 39 is the most frequent value in the dataset)"
   ]
  },
  {
   "cell_type": "markdown",
   "id": "b79e5398",
   "metadata": {},
   "source": [
    "**3B. Solution**\n",
    "- If a shoe company wants to donate free shoes, which size should they produce most of? Why?\n",
    "\n",
    "```\n",
    "    Size 39 should be produced most for the students.\n",
    "    \n",
    "    If a shoe company wants to donate free shoes to the class, they should produce more of size 39 as it is the most frequently worn size by the students in the class.\n",
    "```"
   ]
  },
  {
   "cell_type": "markdown",
   "id": "ca6c7cb1",
   "metadata": {},
   "source": [
    "**3C. Solution**\n",
    "- What if they only want to produce one size that would fit the \"average\" student? Should they use mean, median, or mode? Defend your answer.\n",
    "\n",
    "- Finding the Mean:\n",
    "\n",
    "shoe_sizes : 37, 38, 38, 38, 39, 39, 39, 39, 40, 40, 40, 41, 41, 42, 42\n",
    "no of students : 15\n",
    "\n",
    "        Mean (μ) = (sum of shoe sizes) / (number of students)\n",
    "\n",
    "                 = (37 + 38 + 38 + 38 + 39 + 39 + 39 + 39 + 40 + 40 + 40 + 41 + 41 + 42 + 42) / 15\n",
    "\n",
    "                 = 593 / 15\n",
    "                 \n",
    "                 = 39.53\n",
    "\n",
    "\n",
    "- Finding the Median:\n",
    "\n",
    "student_sizes :  38, 39, 38, 40, 41, 42, 39, 39, 40, 38, 37, 39, 40, 41, 4\n",
    "        \n",
    "        Step 1: Arrange the values in ascending order: \n",
    "\n",
    "        Student_sizes_order:  37, 38, 38, 38, 39, 39, 39, 39, 40, 40, 40, 41, 41, 42, 42\n",
    "\n",
    "\n",
    "        Step 2: Find the value in the middle\n",
    "\n",
    "                Median: 39\n",
    "        \n",
    "\n",
    "\n",
    "```\n",
    "Summary: \n",
    "The mean is the most suitable measure of center for the shoe size to be produced.\n",
    "An average student wears size 39.5. size 37 and 42 are the outliers and can't represent the size to be produced. The size 39.5 can be worn by students that wear 39 and 40 which accounts for 7 out of 15 students. \n",
    "Although the mode shows 39 as the most frequently worn size, this only accounts for students wearing 39 (4 out of 15). \n",
    "The median doesn't represent the most frequent size that would fit an average student.\n",
    "```"
   ]
  }
 ],
 "metadata": {
  "language_info": {
   "name": "python"
  }
 },
 "nbformat": 4,
 "nbformat_minor": 5
}
