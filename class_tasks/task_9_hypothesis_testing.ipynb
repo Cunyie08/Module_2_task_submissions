{
 "cells": [
  {
   "cell_type": "markdown",
   "id": "23977623",
   "metadata": {},
   "source": [
    "## Class Task 9 - Hypothesis Testing\n"
   ]
  },
  {
   "cell_type": "code",
   "execution_count": null,
   "id": "135e6bdb",
   "metadata": {},
   "outputs": [
    {
     "name": "stdout",
     "output_type": "stream",
     "text": [
      "Requirement already satisfied: gdown in c:\\users\\ncc84\\desktop\\module2_tasks\\module_2_task_submissions\\venv\\lib\\site-packages (5.2.0)\n",
      "Requirement already satisfied: beautifulsoup4 in c:\\users\\ncc84\\desktop\\module2_tasks\\module_2_task_submissions\\venv\\lib\\site-packages (from gdown) (4.14.0)\n",
      "Requirement already satisfied: filelock in c:\\users\\ncc84\\desktop\\module2_tasks\\module_2_task_submissions\\venv\\lib\\site-packages (from gdown) (3.19.1)\n",
      "Requirement already satisfied: requests[socks] in c:\\users\\ncc84\\desktop\\module2_tasks\\module_2_task_submissions\\venv\\lib\\site-packages (from gdown) (2.32.5)\n",
      "Requirement already satisfied: tqdm in c:\\users\\ncc84\\desktop\\module2_tasks\\module_2_task_submissions\\venv\\lib\\site-packages (from gdown) (4.67.1)\n",
      "Requirement already satisfied: soupsieve>1.2 in c:\\users\\ncc84\\desktop\\module2_tasks\\module_2_task_submissions\\venv\\lib\\site-packages (from beautifulsoup4->gdown) (2.8)\n",
      "Requirement already satisfied: typing-extensions>=4.0.0 in c:\\users\\ncc84\\desktop\\module2_tasks\\module_2_task_submissions\\venv\\lib\\site-packages (from beautifulsoup4->gdown) (4.15.0)\n",
      "Requirement already satisfied: charset_normalizer<4,>=2 in c:\\users\\ncc84\\desktop\\module2_tasks\\module_2_task_submissions\\venv\\lib\\site-packages (from requests[socks]->gdown) (3.4.3)\n",
      "Requirement already satisfied: idna<4,>=2.5 in c:\\users\\ncc84\\desktop\\module2_tasks\\module_2_task_submissions\\venv\\lib\\site-packages (from requests[socks]->gdown) (3.10)\n",
      "Requirement already satisfied: urllib3<3,>=1.21.1 in c:\\users\\ncc84\\desktop\\module2_tasks\\module_2_task_submissions\\venv\\lib\\site-packages (from requests[socks]->gdown) (2.5.0)\n",
      "Requirement already satisfied: certifi>=2017.4.17 in c:\\users\\ncc84\\desktop\\module2_tasks\\module_2_task_submissions\\venv\\lib\\site-packages (from requests[socks]->gdown) (2025.8.3)\n",
      "Requirement already satisfied: PySocks!=1.5.7,>=1.5.6 in c:\\users\\ncc84\\desktop\\module2_tasks\\module_2_task_submissions\\venv\\lib\\site-packages (from requests[socks]->gdown) (1.7.1)\n",
      "Requirement already satisfied: colorama in c:\\users\\ncc84\\desktop\\module2_tasks\\module_2_task_submissions\\venv\\lib\\site-packages (from tqdm->gdown) (0.4.6)\n",
      "Note: you may need to restart the kernel to use updated packages.\n"
     ]
    }
   ],
   "source": [
    "# Download libraries\n",
    "%pip install gdown\n",
    "\n"
   ]
  },
  {
   "cell_type": "code",
   "execution_count": 25,
   "id": "032e4588",
   "metadata": {},
   "outputs": [],
   "source": [
    "# Import libraries\n",
    "import gdown\n",
    "import pandas as pd\n",
    "import numpy as np\n",
    "from scipy import stats"
   ]
  },
  {
   "cell_type": "code",
   "execution_count": 4,
   "id": "75cd86b9",
   "metadata": {},
   "outputs": [
    {
     "name": "stderr",
     "output_type": "stream",
     "text": [
      "Downloading...\n",
      "From: https://drive.google.com/uc?id=1yB5qSBOLl96Y563nIewKOU8RN_gsY3dO\n",
      "To: c:\\Users\\ncc84\\Desktop\\module2_tasks\\Module_2_task_submissions\\class_tasks\\data.csv\n",
      "100%|██████████| 52.0k/52.0k [00:00<00:00, 54.8MB/s]\n"
     ]
    },
    {
     "data": {
      "text/plain": [
       "'data.csv'"
      ]
     },
     "execution_count": 4,
     "metadata": {},
     "output_type": "execute_result"
    }
   ],
   "source": [
    "# Download the data from google drive\n",
    "file_id = '1yB5qSBOLl96Y563nIewKOU8RN_gsY3dO'  # Make sure it's a string\n",
    "gdown.download(f'https://drive.google.com/uc?id={file_id}', 'data.csv', quiet=False)"
   ]
  },
  {
   "cell_type": "code",
   "execution_count": 9,
   "id": "d9eb7383",
   "metadata": {},
   "outputs": [
    {
     "data": {
      "text/html": [
       "<div>\n",
       "<style scoped>\n",
       "    .dataframe tbody tr th:only-of-type {\n",
       "        vertical-align: middle;\n",
       "    }\n",
       "\n",
       "    .dataframe tbody tr th {\n",
       "        vertical-align: top;\n",
       "    }\n",
       "\n",
       "    .dataframe thead th {\n",
       "        text-align: right;\n",
       "    }\n",
       "</style>\n",
       "<table border=\"1\" class=\"dataframe\">\n",
       "  <thead>\n",
       "    <tr style=\"text-align: right;\">\n",
       "      <th></th>\n",
       "      <th>Unnamed: 0</th>\n",
       "      <th>country</th>\n",
       "      <th>food_category</th>\n",
       "      <th>consumption</th>\n",
       "      <th>co2_emission</th>\n",
       "    </tr>\n",
       "  </thead>\n",
       "  <tbody>\n",
       "    <tr>\n",
       "      <th>0</th>\n",
       "      <td>1</td>\n",
       "      <td>Argentina</td>\n",
       "      <td>pork</td>\n",
       "      <td>10.51</td>\n",
       "      <td>37.20</td>\n",
       "    </tr>\n",
       "    <tr>\n",
       "      <th>1</th>\n",
       "      <td>2</td>\n",
       "      <td>Argentina</td>\n",
       "      <td>poultry</td>\n",
       "      <td>38.66</td>\n",
       "      <td>41.53</td>\n",
       "    </tr>\n",
       "    <tr>\n",
       "      <th>2</th>\n",
       "      <td>3</td>\n",
       "      <td>Argentina</td>\n",
       "      <td>beef</td>\n",
       "      <td>55.48</td>\n",
       "      <td>1712.00</td>\n",
       "    </tr>\n",
       "    <tr>\n",
       "      <th>3</th>\n",
       "      <td>4</td>\n",
       "      <td>Argentina</td>\n",
       "      <td>lamb_goat</td>\n",
       "      <td>1.56</td>\n",
       "      <td>54.63</td>\n",
       "    </tr>\n",
       "    <tr>\n",
       "      <th>4</th>\n",
       "      <td>5</td>\n",
       "      <td>Argentina</td>\n",
       "      <td>fish</td>\n",
       "      <td>4.36</td>\n",
       "      <td>6.96</td>\n",
       "    </tr>\n",
       "  </tbody>\n",
       "</table>\n",
       "</div>"
      ],
      "text/plain": [
       "   Unnamed: 0    country food_category  consumption  co2_emission\n",
       "0           1  Argentina          pork        10.51         37.20\n",
       "1           2  Argentina       poultry        38.66         41.53\n",
       "2           3  Argentina          beef        55.48       1712.00\n",
       "3           4  Argentina     lamb_goat         1.56         54.63\n",
       "4           5  Argentina          fish         4.36          6.96"
      ]
     },
     "execution_count": 9,
     "metadata": {},
     "output_type": "execute_result"
    }
   ],
   "source": [
    "# Read the dataset to csv\n",
    "df = pd.read_csv('data.csv')\n",
    "df.head()"
   ]
  },
  {
   "cell_type": "code",
   "execution_count": 11,
   "id": "c8f30e8f",
   "metadata": {},
   "outputs": [
    {
     "data": {
      "text/html": [
       "<div>\n",
       "<style scoped>\n",
       "    .dataframe tbody tr th:only-of-type {\n",
       "        vertical-align: middle;\n",
       "    }\n",
       "\n",
       "    .dataframe tbody tr th {\n",
       "        vertical-align: top;\n",
       "    }\n",
       "\n",
       "    .dataframe thead th {\n",
       "        text-align: right;\n",
       "    }\n",
       "</style>\n",
       "<table border=\"1\" class=\"dataframe\">\n",
       "  <thead>\n",
       "    <tr style=\"text-align: right;\">\n",
       "      <th></th>\n",
       "      <th>country</th>\n",
       "      <th>food_category</th>\n",
       "      <th>consumption</th>\n",
       "      <th>co2_emission</th>\n",
       "    </tr>\n",
       "  </thead>\n",
       "  <tbody>\n",
       "    <tr>\n",
       "      <th>0</th>\n",
       "      <td>Argentina</td>\n",
       "      <td>pork</td>\n",
       "      <td>10.51</td>\n",
       "      <td>37.20</td>\n",
       "    </tr>\n",
       "    <tr>\n",
       "      <th>1</th>\n",
       "      <td>Argentina</td>\n",
       "      <td>poultry</td>\n",
       "      <td>38.66</td>\n",
       "      <td>41.53</td>\n",
       "    </tr>\n",
       "    <tr>\n",
       "      <th>2</th>\n",
       "      <td>Argentina</td>\n",
       "      <td>beef</td>\n",
       "      <td>55.48</td>\n",
       "      <td>1712.00</td>\n",
       "    </tr>\n",
       "    <tr>\n",
       "      <th>3</th>\n",
       "      <td>Argentina</td>\n",
       "      <td>lamb_goat</td>\n",
       "      <td>1.56</td>\n",
       "      <td>54.63</td>\n",
       "    </tr>\n",
       "    <tr>\n",
       "      <th>4</th>\n",
       "      <td>Argentina</td>\n",
       "      <td>fish</td>\n",
       "      <td>4.36</td>\n",
       "      <td>6.96</td>\n",
       "    </tr>\n",
       "    <tr>\n",
       "      <th>...</th>\n",
       "      <td>...</td>\n",
       "      <td>...</td>\n",
       "      <td>...</td>\n",
       "      <td>...</td>\n",
       "    </tr>\n",
       "    <tr>\n",
       "      <th>1425</th>\n",
       "      <td>Bangladesh</td>\n",
       "      <td>dairy</td>\n",
       "      <td>21.91</td>\n",
       "      <td>31.21</td>\n",
       "    </tr>\n",
       "    <tr>\n",
       "      <th>1426</th>\n",
       "      <td>Bangladesh</td>\n",
       "      <td>wheat</td>\n",
       "      <td>17.47</td>\n",
       "      <td>3.33</td>\n",
       "    </tr>\n",
       "    <tr>\n",
       "      <th>1427</th>\n",
       "      <td>Bangladesh</td>\n",
       "      <td>rice</td>\n",
       "      <td>171.73</td>\n",
       "      <td>219.76</td>\n",
       "    </tr>\n",
       "    <tr>\n",
       "      <th>1428</th>\n",
       "      <td>Bangladesh</td>\n",
       "      <td>soybeans</td>\n",
       "      <td>0.61</td>\n",
       "      <td>0.27</td>\n",
       "    </tr>\n",
       "    <tr>\n",
       "      <th>1429</th>\n",
       "      <td>Bangladesh</td>\n",
       "      <td>nuts</td>\n",
       "      <td>0.72</td>\n",
       "      <td>1.27</td>\n",
       "    </tr>\n",
       "  </tbody>\n",
       "</table>\n",
       "<p>1430 rows × 4 columns</p>\n",
       "</div>"
      ],
      "text/plain": [
       "         country food_category  consumption  co2_emission\n",
       "0      Argentina          pork        10.51         37.20\n",
       "1      Argentina       poultry        38.66         41.53\n",
       "2      Argentina          beef        55.48       1712.00\n",
       "3      Argentina     lamb_goat         1.56         54.63\n",
       "4      Argentina          fish         4.36          6.96\n",
       "...          ...           ...          ...           ...\n",
       "1425  Bangladesh         dairy        21.91         31.21\n",
       "1426  Bangladesh         wheat        17.47          3.33\n",
       "1427  Bangladesh          rice       171.73        219.76\n",
       "1428  Bangladesh      soybeans         0.61          0.27\n",
       "1429  Bangladesh          nuts         0.72          1.27\n",
       "\n",
       "[1430 rows x 4 columns]"
      ]
     },
     "execution_count": 11,
     "metadata": {},
     "output_type": "execute_result"
    }
   ],
   "source": [
    "# Checking for missing values\n",
    "df.drop('Unnamed: 0', axis=1, inplace=True)\n",
    "df"
   ]
  },
  {
   "cell_type": "markdown",
   "id": "bd287219",
   "metadata": {},
   "source": [
    "## Two-Sample t-Test\n",
    "\n",
    "\n"
   ]
  },
  {
   "cell_type": "markdown",
   "id": "29906b4e",
   "metadata": {},
   "source": [
    "**Question : Is the beef consumption in Argentina significantly different from that in Bangladesh?**\n",
    "\n",
    "\n",
    "\n",
    "H₀: Mean beef consumption (Argentina) = Mean beef consumption (Bangladesh)\n",
    "\n",
    "H₁: Mean beef consumption (Argentina) ≠ Mean beef consumption (Bangladesh)"
   ]
  },
  {
   "cell_type": "code",
   "execution_count": 15,
   "id": "c29772af",
   "metadata": {},
   "outputs": [
    {
     "data": {
      "text/html": [
       "<div>\n",
       "<style scoped>\n",
       "    .dataframe tbody tr th:only-of-type {\n",
       "        vertical-align: middle;\n",
       "    }\n",
       "\n",
       "    .dataframe tbody tr th {\n",
       "        vertical-align: top;\n",
       "    }\n",
       "\n",
       "    .dataframe thead th {\n",
       "        text-align: right;\n",
       "    }\n",
       "</style>\n",
       "<table border=\"1\" class=\"dataframe\">\n",
       "  <thead>\n",
       "    <tr style=\"text-align: right;\">\n",
       "      <th></th>\n",
       "      <th>country</th>\n",
       "      <th>food_category</th>\n",
       "      <th>consumption</th>\n",
       "      <th>co2_emission</th>\n",
       "    </tr>\n",
       "  </thead>\n",
       "  <tbody>\n",
       "    <tr>\n",
       "      <th>2</th>\n",
       "      <td>Argentina</td>\n",
       "      <td>beef</td>\n",
       "      <td>55.48</td>\n",
       "      <td>1712.0</td>\n",
       "    </tr>\n",
       "  </tbody>\n",
       "</table>\n",
       "</div>"
      ],
      "text/plain": [
       "     country food_category  consumption  co2_emission\n",
       "2  Argentina          beef        55.48        1712.0"
      ]
     },
     "execution_count": 15,
     "metadata": {},
     "output_type": "execute_result"
    }
   ],
   "source": [
    "# Select Argentina beef consumption\n",
    "arg_beef = df[(df['country'] == 'Argentina') & (df['food_category']== 'beef')]\n",
    "arg_beef"
   ]
  },
  {
   "cell_type": "code",
   "execution_count": null,
   "id": "7facb1c3",
   "metadata": {},
   "outputs": [
    {
     "data": {
      "text/html": [
       "<div>\n",
       "<style scoped>\n",
       "    .dataframe tbody tr th:only-of-type {\n",
       "        vertical-align: middle;\n",
       "    }\n",
       "\n",
       "    .dataframe tbody tr th {\n",
       "        vertical-align: top;\n",
       "    }\n",
       "\n",
       "    .dataframe thead th {\n",
       "        text-align: right;\n",
       "    }\n",
       "</style>\n",
       "<table border=\"1\" class=\"dataframe\">\n",
       "  <thead>\n",
       "    <tr style=\"text-align: right;\">\n",
       "      <th></th>\n",
       "      <th>country</th>\n",
       "      <th>food_category</th>\n",
       "      <th>consumption</th>\n",
       "      <th>co2_emission</th>\n",
       "    </tr>\n",
       "  </thead>\n",
       "  <tbody>\n",
       "    <tr>\n",
       "      <th>1421</th>\n",
       "      <td>Bangladesh</td>\n",
       "      <td>beef</td>\n",
       "      <td>1.28</td>\n",
       "      <td>39.5</td>\n",
       "    </tr>\n",
       "  </tbody>\n",
       "</table>\n",
       "</div>"
      ],
      "text/plain": [
       "         country food_category  consumption  co2_emission\n",
       "1421  Bangladesh          beef         1.28          39.5"
      ]
     },
     "execution_count": 28,
     "metadata": {},
     "output_type": "execute_result"
    }
   ],
   "source": [
    "# Select Bangladesh beef consumption\n",
    "bang_beef = df[(df['country'] == 'Bangladesh') & (df['food_category']== 'beef')]\n",
    "bang_beef"
   ]
  },
  {
   "cell_type": "code",
   "execution_count": 31,
   "id": "668ac4d5",
   "metadata": {},
   "outputs": [
    {
     "data": {
      "text/plain": [
       "2    55.48\n",
       "Name: consumption, dtype: float64"
      ]
     },
     "execution_count": 31,
     "metadata": {},
     "output_type": "execute_result"
    }
   ],
   "source": [
    "# Checking the beef consumption rate in Argentina\n",
    "arg_beef_consump = arg_beef['consumption']\n",
    "arg_beef_consump\n"
   ]
  },
  {
   "cell_type": "code",
   "execution_count": 30,
   "id": "72cff21f",
   "metadata": {},
   "outputs": [
    {
     "data": {
      "text/plain": [
       "1421    1.28\n",
       "Name: consumption, dtype: float64"
      ]
     },
     "execution_count": 30,
     "metadata": {},
     "output_type": "execute_result"
    }
   ],
   "source": [
    "# Checking the beef consumption rate in Bangladesh\n",
    "bang_beef_consump = bang_beef['consumption']\n",
    "bang_beef_consump\n"
   ]
  },
  {
   "cell_type": "code",
   "execution_count": 22,
   "id": "dc27286e",
   "metadata": {},
   "outputs": [
    {
     "name": "stdout",
     "output_type": "stream",
     "text": [
      "The average mean consumption in Argentina is 55.48\n"
     ]
    }
   ],
   "source": [
    "# Calculating the mean of beef consumption in Argentina\n",
    "arg_beef_consump_mean = arg_beef_consump.mean()\n",
    "print(\"The average mean consumption in Argentina is\",arg_beef_consump_mean)"
   ]
  },
  {
   "cell_type": "code",
   "execution_count": 33,
   "id": "9eefd25b",
   "metadata": {},
   "outputs": [
    {
     "name": "stdout",
     "output_type": "stream",
     "text": [
      "The average mean consumption in Bangladesh is 1.28\n"
     ]
    }
   ],
   "source": [
    "# Calculating the mean of beef consumption in Bangladesh\n",
    "bang_beef_consump_mean = bang_beef_consump.mean()\n",
    "print(\"The average mean consumption in Bangladesh is\",bang_beef_consump_mean)"
   ]
  },
  {
   "cell_type": "code",
   "execution_count": 34,
   "id": "c93b8338",
   "metadata": {},
   "outputs": [
    {
     "data": {
      "text/plain": [
       "array([64.16654334, 56.0160187 , 57.7117727 , 46.31713665, 56.42153374,\n",
       "       45.26881381, 50.88779183, 55.18976522, 58.8721982 , 57.31476634,\n",
       "       53.06474031, 54.19592697, 63.15728333, 54.29480633, 48.6330757 ,\n",
       "       62.90730893, 60.0376537 , 57.72112888, 50.3067962 , 58.44859382,\n",
       "       46.96456372, 47.26244284, 54.88344087, 63.50214282, 46.13929339,\n",
       "       60.79529563, 58.09454403, 55.95328934, 51.82197587, 58.70597914])"
      ]
     },
     "execution_count": 34,
     "metadata": {},
     "output_type": "execute_result"
    }
   ],
   "source": [
    "# Using Random Normal to generate random figures \n",
    "arg_beef_samples = np.random.normal(loc=arg_beef_consump_mean, scale=5, size=30)\n",
    "arg_beef_samples"
   ]
  },
  {
   "cell_type": "code",
   "execution_count": 36,
   "id": "3e334f0e",
   "metadata": {},
   "outputs": [
    {
     "data": {
      "text/plain": [
       "array([-3.95143059, -2.27834481,  6.40592607, -1.69830312,  1.6804065 ,\n",
       "       -2.00736808,  7.17342128,  0.52813201,  2.12793009,  0.94729718,\n",
       "       12.13908727,  7.15369904,  9.92348892,  1.31389946,  4.64586739,\n",
       "       -0.51692782,  0.65543756,  3.75693964, -0.98533635,  0.22579355,\n",
       "        3.87331074, -1.33316004,  4.68200879,  2.61617405, 17.7314318 ,\n",
       "        4.32688254, -5.53222397,  3.32211536,  4.96798717, -2.14426818])"
      ]
     },
     "execution_count": 36,
     "metadata": {},
     "output_type": "execute_result"
    }
   ],
   "source": [
    "# Using Random Normal to generate random figures \n",
    "bang_beef_samples = np.random.normal(loc=bang_beef_consump_mean, scale=5, size=30)\n",
    "bang_beef_samples"
   ]
  },
  {
   "cell_type": "code",
   "execution_count": 37,
   "id": "64910660",
   "metadata": {},
   "outputs": [
    {
     "name": "stdout",
     "output_type": "stream",
     "text": [
      "T-statistic: 38.86921155482591\n",
      "P-value: 3.1194903698500305e-43\n"
     ]
    }
   ],
   "source": [
    "# Using two-sample t-test\n",
    "t_stat, p_val = stats.ttest_ind(arg_beef_samples, bang_beef_samples)\n",
    "\n",
    "# Printing T-statistic\n",
    "print(\"T-statistic:\", t_stat)\n",
    "\n",
    "# Printing P-value\n",
    "print(\"P-value:\", p_val)"
   ]
  },
  {
   "cell_type": "markdown",
   "id": "6ad6534b",
   "metadata": {},
   "source": [
    "# Interpretation of the Hypothesis\n",
    "```\n",
    "The result of the P-value is less than 0.05.\n",
    "\n",
    "Therefore, reject Ho -> Beef consumption in Argentina is not equal to beef consumption in Bangladesh.\n",
    "```"
   ]
  },
  {
   "cell_type": "code",
   "execution_count": null,
   "id": "dd09f807",
   "metadata": {},
   "outputs": [],
   "source": []
  }
 ],
 "metadata": {
  "kernelspec": {
   "display_name": "venv",
   "language": "python",
   "name": "python3"
  },
  "language_info": {
   "codemirror_mode": {
    "name": "ipython",
    "version": 3
   },
   "file_extension": ".py",
   "mimetype": "text/x-python",
   "name": "python",
   "nbconvert_exporter": "python",
   "pygments_lexer": "ipython3",
   "version": "3.13.7"
  }
 },
 "nbformat": 4,
 "nbformat_minor": 5
}
