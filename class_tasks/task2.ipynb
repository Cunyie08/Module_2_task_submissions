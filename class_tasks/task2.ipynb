{
 "cells": [
  {
   "cell_type": "markdown",
   "id": "38ec38b8",
   "metadata": {},
   "source": [
    "## **Class Task 2** ##"
   ]
  },
  {
   "cell_type": "markdown",
   "id": "6092b1be",
   "metadata": {},
   "source": [
    "**Given the following matrices:**\n",
    "\n",
    "``` \n",
    "A = 2  -1   3\n",
    "    0   4   1\n",
    "```\n",
    "``` \n",
    "B =  1   2  \n",
    "    -2   0\n",
    "     5  -3\n",
    "```\n"
   ]
  },
  {
   "cell_type": "markdown",
   "id": "d2a6806a",
   "metadata": {},
   "source": [
    "**A. Identify the number of rows and columns in each matrix.**\n",
    "\n",
    "A = (2 rows, 3 columns) # 2 x 3 matrix\n",
    "\n",
    "B = (3 rows, 2 columns) # 3 x 2 matrix"
   ]
  },
  {
   "cell_type": "markdown",
   "id": "a1c7672f",
   "metadata": {},
   "source": [
    "**B. Determine whether the matrices can be multiplied. If so, specify whether it's (AB), (BA), or both.**\n",
    "\n",
    "i.  The matrices can be multiplied:\n",
    "\n",
    "    A (2, 3), B (3, 2) # The number of columns in A is equal to the number of rows in B. \n",
    "\n",
    "    AB = AB(2 x 2) matrix\n",
    "\n",
    "    B (3, 2), A (2, 3) # The number of columns in B is equal to the number of rows in A. \n",
    "\n",
    "    BA = BA(3 x 3) matrix\n",
    "\n",
    "\n",
    "\n",
    "ii.     AB is a (2 x 2) matrix\n",
    "``` \n",
    "        AB =  [(2x1)+(-1x-2)+(3x5)      (2x2)+(-1x0)+(3x-3)]    =     [19  -5]\n",
    "              [(0x1)+(4x-2)+(1x5)        (0x2)+(4x0)+(1x-3)]     =    [-3  -3]\n",
    "```\n",
    "iii.    BA is a (3 x 3) matrix\n",
    "``` \n",
    "        BA =        [(1x2)+(2x0)    (1x-1)+(2x4)    (1x3)+(2x1)]    =   [2   7   5] \n",
    "                    [(-2x2)+(0x0)   (-2x-1)+(0x4)   (-2x3)+(0x1)]   =   [-4  2  -6]\n",
    "                    [(5x2)+(3x0)    (5x-1)+(-3x4)   (5x3)+(-3x1)]   =   [10 -17  12]\n",
    "```\n",
    "\n",
    "```AB != BA```\n",
    "\n",
    "\n"
   ]
  },
  {
   "cell_type": "markdown",
   "id": "e1391322",
   "metadata": {
    "vscode": {
     "languageId": "plaintext"
    }
   },
   "source": [
    "**C. If the multiplication is defined, compute the resulting matrix. using numpy computation**"
   ]
  },
  {
   "cell_type": "code",
   "execution_count": 1,
   "id": "9b7ad263",
   "metadata": {},
   "outputs": [
    {
     "name": "stdout",
     "output_type": "stream",
     "text": [
      "The result for AB (2x2):\n",
      "[[19 -5]\n",
      " [-3 -3]]\n",
      "The result for BA (3x3):\n",
      "[[  2   7   5]\n",
      " [ -4   2  -6]\n",
      " [ 10 -17  12]]\n"
     ]
    }
   ],
   "source": [
    "# Computing using numpy\n",
    "\n",
    "import numpy as np\n",
    "\n",
    "a = np.array([[2, -1, 3], [0, 4, 1]])\n",
    "b = np.array([[1, 2], [-2, 0], [5, -3]])\n",
    "\n",
    "# multiplying matrices using dot product\n",
    "ab = np.dot(a, b)\n",
    "ba = np.dot(b, a)\n",
    "print(f\"The result for AB (2x2):\\n{ab}\")\n",
    "print(f\"The result for BA (3x3):\\n{ba}\")"
   ]
  }
 ],
 "metadata": {
  "kernelspec": {
   "display_name": ".venv (3.13.6)",
   "language": "python",
   "name": "python3"
  },
  "language_info": {
   "codemirror_mode": {
    "name": "ipython",
    "version": 3
   },
   "file_extension": ".py",
   "mimetype": "text/x-python",
   "name": "python",
   "nbconvert_exporter": "python",
   "pygments_lexer": "ipython3",
   "version": "3.13.6"
  }
 },
 "nbformat": 4,
 "nbformat_minor": 5
}
