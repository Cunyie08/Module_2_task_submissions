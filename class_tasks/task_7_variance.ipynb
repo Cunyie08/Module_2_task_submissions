{
 "cells": [
  {
   "cell_type": "markdown",
   "id": "5eab4409",
   "metadata": {},
   "source": [
    "# **Variance** #"
   ]
  },
  {
   "cell_type": "markdown",
   "id": "c7fbd68e",
   "metadata": {},
   "source": [
    "**Calculate the variance of the data points given these numbers below:**\n",
    "\n",
    "Numbers = ([4, 8, 6, 5, 3])\n",
    "\n",
    "- Variance: (σ²) = Σ(xᵢ - μ)² / n\n",
    "            \n",
    "            xᵢ = values\n",
    "            μ = Mean of values\n",
    "            n = number of values\n",
    "\n",
    "    Mean (μ) = 4 + 8 + 6 + 5 + 3 / 5\n",
    "\n",
    "             = 5.2\n",
    "    \n",
    "    Σ(xᵢ - μ)²  = (4 - 5.2)² + (8 - 5.2)² + (6 - 5.2)² + (5 - 5.2)² + (3 - 5.2)²\n",
    "\n",
    "                = 1.44 + 7.84 + 0.64 + 0.04 + 4.84\n",
    "\n",
    "                = 14.8 \n",
    "    \n",
    "    (σ²)    = 14.8 / 5\n",
    "\n",
    "            = 2.96"
   ]
  },
  {
   "cell_type": "markdown",
   "id": "ea9d75c1",
   "metadata": {},
   "source": [
    "# **Standard Deviation** #"
   ]
  },
  {
   "cell_type": "markdown",
   "id": "fe0ea76a",
   "metadata": {},
   "source": [
    "**1. Calculate the standard variation of the data points given these numbers below:**\n",
    "\n",
    "Numbers = ([4, 8, 6, 5, 3])\n",
    "\n",
    "\n",
    "- Standard deviation: √σ² = √(Σ(xᵢ - μ)² / n)\n",
    "            \n",
    "            xᵢ = values\n",
    "            μ = Mean of values\n",
    "            n = number of values\n",
    "            σ² = variance\n",
    "\n",
    "    Mean (μ) = 4 + 8 + 6 + 5 + 3 / 5\n",
    "\n",
    "             = 5.2\n",
    "    \n",
    "    Σ(xᵢ - μ)²  = (4 - 5.2)² + (8 - 5.2)² + (6 - 5.2)² + (5 - 5.2)² + (3 - 5.2)²\n",
    "\n",
    "                = 1.44 + 7.84 + 0.64 + 0.04 + 4.84\n",
    "\n",
    "                = 14.8 \n",
    "    \n",
    "    (σ²)    = 14.8 / 5\n",
    "\n",
    "            = 2.96\n",
    "\n",
    "    Standard deviation = √2.96\n",
    "\n",
    "                       = 1.72"
   ]
  },
  {
   "cell_type": "markdown",
   "id": "2be8527c",
   "metadata": {},
   "source": [
    "**2. What is the interpretation of the results of your variance and std results?**\n",
    "\n",
    "```\n",
    "The mean of the data points is 5.2.\n",
    "\n",
    "The variance (2.96) and Standard deviation (1.72) are low indicating a low variance and standard deviation which suggests that the data points are closer to the mean.\n",
    "\n",
    "```\n",
    "\n",
    "\n"
   ]
  }
 ],
 "metadata": {
  "language_info": {
   "name": "python"
  }
 },
 "nbformat": 4,
 "nbformat_minor": 5
}
